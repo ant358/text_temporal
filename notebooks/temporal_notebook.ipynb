{
 "cells": [
  {
   "cell_type": "code",
   "execution_count": 1,
   "metadata": {},
   "outputs": [
    {
     "name": "stderr",
     "output_type": "stream",
     "text": [
      "c:\\Users\\AnthonyWynne\\code_workspace\\text_temporal\\venv\\lib\\site-packages\\tqdm\\auto.py:22: TqdmWarning: IProgress not found. Please update jupyter and ipywidgets. See https://ipywidgets.readthedocs.io/en/stable/user_install.html\n",
      "  from .autonotebook import tqdm as notebook_tqdm\n"
     ]
    }
   ],
   "source": [
    "import torch\n",
    "import json \n",
    "import glob\n",
    "# import tqdm\n",
    "import pandas as pd\n",
    "from transformers import AutoTokenizer, AutoModelForTokenClassification\n",
    "from transformers import pipeline"
   ]
  },
  {
   "cell_type": "code",
   "execution_count": 4,
   "metadata": {},
   "outputs": [],
   "source": [
    "model = AutoModelForTokenClassification.from_pretrained('satyaalmasian/temporal_tagger_BERT_tokenclassifier')\n",
    "tokenizer = AutoTokenizer.from_pretrained('satyaalmasian/temporal_tagger_BERT_tokenclassifier')\n",
    "\n",
    "device = torch.device(\"cuda\" if torch.cuda.is_available() else \"cpu\")"
   ]
  },
  {
   "cell_type": "code",
   "execution_count": 5,
   "metadata": {},
   "outputs": [],
   "source": [
    "db_output = {\n",
    "  \"pageId\": \"18160671\",\n",
    "  \"title\": \"1995 NCAA Division I Men's Lacrosse Championship\",\n",
    "  \"text\": \"The 1995 NCAA Division I men's lacrosse tournament was the 25th annual Division I NCAA Men's Lacrosse Championship tournament. Twelve NCAA Division I college men's lacrosse teams met after having played their way through a regular season, and for some, a conference tournament.\\nThe championship game was played at Maryland's home field, Byrd Stadium, in front of 26,229 fans. The game saw Syracuse University defeat University of Maryland by the score of 13–9. Despite the loss, Maryland goalie Brian Dougherty was named the tournament's Most Outstanding Player. Dougherty was outstanding in the semi-finals, showing why he earned the award as Division I goalie of the year, making 23 saves on 59 shots. In the first quarter, Hopkins' attack took 19 shots with Dougherty making 12 saves, allowing Maryland to take a 4-1 first-quarter lead.\\nIn the finals, Maryland led 4 to 2 with a minute left in the first half before the Orange exploded to three straight goals to claim a 5-4 half time lead and that momentum led to the victory. Dougherty again had 23 saves in the finals.\\nDespite being on the losing side, Maryland goalie Brian Dougherty was named most\\noutstanding player. Also honored on the All-Tournament team were Syracuse’s Mark Fietta, Nick Licameli, Rob Kavovit, Ric Beardsley and Casey Powell, as well as Dan Radebaugh, Matt Hahn, Peter Hilgartner and Rob Chomo for the Terrapins.\\nFor the 25th Division I tournament, a 25th anniversary All-time team was selected. This team was nominated and selected based on the voting of all current and past Division I head coaches and all current and past members of the NCAA Men’s Lacrosse Committee. The members of the team, followed by their last year of competition included: Scott Bacigalupo Princeton 1994, Tom Cafaro Army 1971, John DeTomasso Johns Hopkins 1986, Del Dressel Johns Hopkins 1986, Mike Federico Johns Hopkins 1980, Mike French Cornell 1976, Gary Gait Syracuse 1990, Paul Gait Syracuse 1990, Mark Greenberg Johns Hopkins 1980, Tom Haus North Carolina 1980, Chris Kane Cornell 1979, Brad Kotz Syracuse 1985, Richard Kowalchuk Johns Hopkins 1974, Dan MacKesey Cornell 1977, Eamon McEneaney Cornell 1977, David Morrow Princeton 1993, Tim Nelson Syracuse 1985, Mike O’Neill Johns Hopkins 1978, Dave Pietramala Johns Hopkins 1989, Larry Quinn Johns Hopkins 1985, Jonathan Reese Yale 1990, Brendan Schneck Johns Hopkins 1981, Tom Sears North Carolina 1983, Jack Thomas Johns Hopkins 1974, Frank Urso Maryland 1976.\\n\\n\\n== Bracket ==\\n*  =  Overtime\\n\\n\\n=== Box scores ===\\nTournament Finals\\n\\nTournament Semi-finals\\n\\nTournament Quarterfinals\\n\\nTournament First Round\\n\\n\\n== All-Tournament Team ==\\nBrian Dougherty, Maryland (Named the tournament's Most Outstanding Player)\\nMark Fietta, Syracuse\\nNick Licameli, Syracuse\\nRob Kavovit, Syracuse\\nRic Beardsley, Syracuse\\nCasey Powell, Syracuse\\nDan Radebaugh, Maryland\\nMatt Hahn, Maryland\\nPeter Hilgartner, Maryland\\nRob Chomo, Maryland\\n\\n\\n== See also ==\\n1995 NCAA Division I Women's Lacrosse Championship\\n1995 NCAA Division II Lacrosse Championship\\n\\n\\n== References ==\"\n",
    "}"
   ]
  },
  {
   "cell_type": "code",
   "execution_count": null,
   "metadata": {},
   "outputs": [],
   "source": []
  }
 ],
 "metadata": {
  "kernelspec": {
   "display_name": "venv",
   "language": "python",
   "name": "python3"
  },
  "language_info": {
   "codemirror_mode": {
    "name": "ipython",
    "version": 3
   },
   "file_extension": ".py",
   "mimetype": "text/x-python",
   "name": "python",
   "nbconvert_exporter": "python",
   "pygments_lexer": "ipython3",
   "version": "3.9.7"
  },
  "orig_nbformat": 4,
  "vscode": {
   "interpreter": {
    "hash": "0105bf7ee2e394601d98cbdcd0652870161dfa2551359b9541cf65763133aa5e"
   }
  }
 },
 "nbformat": 4,
 "nbformat_minor": 2
}
