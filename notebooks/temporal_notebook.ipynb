{
 "cells": [
  {
   "cell_type": "code",
   "execution_count": 1,
   "metadata": {},
   "outputs": [
    {
     "name": "stderr",
     "output_type": "stream",
     "text": [
      "c:\\Users\\AnthonyWynne\\code_workspace\\text_temporal\\venv\\lib\\site-packages\\tqdm\\auto.py:22: TqdmWarning: IProgress not found. Please update jupyter and ipywidgets. See https://ipywidgets.readthedocs.io/en/stable/user_install.html\n",
      "  from .autonotebook import tqdm as notebook_tqdm\n"
     ]
    }
   ],
   "source": [
    "import torch\n",
    "import os\n",
    "import re\n",
    "from bs4 import BeautifulSoup\n",
    "from transformers import AutoTokenizer, EncoderDecoderModel\n",
    "from nltk.tokenize import sent_tokenize\n",
    "from temporal_taggers.evaluation import clean_predictions"
   ]
  },
  {
   "cell_type": "code",
   "execution_count": 6,
   "metadata": {},
   "outputs": [],
   "source": [
    "\n",
    "def find_timex_in_text(timex_preds, input_text, model_type):\n",
    "    if model_type == \"bert\":\n",
    "        original_paragraph = input_text.lower()\n",
    "    else:\n",
    "        original_paragraph = input_text\n",
    "    end_previous_timex = 0\n",
    "    previous_timex_cleaned_text = \"\"\n",
    "    new_text = \"\"\n",
    "    index = 0\n",
    "    for timex in timex_preds:\n",
    "        cleaned_text = timex.text.replace(\"<\", \"\").replace(\">\", \"\").replace(\"\\\"\", \"\").strip()\n",
    "        # sometimes the cleaned text has \"leftovers\"\n",
    "        if cleaned_text.startswith(\"- \"):\n",
    "            cleaned_text = cleaned_text[2:]\n",
    "\n",
    "        if len(cleaned_text) < 2:\n",
    "            continue\n",
    "\n",
    "        beginning_timex = original_paragraph[end_previous_timex:].find(cleaned_text)\n",
    "        if cleaned_text == \"day\" and beginning_timex != -1 and \\\n",
    "                original_paragraph[beginning_timex - 2:beginning_timex] == \"to\":\n",
    "            cleaned_text = \"today\"\n",
    "            beginning_timex = original_paragraph[end_previous_timex:].find(cleaned_text)\n",
    "\n",
    "        # if the model predicted a full year instead of the last two digits\n",
    "        if beginning_timex == -1 and len(cleaned_text) == 4 and cleaned_text.isdigit():\n",
    "            beginning_timex = original_paragraph[end_previous_timex:].find(cleaned_text[2:])\n",
    "            cleaned_text = cleaned_text[2:].strip()\n",
    "\n",
    "        # if the model predicted full year with an extra repetition\n",
    "        if beginning_timex == -1 and len(cleaned_text) == 6 and cleaned_text.isdigit():\n",
    "            beginning_timex = original_paragraph[end_previous_timex:].find(cleaned_text[:-2])\n",
    "            cleaned_text = cleaned_text[:-2].strip()\n",
    "\n",
    "        # if the first word is repeating\n",
    "        elif beginning_timex == -1 and len(cleaned_text.split(\" \")) > 1 and \\\n",
    "                cleaned_text.split(\" \")[0] == cleaned_text.split(\" \")[1]:\n",
    "            cleaned_text = ' '.join(cleaned_text.split(\" \")[:-1])\n",
    "            beginning_timex = original_paragraph[end_previous_timex:].find(cleaned_text)\n",
    "\n",
    "        # if the first and last word is repeating\n",
    "        elif beginning_timex == -1 and len(cleaned_text.split(\" \")) > 1 and \\\n",
    "                cleaned_text.split(\" \")[0] == cleaned_text.split(\" \")[-1]:\n",
    "            cleaned_text = ' '.join(cleaned_text.split(\" \")[1:])\n",
    "            beginning_timex = original_paragraph[end_previous_timex:].find(cleaned_text)\n",
    "        # if its single word separated by \"-\"\n",
    "        elif beginning_timex == -1 and len(cleaned_text.split(\" \")) < 2 and len(cleaned_text.split(\"-\")) > 1:\n",
    "            for word in cleaned_text.split(\"-\"):\n",
    "                if word in original_paragraph[end_previous_timex:]:\n",
    "                    cleaned_text = word\n",
    "                    beginning_timex = original_paragraph[end_previous_timex:].find(cleaned_text)\n",
    "                    break\n",
    "        # more than one words the first one is a digit\n",
    "        elif beginning_timex == -1 and len(cleaned_text.split(\" \")) < 2 and len(cleaned_text) > 2 and \\\n",
    "                not cleaned_text[:1].isdigit() and cleaned_text[-1].isdigit():\n",
    "            word = cleaned_text[:-1]\n",
    "            if word.lower() in original_paragraph[end_previous_timex:].lower():\n",
    "                cleaned_text = word\n",
    "                beginning_timex = original_paragraph[end_previous_timex:].lower().find(cleaned_text.lower())\n",
    "                break;\n",
    "        # if its just a single word\n",
    "        elif beginning_timex == -1 and len(cleaned_text.split(\" \")) < 2 and len(cleaned_text) > 2 and \\\n",
    "                not cleaned_text[0].isdigit() and cleaned_text[-1].isdigit():\n",
    "            for i in range(2, len(cleaned_text)):\n",
    "                word = cleaned_text[:i]\n",
    "                if \" \" + word + \" \" in original_paragraph[end_previous_timex:] or \\\n",
    "                        \" \" + word + \".\" in original_paragraph[end_previous_timex:] or \\\n",
    "                        \" \" + word + \",\" in original_paragraph[end_previous_timex:]:\n",
    "                    cleaned_text = word\n",
    "                    beginning_timex = original_paragraph[end_previous_timex:].find(cleaned_text)\n",
    "                    break;\n",
    "\n",
    "        # if its just a single word ending with digits\n",
    "        if beginning_timex == -1 and len(cleaned_text.split(\" \")) < 2:\n",
    "            for i in range(2, len(cleaned_text)):\n",
    "                word = cleaned_text[:i]\n",
    "                if \" \" + word + \" \" in original_paragraph[end_previous_timex:] or \\\n",
    "                        \" \" + word + \".\" in original_paragraph[end_previous_timex:] or \\\n",
    "                        \" \" + word + \",\" in original_paragraph[end_previous_timex:]:\n",
    "                    cleaned_text = word\n",
    "                    beginning_timex = original_paragraph[end_previous_timex:].find(cleaned_text)\n",
    "                    break;\n",
    "        # if you can not find it, see if you can match the first word in the multi word one\n",
    "        if beginning_timex == -1 and len(cleaned_text.split(\" \")) > 1:\n",
    "            for word in cleaned_text.split(\" \"):\n",
    "                if word in original_paragraph[end_previous_timex:] and word not in [\"a\", \"-\", \".\", \"the\",\n",
    "                                                                                    \"in\", \"then\", \"'s\",\n",
    "                                                                                    \"have\", \"at\", \"be\"]:\n",
    "                    cleaned_text = word\n",
    "                    beginning_timex = original_paragraph[end_previous_timex:].find(cleaned_text)\n",
    "                    break\n",
    "\n",
    "        if beginning_timex == -1 and cleaned_text.lower() in original_paragraph[\n",
    "                                                             end_previous_timex:].lower():\n",
    "            beginning_timex = original_paragraph[end_previous_timex:].lower().find(cleaned_text.lower())\n",
    "\n",
    "        # avoid tag repetition\n",
    "        if cleaned_text == previous_timex_cleaned_text:\n",
    "            continue\n",
    "\n",
    "        previous_timex_cleaned_text = cleaned_text\n",
    "\n",
    "        # if there is still no match, just forget it.\n",
    "        if beginning_timex == -1:\n",
    "            continue\n",
    "\n",
    "        index = index + 1\n",
    "        beginning_timex = beginning_timex + end_previous_timex\n",
    "        # if the word ended with one of these symbols do not put a space after timex tag\n",
    "        if original_paragraph[beginning_timex - 1:beginning_timex] in [\"\\n\", \"'\", \"-\", \",\", \"\\\"\", \"(\"] or \\\n",
    "                original_paragraph[beginning_timex - 1:beginning_timex].isdigit():\n",
    "            new_text += f'{input_text[end_previous_timex:beginning_timex]}<TIMEX3 tid=\"t{index + 1}\" ' \\\n",
    "                        f'type=\"{timex.attrs[\"type\"].upper()}\" ' \\\n",
    "                        f'value=\"{timex.attrs[\"value\"].strip().replace(\"</timex3>\", \"\").replace(\"<\", \"\").replace(\">\", \"\").replace(\" \", \"\").upper()}\">{input_text[beginning_timex:beginning_timex + len(cleaned_text)]}' \\\n",
    "                        f'</TIMEX3>'\n",
    "\n",
    "        else:  # otherwise put a space\n",
    "            new_text += f'{input_text[end_previous_timex:beginning_timex]} <TIMEX3 tid=\"t{index + 1}\" ' \\\n",
    "                        f'type=\"{timex.attrs[\"type\"].upper()}\" ' \\\n",
    "                        f'value=\"{timex.attrs[\"value\"].strip().replace(\"</timex3>\", \"\").replace(\"<\", \"\").replace(\">\", \"\").replace(\" \", \"\").upper()}\">{input_text[beginning_timex:beginning_timex + len(cleaned_text)]}' \\\n",
    "                        f'</TIMEX3>'\n",
    "\n",
    "        end_previous_timex = beginning_timex + len(cleaned_text)\n",
    "\n",
    "    new_text += input_text[end_previous_timex:]\n",
    "    return new_text"
   ]
  },
  {
   "cell_type": "code",
   "execution_count": 3,
   "metadata": {},
   "outputs": [],
   "source": [
    "# use a difficult dataset to test - in json output the same as the api\n",
    "db_output = {\n",
    "  \"pageId\": \"18160671\",\n",
    "  \"title\": \"1995 NCAA Division I Men's Lacrosse Championship\",\n",
    "  \"text\": \"The 1995 NCAA Division I men's lacrosse tournament was the 25th annual Division I NCAA Men's Lacrosse Championship tournament. Twelve NCAA Division I college men's lacrosse teams met after having played their way through a regular season, and for some, a conference tournament.\\nThe championship game was played at Maryland's home field, Byrd Stadium, in front of 26,229 fans. The game saw Syracuse University defeat University of Maryland by the score of 13–9. Despite the loss, Maryland goalie Brian Dougherty was named the tournament's Most Outstanding Player. Dougherty was outstanding in the semi-finals, showing why he earned the award as Division I goalie of the year, making 23 saves on 59 shots. In the first quarter, Hopkins' attack took 19 shots with Dougherty making 12 saves, allowing Maryland to take a 4-1 first-quarter lead.\\nIn the finals, Maryland led 4 to 2 with a minute left in the first half before the Orange exploded to three straight goals to claim a 5-4 half time lead and that momentum led to the victory. Dougherty again had 23 saves in the finals.\\nDespite being on the losing side, Maryland goalie Brian Dougherty was named most\\noutstanding player. Also honored on the All-Tournament team were Syracuse’s Mark Fietta, Nick Licameli, Rob Kavovit, Ric Beardsley and Casey Powell, as well as Dan Radebaugh, Matt Hahn, Peter Hilgartner and Rob Chomo for the Terrapins.\\nFor the 25th Division I tournament, a 25th anniversary All-time team was selected. This team was nominated and selected based on the voting of all current and past Division I head coaches and all current and past members of the NCAA Men’s Lacrosse Committee. The members of the team, followed by their last year of competition included: Scott Bacigalupo Princeton 1994, Tom Cafaro Army 1971, John DeTomasso Johns Hopkins 1986, Del Dressel Johns Hopkins 1986, Mike Federico Johns Hopkins 1980, Mike French Cornell 1976, Gary Gait Syracuse 1990, Paul Gait Syracuse 1990, Mark Greenberg Johns Hopkins 1980, Tom Haus North Carolina 1980, Chris Kane Cornell 1979, Brad Kotz Syracuse 1985, Richard Kowalchuk Johns Hopkins 1974, Dan MacKesey Cornell 1977, Eamon McEneaney Cornell 1977, David Morrow Princeton 1993, Tim Nelson Syracuse 1985, Mike O’Neill Johns Hopkins 1978, Dave Pietramala Johns Hopkins 1989, Larry Quinn Johns Hopkins 1985, Jonathan Reese Yale 1990, Brendan Schneck Johns Hopkins 1981, Tom Sears North Carolina 1983, Jack Thomas Johns Hopkins 1974, Frank Urso Maryland 1976.\\n\\n\\n== Bracket ==\\n*  =  Overtime\\n\\n\\n=== Box scores ===\\nTournament Finals\\n\\nTournament Semi-finals\\n\\nTournament Quarterfinals\\n\\nTournament First Round\\n\\n\\n== All-Tournament Team ==\\nBrian Dougherty, Maryland (Named the tournament's Most Outstanding Player)\\nMark Fietta, Syracuse\\nNick Licameli, Syracuse\\nRob Kavovit, Syracuse\\nRic Beardsley, Syracuse\\nCasey Powell, Syracuse\\nDan Radebaugh, Maryland\\nMatt Hahn, Maryland\\nPeter Hilgartner, Maryland\\nRob Chomo, Maryland\\n\\n\\n== See also ==\\n1995 NCAA Division I Women's Lacrosse Championship\\n1995 NCAA Division II Lacrosse Championship\\n\\n\\n== References ==\"\n",
    "}"
   ]
  },
  {
   "cell_type": "code",
   "execution_count": 4,
   "metadata": {},
   "outputs": [],
   "source": [
    "model_type = \"roberta\"\n",
    "tokenizer = AutoTokenizer.from_pretrained(\"satyaalmasian/temporal_tagger_roberta2roberta\")\n",
    "model = EncoderDecoderModel.from_pretrained(\"satyaalmasian/temporal_tagger_roberta2roberta\")\n"
   ]
  },
  {
   "cell_type": "code",
   "execution_count": 8,
   "metadata": {},
   "outputs": [],
   "source": [
    "# From documentation\n",
    "# --- if you want to use the bert model, uncomment the following lines\n",
    "# model_type=\"bert\"\n",
    "# tokenizer = AutoTokenizer.from_pretrained(\"satyaalmasian/temporal_tagger_bert2bert\")\n",
    "# model = EncoderDecoderModel.from_pretrained(\"satyaalmasian/temporal_tagger_bert2bert\")\n",
    "\n",
    "input_texts = [\"I lived in New York for 10 years.\"]\n",
    "input_texts += [\"Cumbre Vieja last erupted in 1971 and in 1949.\"]\n",
    "input_texts += [\"The club's founding date, 15 January, was intentional.\"]\n",
    "input_texts += [\"Police were first called to the scene just after 7.25am this morning, Sunday, September 19, \"\n",
    "                \"and have confirmed they will continue to remain in the area for some time.\"]\n"
   ]
  },
  {
   "cell_type": "code",
   "execution_count": 9,
   "metadata": {},
   "outputs": [
    {
     "name": "stderr",
     "output_type": "stream",
     "text": [
      "c:\\Users\\AnthonyWynne\\code_workspace\\text_temporal\\venv\\lib\\site-packages\\transformers\\generation\\utils.py:1387: UserWarning: Neither `max_length` nor `max_new_tokens` has been set, `max_length` will default to 512 (`self.config.max_length`). Controlling `max_length` via the config is deprecated and `max_length` will be removed from the config in v5 of Transformers -- we recommend using `max_new_tokens` to control the maximum length of the generation.\n",
      "  warnings.warn(\n"
     ]
    },
    {
     "name": "stdout",
     "output_type": "stream",
     "text": [
      "I lived in New York for  <TIMEX3 tid=\"t2\" type=\"DURATION\" value=\"P10Y\">10 years</TIMEX3>.\n",
      "Cumbre Vieja last erupted in  <TIMEX3 tid=\"t2\" type=\"DATE\" value=\"1971-XX\">1971</TIMEX3> and in 1949.\n",
      "The club's founding date,  <TIMEX3 tid=\"t2\" type=\"DATE\" value=\"1999-01-15\">15</TIMEX3> January, was intentional.\n",
      "Police were first called to the scene just after  <TIMEX3 tid=\"t2\" type=\"TIME\" value=\"1998-09-21T19:00\">7.25am this morning, Sunday, September 19</TIMEX3>, and have confirmed they will continue to remain in the area for some time.\n"
     ]
    }
   ],
   "source": [
    "# from the documentation\n",
    "for input_text in input_texts:\n",
    "    model_inputs = tokenizer(input_text, truncation=True, return_tensors=\"pt\")\n",
    "    out = model.generate(**model_inputs)\n",
    "    decoded_preds = tokenizer.batch_decode(out, skip_special_tokens=True)\n",
    "    pred_soup = BeautifulSoup(clean_predictions(decoded_preds[0]), \"lxml\")\n",
    "    timex_preds = pred_soup.findAll(\"timex3\")\n",
    "    new_text = find_timex_in_text(timex_preds, input_text, model_type)\n",
    "    print(new_text)"
   ]
  },
  {
   "attachments": {},
   "cell_type": "markdown",
   "metadata": {},
   "source": [
    "## Using the model as described in the paper\n",
    "In the first sentence the model understood the duration and tagged it as a DURATION.\n",
    "The model picked up the first year in the second sentence but missed the second year in the second sentence  \n",
    "In the third sentence the model translated the number 15 followed by the month name to a date. But it made up a year of 1999. \n",
    "In the fourth sentence the model translated the time incorrectly missing the am and it made up a year of 1998.\n",
    "\n",
    "Not very reliable. But it is a start."
   ]
  },
  {
   "cell_type": "code",
   "execution_count": 5,
   "metadata": {},
   "outputs": [],
   "source": [
    "# the model needs sentence at a time, so for our longer text we need to split it into sentences\n",
    "# split the text into sentences\n",
    "sentences = sent_tokenize(db_output[\"text\"])\n"
   ]
  },
  {
   "cell_type": "code",
   "execution_count": 7,
   "metadata": {},
   "outputs": [
    {
     "data": {
      "text/plain": [
       "[\"The 1995 NCAA Division I men's lacrosse tournament was the 25th annual Division I NCAA Men's Lacrosse Championship tournament.\",\n",
       " \"Twelve NCAA Division I college men's lacrosse teams met after having played their way through a regular season, and for some, a conference tournament.\",\n",
       " \"The championship game was played at Maryland's home field, Byrd Stadium, in front of 26,229 fans.\",\n",
       " 'The game saw Syracuse University defeat University of Maryland by the score of 13–9.',\n",
       " \"Despite the loss, Maryland goalie Brian Dougherty was named the tournament's Most Outstanding Player.\",\n",
       " 'Dougherty was outstanding in the semi-finals, showing why he earned the award as Division I goalie of the year, making 23 saves on 59 shots.',\n",
       " \"In the first quarter, Hopkins' attack took 19 shots with Dougherty making 12 saves, allowing Maryland to take a 4-1 first-quarter lead.\",\n",
       " 'In the finals, Maryland led 4 to 2 with a minute left in the first half before the Orange exploded to three straight goals to claim a 5-4 half time lead and that momentum led to the victory.',\n",
       " 'Dougherty again had 23 saves in the finals.',\n",
       " 'Despite being on the losing side, Maryland goalie Brian Dougherty was named most\\noutstanding player.',\n",
       " 'Also honored on the All-Tournament team were Syracuse’s Mark Fietta, Nick Licameli, Rob Kavovit, Ric Beardsley and Casey Powell, as well as Dan Radebaugh, Matt Hahn, Peter Hilgartner and Rob Chomo for the Terrapins.',\n",
       " 'For the 25th Division I tournament, a 25th anniversary All-time team was selected.',\n",
       " 'This team was nominated and selected based on the voting of all current and past Division I head coaches and all current and past members of the NCAA Men’s Lacrosse Committee.',\n",
       " 'The members of the team, followed by their last year of competition included: Scott Bacigalupo Princeton 1994, Tom Cafaro Army 1971, John DeTomasso Johns Hopkins 1986, Del Dressel Johns Hopkins 1986, Mike Federico Johns Hopkins 1980, Mike French Cornell 1976, Gary Gait Syracuse 1990, Paul Gait Syracuse 1990, Mark Greenberg Johns Hopkins 1980, Tom Haus North Carolina 1980, Chris Kane Cornell 1979, Brad Kotz Syracuse 1985, Richard Kowalchuk Johns Hopkins 1974, Dan MacKesey Cornell 1977, Eamon McEneaney Cornell 1977, David Morrow Princeton 1993, Tim Nelson Syracuse 1985, Mike O’Neill Johns Hopkins 1978, Dave Pietramala Johns Hopkins 1989, Larry Quinn Johns Hopkins 1985, Jonathan Reese Yale 1990, Brendan Schneck Johns Hopkins 1981, Tom Sears North Carolina 1983, Jack Thomas Johns Hopkins 1974, Frank Urso Maryland 1976.',\n",
       " \"== Bracket ==\\n*  =  Overtime\\n\\n\\n=== Box scores ===\\nTournament Finals\\n\\nTournament Semi-finals\\n\\nTournament Quarterfinals\\n\\nTournament First Round\\n\\n\\n== All-Tournament Team ==\\nBrian Dougherty, Maryland (Named the tournament's Most Outstanding Player)\\nMark Fietta, Syracuse\\nNick Licameli, Syracuse\\nRob Kavovit, Syracuse\\nRic Beardsley, Syracuse\\nCasey Powell, Syracuse\\nDan Radebaugh, Maryland\\nMatt Hahn, Maryland\\nPeter Hilgartner, Maryland\\nRob Chomo, Maryland\\n\\n\\n== See also ==\\n1995 NCAA Division I Women's Lacrosse Championship\\n1995 NCAA Division II Lacrosse Championship\\n\\n\\n== References ==\"]"
      ]
     },
     "execution_count": 7,
     "metadata": {},
     "output_type": "execute_result"
    }
   ],
   "source": [
    "sentences"
   ]
  },
  {
   "cell_type": "code",
   "execution_count": 10,
   "metadata": {},
   "outputs": [
    {
     "name": "stderr",
     "output_type": "stream",
     "text": [
      "c:\\Users\\AnthonyWynne\\code_workspace\\text_temporal\\venv\\lib\\site-packages\\transformers\\generation\\utils.py:1387: UserWarning: Neither `max_length` nor `max_new_tokens` has been set, `max_length` will default to 512 (`self.config.max_length`). Controlling `max_length` via the config is deprecated and `max_length` will be removed from the config in v5 of Transformers -- we recommend using `max_new_tokens` to control the maximum length of the generation.\n",
      "  warnings.warn(\n"
     ]
    },
    {
     "name": "stdout",
     "output_type": "stream",
     "text": [
      "The  <TIMEX3 tid=\"t2\" type=\"DATE\" value=\"1995\">1995</TIMEX3> NCAA Division I men's lacrosse tournament was the 25th annual Division I NCAA Men's Lacrosse Championship tournament.\n",
      "Twelve NCAA Division I college men's lacrosse teams met after having played their way through a regular season, and for some, a conference tournament.\n",
      "The championship game was played at Maryland's home field, Byrd Stadium, in front of 26,229 fans.\n",
      "The game saw Syracuse University defeat University of Maryland by the score of 13–9.\n",
      " <TIMEX3 tid=\"t2\" type=\"DATE\" value=\"FUTURE_REF\">Despite</TIMEX3> the loss, Maryland goalie Brian Dougherty was named the tournament's Most Outstanding Player.\n",
      "Dougherty was outstanding in the semi-finals, showing why he earned the award as Division I goalie of the  <TIMEX3 tid=\"t2\" type=\"DATE\" value=\"1989-10-25\">year</TIMEX3>, making 23 saves on 59 shots.\n",
      "In  <TIMEX3 tid=\"t2\" type=\"DATE\" value=\"1989-Q1\">the first quarter</TIMEX3>, Hopkins' attack took 19 shots with Dougherty making 12 saves, allowing Maryland to take a 4-1 first-quarter lead.\n",
      "In the finals, Maryland led 4 to 2 with a minute left in  <TIMEX3 tid=\"t2\" type=\"DATE\" value=\"BC0490-H1\">the first half</TIMEX3> before the Orange exploded to three straight goals to claim a 5-4 half time lead and that momentum led to the victory.\n",
      "Dougherty again had 23 saves in the finals.\n",
      "Despite being on the losing side, Maryland goalie Brian Dougherty was named most\n",
      "<TIMEX3 tid=\"t2\" type=\"DATE\" value=\"1998-11-02\">outstanding</TIMEX3> player.\n",
      "Also honored on the All-Tournament team were Syracuse’s Mark Fietta, Nick Licameli, Rob Kavovit, Ric Beardsley and Casey Powell, as well as Dan Radebaugh, Matt Hahn, Peter Hilgartner and Rob Chomo for the Terrapins.\n",
      "For the 25th Division I tournament, a 25th  <TIMEX3 tid=\"t2\" type=\"DATE\" value=\"1998-11-21\">anniversary</TIMEX3> All-time team was selected.\n",
      "This team was nominated and selected based on the voting of all  <TIMEX3 tid=\"t2\" type=\"DATE\" value=\"PRESENT_REF\">current</TIMEX3> and past Division I head coaches and all current and past members of the NCAA Men’s Lacrosse Committee.\n",
      "The members of the team, followed by their last year of competition included: Scott Bacigalupo Princeton  <TIMEX3 tid=\"t2\" type=\"DATE\" value=\"1994\">1994</TIMEX3>, Tom Cafaro Army 1971, John DeTomasso Johns Hopkins 1986, Del Dressel Johns Hopkins 1986, Mike Federico Johns Hopkins 1980, Mike French Cornell 1976, Gary Gait Syracuse 1990, Paul Gait Syracuse 1990, Mark Greenberg Johns Hopkins 1980, Tom Haus North Carolina 1980, Chris Kane Cornell 1979, Brad Kotz Syracuse 1985, Richard Kowalchuk Johns Hopkins 1974, Dan MacKesey Cornell 1977, Eamon McEneaney Cornell 1977, David Morrow Princeton 1993, Tim Nelson Syracuse 1985, Mike O’Neill Johns Hopkins 1978, Dave Pietramala Johns Hopkins 1989, Larry Quinn Johns Hopkins 1985, Jonathan Reese Yale 1990, Brendan Schneck Johns Hopkins 1981, Tom Sears North Carolina 1983, Jack Thomas Johns Hopkins 1974, Frank Urso Maryland 1976.\n",
      "== Bracket ==\n",
      "*  =  Overtime\n",
      "\n",
      "\n",
      "=== Box scores ===\n",
      "Tournament Finals\n",
      "\n",
      "Tournament Semi-finals\n",
      "\n",
      "Tournament Quarterfinals\n",
      "\n",
      "Tournament First Round\n",
      "\n",
      "\n",
      "== All-Tournament Team ==\n",
      "Brian Dougherty, Maryland (Named the tournament's Most Outstanding Player)\n",
      "Mark Fietta, Syracuse\n",
      "Nick Licameli, Syracuse\n",
      "Rob Kavovit, Syracuse\n",
      "Ric Beardsley, Syracuse\n",
      "Casey Powell, Syracuse\n",
      "Dan Radebaugh, Maryland\n",
      "Matt Hahn, Maryland\n",
      "Peter Hilgartner, Maryland\n",
      "Rob Chomo, Maryland\n",
      "\n",
      "\n",
      "== See also ==\n",
      "199<TIMEX3 tid=\"t2\" type=\"TIME\" value=\"2014-08-30TNI\">5</TIMEX3> NCAA Division I Women's Lacrosse Championship\n",
      "1995 NCAA Division II Lacrosse Championship\n",
      "\n",
      "\n",
      "== References ==\n"
     ]
    }
   ],
   "source": [
    "for sentence in sentences:\n",
    "    model_inputs = tokenizer(sentence, truncation=True, return_tensors=\"pt\")\n",
    "    out = model.generate(**model_inputs)\n",
    "    decoded_preds = tokenizer.batch_decode(out, skip_special_tokens=True)\n",
    "    pred_soup = BeautifulSoup(clean_predictions(decoded_preds[0]), \"lxml\")\n",
    "    timex_preds = pred_soup.findAll(\"timex3\")\n",
    "    new_text = find_timex_in_text(timex_preds, sentence, model_type)\n",
    "    print(new_text)\n"
   ]
  },
  {
   "attachments": {},
   "cell_type": "markdown",
   "metadata": {},
   "source": [
    "The model is only catching the first time reference ine each sentence."
   ]
  },
  {
   "cell_type": "code",
   "execution_count": 11,
   "metadata": {},
   "outputs": [
    {
     "data": {
      "text/plain": [
       "[<timex3 type=\"TIME\" value=\"2014-08-30TNI\"> 5 = 8 Overtime </timex3>]"
      ]
     },
     "execution_count": 11,
     "metadata": {},
     "output_type": "execute_result"
    }
   ],
   "source": [
    "# what does the time pred alone look like?\n",
    "timex_preds"
   ]
  },
  {
   "cell_type": "code",
   "execution_count": 12,
   "metadata": {},
   "outputs": [],
   "source": [
    "# split the text into pieces less than 512 tokens\n",
    "\n",
    "def split_text(text, max_length=512):\n",
    "    \"\"\"\n",
    "    Split the text into pieces less than max_length\n",
    "    \"\"\"\n",
    "    return [text[i:i + max_length] for i in range(0, len(text), max_length)]\n",
    "\n"
   ]
  },
  {
   "cell_type": "code",
   "execution_count": 13,
   "metadata": {},
   "outputs": [],
   "source": [
    "x = split_text(db_output[\"text\"])"
   ]
  },
  {
   "cell_type": "code",
   "execution_count": 14,
   "metadata": {},
   "outputs": [
    {
     "data": {
      "text/plain": [
       "[\"The 1995 NCAA Division I men's lacrosse tournament was the 25th annual Division I NCAA Men's Lacrosse Championship tournament. Twelve NCAA Division I college men's lacrosse teams met after having played their way through a regular season, and for some, a conference tournament.\\nThe championship game was played at Maryland's home field, Byrd Stadium, in front of 26,229 fans. The game saw Syracuse University defeat University of Maryland by the score of 13–9. Despite the loss, Maryland goalie Brian Dougherty w\",\n",
       " \"as named the tournament's Most Outstanding Player. Dougherty was outstanding in the semi-finals, showing why he earned the award as Division I goalie of the year, making 23 saves on 59 shots. In the first quarter, Hopkins' attack took 19 shots with Dougherty making 12 saves, allowing Maryland to take a 4-1 first-quarter lead.\\nIn the finals, Maryland led 4 to 2 with a minute left in the first half before the Orange exploded to three straight goals to claim a 5-4 half time lead and that momentum led to the vi\",\n",
       " 'ctory. Dougherty again had 23 saves in the finals.\\nDespite being on the losing side, Maryland goalie Brian Dougherty was named most\\noutstanding player. Also honored on the All-Tournament team were Syracuse’s Mark Fietta, Nick Licameli, Rob Kavovit, Ric Beardsley and Casey Powell, as well as Dan Radebaugh, Matt Hahn, Peter Hilgartner and Rob Chomo for the Terrapins.\\nFor the 25th Division I tournament, a 25th anniversary All-time team was selected. This team was nominated and selected based on the voting of a',\n",
       " 'll current and past Division I head coaches and all current and past members of the NCAA Men’s Lacrosse Committee. The members of the team, followed by their last year of competition included: Scott Bacigalupo Princeton 1994, Tom Cafaro Army 1971, John DeTomasso Johns Hopkins 1986, Del Dressel Johns Hopkins 1986, Mike Federico Johns Hopkins 1980, Mike French Cornell 1976, Gary Gait Syracuse 1990, Paul Gait Syracuse 1990, Mark Greenberg Johns Hopkins 1980, Tom Haus North Carolina 1980, Chris Kane Cornell 197',\n",
       " '9, Brad Kotz Syracuse 1985, Richard Kowalchuk Johns Hopkins 1974, Dan MacKesey Cornell 1977, Eamon McEneaney Cornell 1977, David Morrow Princeton 1993, Tim Nelson Syracuse 1985, Mike O’Neill Johns Hopkins 1978, Dave Pietramala Johns Hopkins 1989, Larry Quinn Johns Hopkins 1985, Jonathan Reese Yale 1990, Brendan Schneck Johns Hopkins 1981, Tom Sears North Carolina 1983, Jack Thomas Johns Hopkins 1974, Frank Urso Maryland 1976.\\n\\n\\n== Bracket ==\\n*  =  Overtime\\n\\n\\n=== Box scores ===\\nTournament Finals\\n\\nTournament ',\n",
       " \"Semi-finals\\n\\nTournament Quarterfinals\\n\\nTournament First Round\\n\\n\\n== All-Tournament Team ==\\nBrian Dougherty, Maryland (Named the tournament's Most Outstanding Player)\\nMark Fietta, Syracuse\\nNick Licameli, Syracuse\\nRob Kavovit, Syracuse\\nRic Beardsley, Syracuse\\nCasey Powell, Syracuse\\nDan Radebaugh, Maryland\\nMatt Hahn, Maryland\\nPeter Hilgartner, Maryland\\nRob Chomo, Maryland\\n\\n\\n== See also ==\\n1995 NCAA Division I Women's Lacrosse Championship\\n1995 NCAA Division II Lacrosse Championship\\n\\n\\n== References ==\"]"
      ]
     },
     "execution_count": 14,
     "metadata": {},
     "output_type": "execute_result"
    }
   ],
   "source": [
    "x"
   ]
  },
  {
   "cell_type": "code",
   "execution_count": 15,
   "metadata": {},
   "outputs": [],
   "source": [
    "# split the text into 500 word chunks, the method above split the words\n",
    "\n",
    "def split_text(text, max_length=10):\n",
    "    \"\"\"\n",
    "    Split the text into pieces less than max_length\n",
    "    \"\"\"\n",
    "    return [text[i:i + max_length] for i in range(0, len(text), max_length)]\n"
   ]
  },
  {
   "cell_type": "code",
   "execution_count": 16,
   "metadata": {},
   "outputs": [],
   "source": [
    "chunks = split_text(db_output[\"text\"])"
   ]
  },
  {
   "cell_type": "code",
   "execution_count": 17,
   "metadata": {},
   "outputs": [
    {
     "name": "stdout",
     "output_type": "stream",
     "text": [
      "The  <TIMEX3 tid=\"t2\" type=\"DATE\" value=\"1995-XX\">1995</TIMEX3> N\n",
      "C <TIMEX3 tid=\"t2\" type=\"DATE\" value=\"2013-03-31\">AA</TIMEX3> Divisi\n",
      "on I men's\n",
      " lacrosse \n",
      "tournament\n",
      "  <TIMEX3 tid=\"t2\" type=\"DATE\" value=\"2015-02-04\">was the 2</TIMEX3>\n",
      "5th  <TIMEX3 tid=\"t2\" type=\"SET\" value=\"P1Y\">annual</TIMEX3>\n",
      " Division \n",
      "I NCAA Men\n",
      "'s Lacross\n",
      "e  <TIMEX3 tid=\"t2\" type=\"DATE\" value=\"2015-04-23\">Champion</TIMEX3>\n",
      "ship  <TIMEX3 tid=\"t2\" type=\"DATE\" value=\"2013-05-06\">tourn</TIMEX3>\n",
      "ament. Twe\n",
      "lve NCAA  <TIMEX3 tid=\"t2\" type=\"DATE\" value=\"2014-03-23\">D</TIMEX3>\n",
      "ivision I \n",
      "college  <TIMEX3 tid=\"t2\" type=\"DATE\" value=\"2015-03-23\">me</TIMEX3>\n",
      " <TIMEX3 tid=\"t2\" type=\"DURATION\" value=\"P1L\">n's</TIMEX3> lacros\n",
      "se tea <TIMEX3 tid=\"t2\" type=\"DATE\" value=\"2013-11-23\">m</TIMEX3>s m\n",
      "et  <TIMEX3 tid=\"t2\" type=\"DATE\" value=\"2014-08-04\">after h</TIMEX3>\n",
      "aving play\n",
      "ed their  <TIMEX3 tid=\"t2\" type=\"DATE\" value=\"2014-08-04\">w</TIMEX3>\n",
      " <TIMEX3 tid=\"t2\" type=\"DATE\" value=\"2014-06-07\">ay</TIMEX3> through\n",
      "  <TIMEX3 tid=\"t2\" type=\"SET\" value=\"P1M\">a regular</TIMEX3>\n",
      "  <TIMEX3 tid=\"t2\" type=\"DATE\" value=\"2014-07-17\">season,</TIMEX3> a\n",
      "nd for  <TIMEX3 tid=\"t2\" type=\"DATE\" value=\"2015-01-25\">som</TIMEX3>\n",
      "e <TIMEX3 tid=\"t2\" type=\"DATE\" value=\"2015-03-23\">,</TIMEX3> a confe\n",
      "rence  <TIMEX3 tid=\"t2\" type=\"DATE\" value=\"2014-08-15\">tour</TIMEX3>\n",
      "nament.\n",
      "Th\n",
      "e champion\n",
      "sh <TIMEX3 tid=\"t2\" type=\"DATE\" value=\"2014-09-31\">i</TIMEX3>p game \n",
      "was  <TIMEX3 tid=\"t2\" type=\"DATE\" value=\"2014-09-08\">played</TIMEX3>\n",
      " at Maryla\n",
      "nd's  <TIMEX3 tid=\"t2\" type=\"DATE\" value=\"2013-04-23\">home</TIMEX3> \n",
      "field, Byr\n",
      "d Stadium,\n",
      " in front \n",
      "of 26,229 \n",
      "fans. The \n",
      "game saw S\n",
      "yracuse Un\n",
      "iversity d\n",
      "efeat Univ\n",
      "ersity of \n",
      "Maryland  <TIMEX3 tid=\"t2\" type=\"DATE\" value=\"2014-07-11\">b</TIMEX3>\n",
      "y the  <TIMEX3 tid=\"t2\" type=\"DATE\" value=\"2013-04-23\">scor</TIMEX3>\n",
      "e of 13–9.\n",
      " Despi <TIMEX3 tid=\"t2\" type=\"DATE\" value=\"2014-10-25\">t</TIMEX3>e t\n",
      "he loss, M\n",
      " <TIMEX3 tid=\"t2\" type=\"DATE\" value=\"2015-03-30\">ary</TIMEX3>land go\n",
      "alie Brian\n",
      "  <TIMEX3 tid=\"t2\" type=\"DATE\" value=\"1998-11\">Dougherty</TIMEX3>\n",
      "  <TIMEX3 tid=\"t2\" type=\"DATE\" value=\"2015-02-11\">was named</TIMEX3>\n",
      " the  <TIMEX3 tid=\"t2\" type=\"DATE\" value=\"2013-08-06\">tourn</TIMEX3>\n",
      "ament's  <TIMEX3 tid=\"t2\" type=\"DATE\" value=\"2014-07-11\">Mo</TIMEX3>\n",
      "st  <TIMEX3 tid=\"t2\" type=\"DATE\" value=\"2014-11-01\">Outstan</TIMEX3>\n",
      " <TIMEX3 tid=\"t2\" type=\"DATE\" value=\"2014-08-07\">ding</TIMEX3> Playe\n",
      "r. Dougher\n",
      "ty was  <TIMEX3 tid=\"t2\" type=\"DATE\" value=\"2014-11-04\">out</TIMEX3>\n",
      "standing i\n",
      "n the semi\n",
      "-finals, s\n",
      "howing why\n",
      " he earned\n",
      " the  <TIMEX3 tid=\"t2\" type=\"DATE\" value=\"2015-08-11\">award</TIMEX3>\n",
      "  <TIMEX3 tid=\"t2\" type=\"DATE\" value=\"2013-12-25\">as</TIMEX3> Divisi\n",
      "on I goal <TIMEX3 tid=\"t2\" type=\"DATE\" value=\"2014-03-16-WXX-2\">i</TIMEX3>\n",
      "e of the y\n",
      "ear,  <TIMEX3 tid=\"t2\" type=\"DATE\" value=\"2013-11-13\">makin</TIMEX3>\n",
      "g 23 saves\n",
      " on  <TIMEX3 tid=\"t2\" type=\"DATE\" value=\"2014-01-07\">59</TIMEX3> sho\n",
      "ts. In  <TIMEX3 tid=\"t2\" type=\"DATE\" value=\"2015-02-08\">the</TIMEX3>\n",
      "  <TIMEX3 tid=\"t2\" type=\"DATE\" value=\"PAST_REF\">first</TIMEX3> qua\n",
      " <TIMEX3 tid=\"t2\" type=\"DATE\" value=\"1730-03-30\">rter</TIMEX3>, Hopk\n",
      "ins' attac\n",
      "k took 19 \n",
      "shots with\n",
      "  <TIMEX3 tid=\"t2\" type=\"DATE\" value=\"1998-11\">Dougherty</TIMEX3>\n",
      " making 12\n",
      "  <TIMEX3 tid=\"t2\" type=\"DATE\" value=\"2015-02-15\">saves</TIMEX3>, al\n",
      "lowing Mar\n",
      "yland  <TIMEX3 tid=\"t2\" type=\"DATE\" value=\"2015-03-23\">t</TIMEX3>o t\n",
      "ake a 4-1 \n",
      " <TIMEX3 tid=\"t2\" type=\"DATE\" value=\"PAST_REF\">first-quar</TIMEX3>\n",
      "ter lead.\n",
      "\n",
      "In the  <TIMEX3 tid=\"t2\" type=\"DATE\" value=\"1998-10\">fin</TIMEX3>\n",
      "als, Maryl\n",
      "and led 4 \n",
      "to 2 with \n",
      "a  <TIMEX3 tid=\"t2\" type=\"DURATION\" value=\"PT1M\">minute</TIMEX3> l\n",
      "eft in the\n",
      "  <TIMEX3 tid=\"t2\" type=\"DATE\" value=\"P1H\">first hal</TIMEX3>\n",
      "f before  <TIMEX3 tid=\"t2\" type=\"DATE\" value=\"2015-03-23\">t</TIMEX3>\n",
      "he Orange \n",
      "exploded t\n",
      "o three  <TIMEX3 tid=\"t2\" type=\"DATE\" value=\"2015-03-10\">st</TIMEX3>\n",
      " <TIMEX3 tid=\"t2\" type=\"TIME\" value=\"2014-11-03TNI\">raight</TIMEX3> goa\n",
      "ls to clai\n",
      "m a  <TIMEX3 tid=\"t2\" type=\"TIME\" value=\"2014-04-23T05:00\">5-4</TIMEX3> ha\n",
      "lf time le\n",
      "ad and  <TIMEX3 tid=\"t2\" type=\"DATE\" value=\"2015-03-23\">tha</TIMEX3>\n",
      "t  <TIMEX3 tid=\"t2\" type=\"DATE\" value=\"2014-09\">momentum</TIMEX3>\n",
      " led to th\n",
      " <TIMEX3 tid=\"t2\" type=\"DATE\" value=\"2014-FA\">e</TIMEX3> victory.\n",
      "  <TIMEX3 tid=\"t2\" type=\"DATE\" value=\"1998-11\">Dougherty</TIMEX3>\n",
      " again had\n",
      "  <TIMEX3 tid=\"t2\" type=\"DATE\" value=\"1998-11-23\">23</TIMEX3> saves \n",
      "in the fin\n",
      "als.\n",
      "Despi\n",
      "te being o\n",
      "n the losi\n",
      "ng side, M\n",
      " <TIMEX3 tid=\"t2\" type=\"DATE\" value=\"2015-03-30\">ary</TIMEX3>land go\n",
      "alie Brian\n",
      "  <TIMEX3 tid=\"t2\" type=\"DATE\" value=\"1998-11\">Dougherty</TIMEX3>\n",
      "  <TIMEX3 tid=\"t2\" type=\"DATE\" value=\"2015-02-11\">was named</TIMEX3>\n",
      " most\n",
      "outs\n",
      "tanding pl\n",
      "ayer. Also\n",
      " honored o\n",
      "n the  <TIMEX3 tid=\"t2\" type=\"DURATION\" value=\"P8D\">All</TIMEX3>-\n",
      "Tournament\n",
      " team were\n",
      " Syracuse’\n",
      "s  <TIMEX3 tid=\"t2\" type=\"DATE\" value=\"2014-10-25\">Mark</TIMEX3> Fie\n",
      "tta, Nick \n",
      "Licameli, \n",
      "Rob Kavovi\n",
      "t, Ric  <TIMEX3 tid=\"t2\" type=\"DATE\" value=\"2014-09-21\">Be</TIMEX3>a\n",
      "rdsley and\n",
      " Casey  <TIMEX3 tid=\"t2\" type=\"DATE\" value=\"2014-11-23\">Pow</TIMEX3>\n",
      "ell, as we\n",
      "ll as  <TIMEX3 tid=\"t2\" type=\"DATE\" value=\"2013-11-12\">Dan</TIMEX3> \n",
      "Radebaugh,\n",
      " Matt  <TIMEX3 tid=\"t2\" type=\"DATE\" value=\"2013-11-23\">H</TIMEX3>ahn\n",
      ", Peter  <TIMEX3 tid=\"t2\" type=\"DATE\" value=\"2014-05-10\">Hi</TIMEX3>\n",
      "lgartner a\n",
      "nd Rob  <TIMEX3 tid=\"t2\" type=\"DATE\" value=\"2014-07-04\">Cho</TIMEX3>\n",
      "mo for the\n",
      "  <TIMEX3 tid=\"t2\" type=\"DATE\" value=\"1998-11-23\">Terrapins</TIMEX3>\n",
      ".\n",
      "For the \n",
      " <TIMEX3 tid=\"t2\" type=\"DATE\" value=\"1998-05-25\">25th</TIMEX3> Divis\n",
      " <TIMEX3 tid=\"t2\" type=\"DATE\" value=\"2013-08-16\">ion</TIMEX3> I tour\n",
      "nament, a \n",
      " <TIMEX3 tid=\"t2\" type=\"DATE\" value=\"2014-11-25\">25th</TIMEX3> anniv\n",
      "ersary  <TIMEX3 tid=\"t2\" type=\"DATE\" value=\"2015-05-23\">All</TIMEX3>\n",
      "-time team\n",
      "  <TIMEX3 tid=\"t2\" type=\"DATE\" value=\"2014-09-01\">was selec</TIMEX3>\n",
      "ted. This \n",
      "team was  <TIMEX3 tid=\"t2\" type=\"DATE\" value=\"2015-02-14\">n</TIMEX3>\n",
      "ominated a\n",
      " <TIMEX3 tid=\"t2\" type=\"DATE\" value=\"2014-07-23\">nd</TIMEX3> selecte\n",
      "d based on\n",
      " the  <TIMEX3 tid=\"t2\" type=\"DATE\" value=\"2013-12-25\">votin</TIMEX3>\n",
      "g of all c\n",
      " <TIMEX3 tid=\"t2\" type=\"DATE\" value=\"2015-02-21\">urrent</TIMEX3> and\n",
      "  <TIMEX3 tid=\"t2\" type=\"DATE\" value=\"PAST_REF\">past</TIMEX3> Divi\n",
      "sion I hea\n",
      "d coaches \n",
      "and all cu\n",
      "rrent and \n",
      " <TIMEX3 tid=\"t2\" type=\"DATE\" value=\"PAST_REF\">past</TIMEX3> membe\n",
      "rs of the \n",
      "NCAA Men’s\n",
      " Lacrosse \n",
      "Committee.\n",
      " The membe\n",
      "rs of the \n",
      "team <TIMEX3 tid=\"t2\" type=\"DATE\" value=\"2015-04-23\">, foll</TIMEX3>\n",
      "owed by th\n",
      "eir  <TIMEX3 tid=\"t2\" type=\"DATE\" value=\"2014-03-23\">last y</TIMEX3>\n",
      "ear of com\n",
      "petition i\n"
     ]
    },
    {
     "ename": "KeyboardInterrupt",
     "evalue": "",
     "output_type": "error",
     "traceback": [
      "\u001b[1;31m---------------------------------------------------------------------------\u001b[0m",
      "\u001b[1;31mKeyboardInterrupt\u001b[0m                         Traceback (most recent call last)",
      "Cell \u001b[1;32mIn[17], line 3\u001b[0m\n\u001b[0;32m      1\u001b[0m \u001b[39mfor\u001b[39;00m chunk \u001b[39min\u001b[39;00m chunks:\n\u001b[0;32m      2\u001b[0m     model_inputs \u001b[39m=\u001b[39m tokenizer(chunk, truncation\u001b[39m=\u001b[39m\u001b[39mTrue\u001b[39;00m, return_tensors\u001b[39m=\u001b[39m\u001b[39m\"\u001b[39m\u001b[39mpt\u001b[39m\u001b[39m\"\u001b[39m)\n\u001b[1;32m----> 3\u001b[0m     out \u001b[39m=\u001b[39m model\u001b[39m.\u001b[39mgenerate(\u001b[39m*\u001b[39m\u001b[39m*\u001b[39mmodel_inputs)\n\u001b[0;32m      4\u001b[0m     decoded_preds \u001b[39m=\u001b[39m tokenizer\u001b[39m.\u001b[39mbatch_decode(out, skip_special_tokens\u001b[39m=\u001b[39m\u001b[39mTrue\u001b[39;00m)\n\u001b[0;32m      5\u001b[0m     pred_soup \u001b[39m=\u001b[39m BeautifulSoup(clean_predictions(decoded_preds[\u001b[39m0\u001b[39m]), \u001b[39m\"\u001b[39m\u001b[39mlxml\u001b[39m\u001b[39m\"\u001b[39m)\n",
      "File \u001b[1;32mc:\\Users\\AnthonyWynne\\code_workspace\\text_temporal\\venv\\lib\\site-packages\\torch\\autograd\\grad_mode.py:27\u001b[0m, in \u001b[0;36m_DecoratorContextManager.__call__.<locals>.decorate_context\u001b[1;34m(*args, **kwargs)\u001b[0m\n\u001b[0;32m     24\u001b[0m \u001b[39m@functools\u001b[39m\u001b[39m.\u001b[39mwraps(func)\n\u001b[0;32m     25\u001b[0m \u001b[39mdef\u001b[39;00m \u001b[39mdecorate_context\u001b[39m(\u001b[39m*\u001b[39margs, \u001b[39m*\u001b[39m\u001b[39m*\u001b[39mkwargs):\n\u001b[0;32m     26\u001b[0m     \u001b[39mwith\u001b[39;00m \u001b[39mself\u001b[39m\u001b[39m.\u001b[39mclone():\n\u001b[1;32m---> 27\u001b[0m         \u001b[39mreturn\u001b[39;00m func(\u001b[39m*\u001b[39margs, \u001b[39m*\u001b[39m\u001b[39m*\u001b[39mkwargs)\n",
      "File \u001b[1;32mc:\\Users\\AnthonyWynne\\code_workspace\\text_temporal\\venv\\lib\\site-packages\\transformers\\generation\\utils.py:1608\u001b[0m, in \u001b[0;36mGenerationMixin.generate\u001b[1;34m(self, inputs, max_length, min_length, do_sample, early_stopping, num_beams, temperature, penalty_alpha, top_k, top_p, typical_p, repetition_penalty, bad_words_ids, force_words_ids, bos_token_id, pad_token_id, eos_token_id, length_penalty, no_repeat_ngram_size, encoder_no_repeat_ngram_size, num_return_sequences, max_time, max_new_tokens, decoder_start_token_id, use_cache, num_beam_groups, diversity_penalty, prefix_allowed_tokens_fn, logits_processor, renormalize_logits, stopping_criteria, constraints, output_attentions, output_hidden_states, output_scores, return_dict_in_generate, forced_bos_token_id, forced_eos_token_id, remove_invalid_values, synced_gpus, exponential_decay_length_penalty, suppress_tokens, begin_suppress_tokens, forced_decoder_ids, **model_kwargs)\u001b[0m\n\u001b[0;32m   1601\u001b[0m     input_ids, model_kwargs \u001b[39m=\u001b[39m \u001b[39mself\u001b[39m\u001b[39m.\u001b[39m_expand_inputs_for_generation(\n\u001b[0;32m   1602\u001b[0m         input_ids\u001b[39m=\u001b[39minput_ids,\n\u001b[0;32m   1603\u001b[0m         expand_size\u001b[39m=\u001b[39mnum_beams,\n\u001b[0;32m   1604\u001b[0m         is_encoder_decoder\u001b[39m=\u001b[39m\u001b[39mself\u001b[39m\u001b[39m.\u001b[39mconfig\u001b[39m.\u001b[39mis_encoder_decoder,\n\u001b[0;32m   1605\u001b[0m         \u001b[39m*\u001b[39m\u001b[39m*\u001b[39mmodel_kwargs,\n\u001b[0;32m   1606\u001b[0m     )\n\u001b[0;32m   1607\u001b[0m     \u001b[39m# 12. run beam search\u001b[39;00m\n\u001b[1;32m-> 1608\u001b[0m     \u001b[39mreturn\u001b[39;00m \u001b[39mself\u001b[39m\u001b[39m.\u001b[39mbeam_search(\n\u001b[0;32m   1609\u001b[0m         input_ids,\n\u001b[0;32m   1610\u001b[0m         beam_scorer,\n\u001b[0;32m   1611\u001b[0m         logits_processor\u001b[39m=\u001b[39mlogits_processor,\n\u001b[0;32m   1612\u001b[0m         stopping_criteria\u001b[39m=\u001b[39mstopping_criteria,\n\u001b[0;32m   1613\u001b[0m         pad_token_id\u001b[39m=\u001b[39mpad_token_id,\n\u001b[0;32m   1614\u001b[0m         eos_token_id\u001b[39m=\u001b[39meos_token_id,\n\u001b[0;32m   1615\u001b[0m         output_scores\u001b[39m=\u001b[39moutput_scores,\n\u001b[0;32m   1616\u001b[0m         return_dict_in_generate\u001b[39m=\u001b[39mreturn_dict_in_generate,\n\u001b[0;32m   1617\u001b[0m         synced_gpus\u001b[39m=\u001b[39msynced_gpus,\n\u001b[0;32m   1618\u001b[0m         \u001b[39m*\u001b[39m\u001b[39m*\u001b[39mmodel_kwargs,\n\u001b[0;32m   1619\u001b[0m     )\n\u001b[0;32m   1621\u001b[0m \u001b[39melif\u001b[39;00m is_beam_sample_gen_mode:\n\u001b[0;32m   1622\u001b[0m     \u001b[39m# 10. prepare logits warper\u001b[39;00m\n\u001b[0;32m   1623\u001b[0m     logits_warper \u001b[39m=\u001b[39m \u001b[39mself\u001b[39m\u001b[39m.\u001b[39m_get_logits_warper(\n\u001b[0;32m   1624\u001b[0m         top_k\u001b[39m=\u001b[39mtop_k,\n\u001b[0;32m   1625\u001b[0m         top_p\u001b[39m=\u001b[39mtop_p,\n\u001b[1;32m   (...)\u001b[0m\n\u001b[0;32m   1629\u001b[0m         renormalize_logits\u001b[39m=\u001b[39mrenormalize_logits,\n\u001b[0;32m   1630\u001b[0m     )\n",
      "File \u001b[1;32mc:\\Users\\AnthonyWynne\\code_workspace\\text_temporal\\venv\\lib\\site-packages\\transformers\\generation\\utils.py:2814\u001b[0m, in \u001b[0;36mGenerationMixin.beam_search\u001b[1;34m(self, input_ids, beam_scorer, logits_processor, stopping_criteria, max_length, pad_token_id, eos_token_id, output_attentions, output_hidden_states, output_scores, return_dict_in_generate, synced_gpus, **model_kwargs)\u001b[0m\n\u001b[0;32m   2811\u001b[0m \u001b[39m# hack: adjust tokens for Marian. For Marian we have to make sure that the `pad_token_id`\u001b[39;00m\n\u001b[0;32m   2812\u001b[0m \u001b[39m# cannot be generated both before and after the `nn.functional.log_softmax` operation.\u001b[39;00m\n\u001b[0;32m   2813\u001b[0m next_token_logits \u001b[39m=\u001b[39m \u001b[39mself\u001b[39m\u001b[39m.\u001b[39madjust_logits_during_generation(next_token_logits, cur_len\u001b[39m=\u001b[39mcur_len)\n\u001b[1;32m-> 2814\u001b[0m next_token_scores \u001b[39m=\u001b[39m nn\u001b[39m.\u001b[39;49mfunctional\u001b[39m.\u001b[39;49mlog_softmax(\n\u001b[0;32m   2815\u001b[0m     next_token_logits, dim\u001b[39m=\u001b[39;49m\u001b[39m-\u001b[39;49m\u001b[39m1\u001b[39;49m\n\u001b[0;32m   2816\u001b[0m )  \u001b[39m# (batch_size * num_beams, vocab_size)\u001b[39;00m\n\u001b[0;32m   2818\u001b[0m next_token_scores_processed \u001b[39m=\u001b[39m logits_processor(input_ids, next_token_scores)\n\u001b[0;32m   2819\u001b[0m next_token_scores \u001b[39m=\u001b[39m next_token_scores_processed \u001b[39m+\u001b[39m beam_scores[:, \u001b[39mNone\u001b[39;00m]\u001b[39m.\u001b[39mexpand_as(next_token_scores)\n",
      "File \u001b[1;32mc:\\Users\\AnthonyWynne\\code_workspace\\text_temporal\\venv\\lib\\site-packages\\torch\\nn\\functional.py:1930\u001b[0m, in \u001b[0;36mlog_softmax\u001b[1;34m(input, dim, _stacklevel, dtype)\u001b[0m\n\u001b[0;32m   1928\u001b[0m     dim \u001b[39m=\u001b[39m _get_softmax_dim(\u001b[39m\"\u001b[39m\u001b[39mlog_softmax\u001b[39m\u001b[39m\"\u001b[39m, \u001b[39minput\u001b[39m\u001b[39m.\u001b[39mdim(), _stacklevel)\n\u001b[0;32m   1929\u001b[0m \u001b[39mif\u001b[39;00m dtype \u001b[39mis\u001b[39;00m \u001b[39mNone\u001b[39;00m:\n\u001b[1;32m-> 1930\u001b[0m     ret \u001b[39m=\u001b[39m \u001b[39minput\u001b[39;49m\u001b[39m.\u001b[39;49mlog_softmax(dim)\n\u001b[0;32m   1931\u001b[0m \u001b[39melse\u001b[39;00m:\n\u001b[0;32m   1932\u001b[0m     ret \u001b[39m=\u001b[39m \u001b[39minput\u001b[39m\u001b[39m.\u001b[39mlog_softmax(dim, dtype\u001b[39m=\u001b[39mdtype)\n",
      "\u001b[1;31mKeyboardInterrupt\u001b[0m: "
     ]
    }
   ],
   "source": [
    "for chunk in chunks:\n",
    "    model_inputs = tokenizer(chunk, truncation=True, return_tensors=\"pt\")\n",
    "    out = model.generate(**model_inputs)\n",
    "    decoded_preds = tokenizer.batch_decode(out, skip_special_tokens=True)\n",
    "    pred_soup = BeautifulSoup(clean_predictions(decoded_preds[0]), \"lxml\")\n",
    "    timex_preds = pred_soup.findAll(\"timex3\")\n",
    "    new_text = find_timex_in_text(timex_preds, chunk, model_type)\n",
    "    print(new_text)"
   ]
  },
  {
   "cell_type": "code",
   "execution_count": 18,
   "metadata": {},
   "outputs": [],
   "source": [
    "# still not right, try spliting the text by punctuation and delete the punctuation\n",
    "\n",
    "def split_on_punctuation(text):\n",
    "    \"\"\"\n",
    "    Split the text into pieces on punctuation\n",
    "    \"\"\"\n",
    "    full_list = re.split(r\"([,.!?])\", text)\n",
    "    return [x for x in full_list if x not in [\",\", \".\", \"!\", \"?\"]]\n"
   ]
  },
  {
   "cell_type": "code",
   "execution_count": 19,
   "metadata": {},
   "outputs": [],
   "source": [
    "shorts = split_on_punctuation(db_output[\"text\"])"
   ]
  },
  {
   "cell_type": "code",
   "execution_count": 20,
   "metadata": {},
   "outputs": [
    {
     "data": {
      "text/plain": [
       "[\"The 1995 NCAA Division I men's lacrosse tournament was the 25th annual Division I NCAA Men's Lacrosse Championship tournament\",\n",
       " \" Twelve NCAA Division I college men's lacrosse teams met after having played their way through a regular season\",\n",
       " ' and for some',\n",
       " ' a conference tournament',\n",
       " \"\\nThe championship game was played at Maryland's home field\"]"
      ]
     },
     "execution_count": 20,
     "metadata": {},
     "output_type": "execute_result"
    }
   ],
   "source": [
    "shorts[:5]"
   ]
  },
  {
   "cell_type": "code",
   "execution_count": 21,
   "metadata": {},
   "outputs": [
    {
     "name": "stderr",
     "output_type": "stream",
     "text": [
      "c:\\Users\\AnthonyWynne\\code_workspace\\text_temporal\\venv\\lib\\site-packages\\transformers\\generation\\utils.py:1387: UserWarning: Neither `max_length` nor `max_new_tokens` has been set, `max_length` will default to 512 (`self.config.max_length`). Controlling `max_length` via the config is deprecated and `max_length` will be removed from the config in v5 of Transformers -- we recommend using `max_new_tokens` to control the maximum length of the generation.\n",
      "  warnings.warn(\n"
     ]
    },
    {
     "name": "stdout",
     "output_type": "stream",
     "text": [
      "The  <TIMEX3 tid=\"t2\" type=\"DATE\" value=\"1995\">1995</TIMEX3> NCAA Division I men's lacrosse tournament was the 25th annual Division I NCAA Men's Lacrosse Championship tournament\n",
      " Twelve NCAA Division I college men's lacrosse teams met after having played their way through  <TIMEX3 tid=\"t2\" type=\"DURATION\" value=\"P1C\">a regular season</TIMEX3>\n",
      " and for some\n",
      " a conference  <TIMEX3 tid=\"t2\" type=\"DATE\" value=\"2015-FA\">tournament</TIMEX3>\n",
      "\n",
      "The championship game was played at Maryland's home field\n",
      "  <TIMEX3 tid=\"t2\" type=\"DATE\" value=\"1793-11\">Byrd Stadium</TIMEX3>\n",
      " in front of 26\n",
      " <TIMEX3 tid=\"t2\" type=\"DATE\" value=\"1998-09-23\">229</TIMEX3> fans\n",
      " The game saw Syracuse University defeat University of Maryland by the score of 13–9\n",
      "  <TIMEX3 tid=\"t2\" type=\"DATE\" value=\"2014-10-25\">Despite the loss</TIMEX3>\n",
      " Maryland goalie Brian Dougherty was named the tournament's Most Outstanding Player\n",
      " Dougherty was outstanding in the  <TIMEX3 tid=\"t2\" type=\"DURATION\" value=\"P5S\">semi-finals</TIMEX3>\n",
      " showing why he earned the award as Division I goalie of  <TIMEX3 tid=\"t2\" type=\"DURATION\" value=\"P1Y-#1\">the year</TIMEX3>\n",
      " making 23 saves on 59 shots\n",
      " In  <TIMEX3 tid=\"t2\" type=\"DATE\" value=\"2009-Q1\">the first quarter</TIMEX3>\n",
      " Hopkins' attack took 19 shots with Dougherty making  <TIMEX3 tid=\"t2\" type=\"DATE\" value=\"2014-12-25\">12</TIMEX3> saves\n",
      " allowing Maryland to take a  <TIMEX3 tid=\"t2\" type=\"DURATION\" value=\"P4Q\">4-1 first-quarter</TIMEX3> lead\n",
      "\n",
      "In the  <TIMEX3 tid=\"t2\" type=\"DATE\" value=\"FUTURE_REF\">finals</TIMEX3>\n",
      " Maryland led 4 to 2 with  <TIMEX3 tid=\"t2\" type=\"TIME\" value=\"2014-08-01TXX:00\">a minute left in the first half</TIMEX3> before the Orange exploded to three straight goals to claim a 5-4 half time lead and that momentum led to the victory\n",
      " Dougherty again had 23 saves in the  <TIMEX3 tid=\"t2\" type=\"DATE\" value=\"FUTURE_REF\">finals</TIMEX3>\n",
      "\n",
      "Despite being on the losing  <TIMEX3 tid=\"t2\" type=\"DURATION\" value=\"P2D\">side</TIMEX3>\n",
      " Maryland goalie Brian Dougherty was named most\n",
      "outstanding player\n",
      " Also honored on the All-Tournament team were  <TIMEX3 tid=\"t2\" type=\"DATE\" value=\"2014-11-15\">Syracuse</TIMEX3>’s Mark Fietta\n",
      "  <TIMEX3 tid=\"t2\" type=\"DATE\" value=\"2014-12-25\">Nick</TIMEX3> Licameli\n",
      " Rob Kavovit\n",
      " Ric Beardsley and Casey Powell\n",
      " as  <TIMEX3 tid=\"t2\" type=\"DATE\" value=\"2014-11-01\">well</TIMEX3> as Dan Radebaugh\n",
      " Matt  <TIMEX3 tid=\"t2\" type=\"DATE\" value=\"2013-11-23\">H</TIMEX3>ahn\n",
      " Peter Hilgartner and Rob Chomo for the Terrapins\n",
      "\n",
      "For the 25th Division I  <TIMEX3 tid=\"t2\" type=\"DATE\" value=\"2015-03-23\">tournament</TIMEX3>\n",
      " a 25th anniversary  <TIMEX3 tid=\"t2\" type=\"DATE\" value=\"2014-11-25\">All-time</TIMEX3> team was selected\n",
      " This team was nominated and selected based on the voting of all  <TIMEX3 tid=\"t2\" type=\"DATE\" value=\"PRESENT_REF\">current</TIMEX3> and past Division I head coaches and all current and past members of the NCAA Men’s Lacrosse Committee\n",
      " The members of the team\n",
      " followed by their last year of competition included: Scott Bacigalupo Princeton  <TIMEX3 tid=\"t2\" type=\"DATE\" value=\"1994-XX\">1994</TIMEX3>\n",
      " Tom Cafaro Army  <TIMEX3 tid=\"t2\" type=\"DATE\" value=\"1971-XX\">1971</TIMEX3>\n",
      " John DeTomasso Johns Hopkins  <TIMEX3 tid=\"t2\" type=\"DATE\" value=\"1986\">1986</TIMEX3>\n",
      " Del Dressel Johns Hopkins  <TIMEX3 tid=\"t2\" type=\"DATE\" value=\"1986-XX\">1986</TIMEX3>\n",
      " Mike Federico Johns Hopkins  <TIMEX3 tid=\"t2\" type=\"DATE\" value=\"1980-10\">1980</TIMEX3>\n"
     ]
    },
    {
     "ename": "KeyboardInterrupt",
     "evalue": "",
     "output_type": "error",
     "traceback": [
      "\u001b[1;31m---------------------------------------------------------------------------\u001b[0m",
      "\u001b[1;31mKeyboardInterrupt\u001b[0m                         Traceback (most recent call last)",
      "Cell \u001b[1;32mIn[21], line 3\u001b[0m\n\u001b[0;32m      1\u001b[0m \u001b[39mfor\u001b[39;00m short \u001b[39min\u001b[39;00m shorts:\n\u001b[0;32m      2\u001b[0m     model_inputs \u001b[39m=\u001b[39m tokenizer(short, truncation\u001b[39m=\u001b[39m\u001b[39mTrue\u001b[39;00m, return_tensors\u001b[39m=\u001b[39m\u001b[39m\"\u001b[39m\u001b[39mpt\u001b[39m\u001b[39m\"\u001b[39m)\n\u001b[1;32m----> 3\u001b[0m     out \u001b[39m=\u001b[39m model\u001b[39m.\u001b[39mgenerate(\u001b[39m*\u001b[39m\u001b[39m*\u001b[39mmodel_inputs)\n\u001b[0;32m      4\u001b[0m     decoded_preds \u001b[39m=\u001b[39m tokenizer\u001b[39m.\u001b[39mbatch_decode(out, skip_special_tokens\u001b[39m=\u001b[39m\u001b[39mTrue\u001b[39;00m)\n\u001b[0;32m      5\u001b[0m     pred_soup \u001b[39m=\u001b[39m BeautifulSoup(clean_predictions(decoded_preds[\u001b[39m0\u001b[39m]), \u001b[39m\"\u001b[39m\u001b[39mlxml\u001b[39m\u001b[39m\"\u001b[39m)\n",
      "File \u001b[1;32mc:\\Users\\AnthonyWynne\\code_workspace\\text_temporal\\venv\\lib\\site-packages\\torch\\autograd\\grad_mode.py:27\u001b[0m, in \u001b[0;36m_DecoratorContextManager.__call__.<locals>.decorate_context\u001b[1;34m(*args, **kwargs)\u001b[0m\n\u001b[0;32m     24\u001b[0m \u001b[39m@functools\u001b[39m\u001b[39m.\u001b[39mwraps(func)\n\u001b[0;32m     25\u001b[0m \u001b[39mdef\u001b[39;00m \u001b[39mdecorate_context\u001b[39m(\u001b[39m*\u001b[39margs, \u001b[39m*\u001b[39m\u001b[39m*\u001b[39mkwargs):\n\u001b[0;32m     26\u001b[0m     \u001b[39mwith\u001b[39;00m \u001b[39mself\u001b[39m\u001b[39m.\u001b[39mclone():\n\u001b[1;32m---> 27\u001b[0m         \u001b[39mreturn\u001b[39;00m func(\u001b[39m*\u001b[39margs, \u001b[39m*\u001b[39m\u001b[39m*\u001b[39mkwargs)\n",
      "File \u001b[1;32mc:\\Users\\AnthonyWynne\\code_workspace\\text_temporal\\venv\\lib\\site-packages\\transformers\\generation\\utils.py:1608\u001b[0m, in \u001b[0;36mGenerationMixin.generate\u001b[1;34m(self, inputs, max_length, min_length, do_sample, early_stopping, num_beams, temperature, penalty_alpha, top_k, top_p, typical_p, repetition_penalty, bad_words_ids, force_words_ids, bos_token_id, pad_token_id, eos_token_id, length_penalty, no_repeat_ngram_size, encoder_no_repeat_ngram_size, num_return_sequences, max_time, max_new_tokens, decoder_start_token_id, use_cache, num_beam_groups, diversity_penalty, prefix_allowed_tokens_fn, logits_processor, renormalize_logits, stopping_criteria, constraints, output_attentions, output_hidden_states, output_scores, return_dict_in_generate, forced_bos_token_id, forced_eos_token_id, remove_invalid_values, synced_gpus, exponential_decay_length_penalty, suppress_tokens, begin_suppress_tokens, forced_decoder_ids, **model_kwargs)\u001b[0m\n\u001b[0;32m   1601\u001b[0m     input_ids, model_kwargs \u001b[39m=\u001b[39m \u001b[39mself\u001b[39m\u001b[39m.\u001b[39m_expand_inputs_for_generation(\n\u001b[0;32m   1602\u001b[0m         input_ids\u001b[39m=\u001b[39minput_ids,\n\u001b[0;32m   1603\u001b[0m         expand_size\u001b[39m=\u001b[39mnum_beams,\n\u001b[0;32m   1604\u001b[0m         is_encoder_decoder\u001b[39m=\u001b[39m\u001b[39mself\u001b[39m\u001b[39m.\u001b[39mconfig\u001b[39m.\u001b[39mis_encoder_decoder,\n\u001b[0;32m   1605\u001b[0m         \u001b[39m*\u001b[39m\u001b[39m*\u001b[39mmodel_kwargs,\n\u001b[0;32m   1606\u001b[0m     )\n\u001b[0;32m   1607\u001b[0m     \u001b[39m# 12. run beam search\u001b[39;00m\n\u001b[1;32m-> 1608\u001b[0m     \u001b[39mreturn\u001b[39;00m \u001b[39mself\u001b[39m\u001b[39m.\u001b[39mbeam_search(\n\u001b[0;32m   1609\u001b[0m         input_ids,\n\u001b[0;32m   1610\u001b[0m         beam_scorer,\n\u001b[0;32m   1611\u001b[0m         logits_processor\u001b[39m=\u001b[39mlogits_processor,\n\u001b[0;32m   1612\u001b[0m         stopping_criteria\u001b[39m=\u001b[39mstopping_criteria,\n\u001b[0;32m   1613\u001b[0m         pad_token_id\u001b[39m=\u001b[39mpad_token_id,\n\u001b[0;32m   1614\u001b[0m         eos_token_id\u001b[39m=\u001b[39meos_token_id,\n\u001b[0;32m   1615\u001b[0m         output_scores\u001b[39m=\u001b[39moutput_scores,\n\u001b[0;32m   1616\u001b[0m         return_dict_in_generate\u001b[39m=\u001b[39mreturn_dict_in_generate,\n\u001b[0;32m   1617\u001b[0m         synced_gpus\u001b[39m=\u001b[39msynced_gpus,\n\u001b[0;32m   1618\u001b[0m         \u001b[39m*\u001b[39m\u001b[39m*\u001b[39mmodel_kwargs,\n\u001b[0;32m   1619\u001b[0m     )\n\u001b[0;32m   1621\u001b[0m \u001b[39melif\u001b[39;00m is_beam_sample_gen_mode:\n\u001b[0;32m   1622\u001b[0m     \u001b[39m# 10. prepare logits warper\u001b[39;00m\n\u001b[0;32m   1623\u001b[0m     logits_warper \u001b[39m=\u001b[39m \u001b[39mself\u001b[39m\u001b[39m.\u001b[39m_get_logits_warper(\n\u001b[0;32m   1624\u001b[0m         top_k\u001b[39m=\u001b[39mtop_k,\n\u001b[0;32m   1625\u001b[0m         top_p\u001b[39m=\u001b[39mtop_p,\n\u001b[1;32m   (...)\u001b[0m\n\u001b[0;32m   1629\u001b[0m         renormalize_logits\u001b[39m=\u001b[39mrenormalize_logits,\n\u001b[0;32m   1630\u001b[0m     )\n",
      "File \u001b[1;32mc:\\Users\\AnthonyWynne\\code_workspace\\text_temporal\\venv\\lib\\site-packages\\transformers\\generation\\utils.py:2799\u001b[0m, in \u001b[0;36mGenerationMixin.beam_search\u001b[1;34m(self, input_ids, beam_scorer, logits_processor, stopping_criteria, max_length, pad_token_id, eos_token_id, output_attentions, output_hidden_states, output_scores, return_dict_in_generate, synced_gpus, **model_kwargs)\u001b[0m\n\u001b[0;32m   2795\u001b[0m         \u001b[39mbreak\u001b[39;00m\n\u001b[0;32m   2797\u001b[0m model_inputs \u001b[39m=\u001b[39m \u001b[39mself\u001b[39m\u001b[39m.\u001b[39mprepare_inputs_for_generation(input_ids, \u001b[39m*\u001b[39m\u001b[39m*\u001b[39mmodel_kwargs)\n\u001b[1;32m-> 2799\u001b[0m outputs \u001b[39m=\u001b[39m \u001b[39mself\u001b[39m(\n\u001b[0;32m   2800\u001b[0m     \u001b[39m*\u001b[39m\u001b[39m*\u001b[39mmodel_inputs,\n\u001b[0;32m   2801\u001b[0m     return_dict\u001b[39m=\u001b[39m\u001b[39mTrue\u001b[39;00m,\n\u001b[0;32m   2802\u001b[0m     output_attentions\u001b[39m=\u001b[39moutput_attentions,\n\u001b[0;32m   2803\u001b[0m     output_hidden_states\u001b[39m=\u001b[39moutput_hidden_states,\n\u001b[0;32m   2804\u001b[0m )\n\u001b[0;32m   2806\u001b[0m \u001b[39mif\u001b[39;00m synced_gpus \u001b[39mand\u001b[39;00m this_peer_finished:\n\u001b[0;32m   2807\u001b[0m     cur_len \u001b[39m=\u001b[39m cur_len \u001b[39m+\u001b[39m \u001b[39m1\u001b[39m\n",
      "File \u001b[1;32mc:\\Users\\AnthonyWynne\\code_workspace\\text_temporal\\venv\\lib\\site-packages\\torch\\nn\\modules\\module.py:1194\u001b[0m, in \u001b[0;36mModule._call_impl\u001b[1;34m(self, *input, **kwargs)\u001b[0m\n\u001b[0;32m   1190\u001b[0m \u001b[39m# If we don't have any hooks, we want to skip the rest of the logic in\u001b[39;00m\n\u001b[0;32m   1191\u001b[0m \u001b[39m# this function, and just call forward.\u001b[39;00m\n\u001b[0;32m   1192\u001b[0m \u001b[39mif\u001b[39;00m \u001b[39mnot\u001b[39;00m (\u001b[39mself\u001b[39m\u001b[39m.\u001b[39m_backward_hooks \u001b[39mor\u001b[39;00m \u001b[39mself\u001b[39m\u001b[39m.\u001b[39m_forward_hooks \u001b[39mor\u001b[39;00m \u001b[39mself\u001b[39m\u001b[39m.\u001b[39m_forward_pre_hooks \u001b[39mor\u001b[39;00m _global_backward_hooks\n\u001b[0;32m   1193\u001b[0m         \u001b[39mor\u001b[39;00m _global_forward_hooks \u001b[39mor\u001b[39;00m _global_forward_pre_hooks):\n\u001b[1;32m-> 1194\u001b[0m     \u001b[39mreturn\u001b[39;00m forward_call(\u001b[39m*\u001b[39m\u001b[39minput\u001b[39m, \u001b[39m*\u001b[39m\u001b[39m*\u001b[39mkwargs)\n\u001b[0;32m   1195\u001b[0m \u001b[39m# Do not call functions when jit is used\u001b[39;00m\n\u001b[0;32m   1196\u001b[0m full_backward_hooks, non_full_backward_hooks \u001b[39m=\u001b[39m [], []\n",
      "File \u001b[1;32mc:\\Users\\AnthonyWynne\\code_workspace\\text_temporal\\venv\\lib\\site-packages\\transformers\\models\\encoder_decoder\\modeling_encoder_decoder.py:617\u001b[0m, in \u001b[0;36mEncoderDecoderModel.forward\u001b[1;34m(self, input_ids, attention_mask, decoder_input_ids, decoder_attention_mask, encoder_outputs, past_key_values, inputs_embeds, decoder_inputs_embeds, labels, use_cache, output_attentions, output_hidden_states, return_dict, **kwargs)\u001b[0m\n\u001b[0;32m    612\u001b[0m     decoder_input_ids \u001b[39m=\u001b[39m shift_tokens_right(\n\u001b[0;32m    613\u001b[0m         labels, \u001b[39mself\u001b[39m\u001b[39m.\u001b[39mconfig\u001b[39m.\u001b[39mpad_token_id, \u001b[39mself\u001b[39m\u001b[39m.\u001b[39mconfig\u001b[39m.\u001b[39mdecoder_start_token_id\n\u001b[0;32m    614\u001b[0m     )\n\u001b[0;32m    616\u001b[0m \u001b[39m# Decode\u001b[39;00m\n\u001b[1;32m--> 617\u001b[0m decoder_outputs \u001b[39m=\u001b[39m \u001b[39mself\u001b[39m\u001b[39m.\u001b[39mdecoder(\n\u001b[0;32m    618\u001b[0m     input_ids\u001b[39m=\u001b[39mdecoder_input_ids,\n\u001b[0;32m    619\u001b[0m     attention_mask\u001b[39m=\u001b[39mdecoder_attention_mask,\n\u001b[0;32m    620\u001b[0m     encoder_hidden_states\u001b[39m=\u001b[39mencoder_hidden_states,\n\u001b[0;32m    621\u001b[0m     encoder_attention_mask\u001b[39m=\u001b[39mattention_mask,\n\u001b[0;32m    622\u001b[0m     inputs_embeds\u001b[39m=\u001b[39mdecoder_inputs_embeds,\n\u001b[0;32m    623\u001b[0m     output_attentions\u001b[39m=\u001b[39moutput_attentions,\n\u001b[0;32m    624\u001b[0m     output_hidden_states\u001b[39m=\u001b[39moutput_hidden_states,\n\u001b[0;32m    625\u001b[0m     use_cache\u001b[39m=\u001b[39muse_cache,\n\u001b[0;32m    626\u001b[0m     past_key_values\u001b[39m=\u001b[39mpast_key_values,\n\u001b[0;32m    627\u001b[0m     return_dict\u001b[39m=\u001b[39mreturn_dict,\n\u001b[0;32m    628\u001b[0m     \u001b[39m*\u001b[39m\u001b[39m*\u001b[39mkwargs_decoder,\n\u001b[0;32m    629\u001b[0m )\n\u001b[0;32m    631\u001b[0m \u001b[39m# Compute loss independent from decoder (as some shift the logits inside them)\u001b[39;00m\n\u001b[0;32m    632\u001b[0m loss \u001b[39m=\u001b[39m \u001b[39mNone\u001b[39;00m\n",
      "File \u001b[1;32mc:\\Users\\AnthonyWynne\\code_workspace\\text_temporal\\venv\\lib\\site-packages\\torch\\nn\\modules\\module.py:1194\u001b[0m, in \u001b[0;36mModule._call_impl\u001b[1;34m(self, *input, **kwargs)\u001b[0m\n\u001b[0;32m   1190\u001b[0m \u001b[39m# If we don't have any hooks, we want to skip the rest of the logic in\u001b[39;00m\n\u001b[0;32m   1191\u001b[0m \u001b[39m# this function, and just call forward.\u001b[39;00m\n\u001b[0;32m   1192\u001b[0m \u001b[39mif\u001b[39;00m \u001b[39mnot\u001b[39;00m (\u001b[39mself\u001b[39m\u001b[39m.\u001b[39m_backward_hooks \u001b[39mor\u001b[39;00m \u001b[39mself\u001b[39m\u001b[39m.\u001b[39m_forward_hooks \u001b[39mor\u001b[39;00m \u001b[39mself\u001b[39m\u001b[39m.\u001b[39m_forward_pre_hooks \u001b[39mor\u001b[39;00m _global_backward_hooks\n\u001b[0;32m   1193\u001b[0m         \u001b[39mor\u001b[39;00m _global_forward_hooks \u001b[39mor\u001b[39;00m _global_forward_pre_hooks):\n\u001b[1;32m-> 1194\u001b[0m     \u001b[39mreturn\u001b[39;00m forward_call(\u001b[39m*\u001b[39m\u001b[39minput\u001b[39m, \u001b[39m*\u001b[39m\u001b[39m*\u001b[39mkwargs)\n\u001b[0;32m   1195\u001b[0m \u001b[39m# Do not call functions when jit is used\u001b[39;00m\n\u001b[0;32m   1196\u001b[0m full_backward_hooks, non_full_backward_hooks \u001b[39m=\u001b[39m [], []\n",
      "File \u001b[1;32mc:\\Users\\AnthonyWynne\\code_workspace\\text_temporal\\venv\\lib\\site-packages\\transformers\\models\\roberta\\modeling_roberta.py:993\u001b[0m, in \u001b[0;36mRobertaForCausalLM.forward\u001b[1;34m(self, input_ids, attention_mask, token_type_ids, position_ids, head_mask, inputs_embeds, encoder_hidden_states, encoder_attention_mask, labels, past_key_values, use_cache, output_attentions, output_hidden_states, return_dict)\u001b[0m\n\u001b[0;32m    976\u001b[0m outputs \u001b[39m=\u001b[39m \u001b[39mself\u001b[39m\u001b[39m.\u001b[39mroberta(\n\u001b[0;32m    977\u001b[0m     input_ids,\n\u001b[0;32m    978\u001b[0m     attention_mask\u001b[39m=\u001b[39mattention_mask,\n\u001b[1;32m   (...)\u001b[0m\n\u001b[0;32m    989\u001b[0m     return_dict\u001b[39m=\u001b[39mreturn_dict,\n\u001b[0;32m    990\u001b[0m )\n\u001b[0;32m    992\u001b[0m sequence_output \u001b[39m=\u001b[39m outputs[\u001b[39m0\u001b[39m]\n\u001b[1;32m--> 993\u001b[0m prediction_scores \u001b[39m=\u001b[39m \u001b[39mself\u001b[39;49m\u001b[39m.\u001b[39;49mlm_head(sequence_output)\n\u001b[0;32m    995\u001b[0m lm_loss \u001b[39m=\u001b[39m \u001b[39mNone\u001b[39;00m\n\u001b[0;32m    996\u001b[0m \u001b[39mif\u001b[39;00m labels \u001b[39mis\u001b[39;00m \u001b[39mnot\u001b[39;00m \u001b[39mNone\u001b[39;00m:\n\u001b[0;32m    997\u001b[0m     \u001b[39m# we are doing next-token prediction; shift prediction scores and input ids by one\u001b[39;00m\n",
      "File \u001b[1;32mc:\\Users\\AnthonyWynne\\code_workspace\\text_temporal\\venv\\lib\\site-packages\\torch\\nn\\modules\\module.py:1194\u001b[0m, in \u001b[0;36mModule._call_impl\u001b[1;34m(self, *input, **kwargs)\u001b[0m\n\u001b[0;32m   1190\u001b[0m \u001b[39m# If we don't have any hooks, we want to skip the rest of the logic in\u001b[39;00m\n\u001b[0;32m   1191\u001b[0m \u001b[39m# this function, and just call forward.\u001b[39;00m\n\u001b[0;32m   1192\u001b[0m \u001b[39mif\u001b[39;00m \u001b[39mnot\u001b[39;00m (\u001b[39mself\u001b[39m\u001b[39m.\u001b[39m_backward_hooks \u001b[39mor\u001b[39;00m \u001b[39mself\u001b[39m\u001b[39m.\u001b[39m_forward_hooks \u001b[39mor\u001b[39;00m \u001b[39mself\u001b[39m\u001b[39m.\u001b[39m_forward_pre_hooks \u001b[39mor\u001b[39;00m _global_backward_hooks\n\u001b[0;32m   1193\u001b[0m         \u001b[39mor\u001b[39;00m _global_forward_hooks \u001b[39mor\u001b[39;00m _global_forward_pre_hooks):\n\u001b[1;32m-> 1194\u001b[0m     \u001b[39mreturn\u001b[39;00m forward_call(\u001b[39m*\u001b[39m\u001b[39minput\u001b[39m, \u001b[39m*\u001b[39m\u001b[39m*\u001b[39mkwargs)\n\u001b[0;32m   1195\u001b[0m \u001b[39m# Do not call functions when jit is used\u001b[39;00m\n\u001b[0;32m   1196\u001b[0m full_backward_hooks, non_full_backward_hooks \u001b[39m=\u001b[39m [], []\n",
      "File \u001b[1;32mc:\\Users\\AnthonyWynne\\code_workspace\\text_temporal\\venv\\lib\\site-packages\\transformers\\models\\roberta\\modeling_roberta.py:1151\u001b[0m, in \u001b[0;36mRobertaLMHead.forward\u001b[1;34m(self, features, **kwargs)\u001b[0m\n\u001b[0;32m   1148\u001b[0m x \u001b[39m=\u001b[39m \u001b[39mself\u001b[39m\u001b[39m.\u001b[39mlayer_norm(x)\n\u001b[0;32m   1150\u001b[0m \u001b[39m# project back to size of vocabulary with bias\u001b[39;00m\n\u001b[1;32m-> 1151\u001b[0m x \u001b[39m=\u001b[39m \u001b[39mself\u001b[39;49m\u001b[39m.\u001b[39;49mdecoder(x)\n\u001b[0;32m   1153\u001b[0m \u001b[39mreturn\u001b[39;00m x\n",
      "File \u001b[1;32mc:\\Users\\AnthonyWynne\\code_workspace\\text_temporal\\venv\\lib\\site-packages\\torch\\nn\\modules\\module.py:1194\u001b[0m, in \u001b[0;36mModule._call_impl\u001b[1;34m(self, *input, **kwargs)\u001b[0m\n\u001b[0;32m   1190\u001b[0m \u001b[39m# If we don't have any hooks, we want to skip the rest of the logic in\u001b[39;00m\n\u001b[0;32m   1191\u001b[0m \u001b[39m# this function, and just call forward.\u001b[39;00m\n\u001b[0;32m   1192\u001b[0m \u001b[39mif\u001b[39;00m \u001b[39mnot\u001b[39;00m (\u001b[39mself\u001b[39m\u001b[39m.\u001b[39m_backward_hooks \u001b[39mor\u001b[39;00m \u001b[39mself\u001b[39m\u001b[39m.\u001b[39m_forward_hooks \u001b[39mor\u001b[39;00m \u001b[39mself\u001b[39m\u001b[39m.\u001b[39m_forward_pre_hooks \u001b[39mor\u001b[39;00m _global_backward_hooks\n\u001b[0;32m   1193\u001b[0m         \u001b[39mor\u001b[39;00m _global_forward_hooks \u001b[39mor\u001b[39;00m _global_forward_pre_hooks):\n\u001b[1;32m-> 1194\u001b[0m     \u001b[39mreturn\u001b[39;00m forward_call(\u001b[39m*\u001b[39m\u001b[39minput\u001b[39m, \u001b[39m*\u001b[39m\u001b[39m*\u001b[39mkwargs)\n\u001b[0;32m   1195\u001b[0m \u001b[39m# Do not call functions when jit is used\u001b[39;00m\n\u001b[0;32m   1196\u001b[0m full_backward_hooks, non_full_backward_hooks \u001b[39m=\u001b[39m [], []\n",
      "File \u001b[1;32mc:\\Users\\AnthonyWynne\\code_workspace\\text_temporal\\venv\\lib\\site-packages\\torch\\nn\\modules\\linear.py:114\u001b[0m, in \u001b[0;36mLinear.forward\u001b[1;34m(self, input)\u001b[0m\n\u001b[0;32m    113\u001b[0m \u001b[39mdef\u001b[39;00m \u001b[39mforward\u001b[39m(\u001b[39mself\u001b[39m, \u001b[39minput\u001b[39m: Tensor) \u001b[39m-\u001b[39m\u001b[39m>\u001b[39m Tensor:\n\u001b[1;32m--> 114\u001b[0m     \u001b[39mreturn\u001b[39;00m F\u001b[39m.\u001b[39;49mlinear(\u001b[39minput\u001b[39;49m, \u001b[39mself\u001b[39;49m\u001b[39m.\u001b[39;49mweight, \u001b[39mself\u001b[39;49m\u001b[39m.\u001b[39;49mbias)\n",
      "\u001b[1;31mKeyboardInterrupt\u001b[0m: "
     ]
    }
   ],
   "source": [
    "for short in shorts:\n",
    "    model_inputs = tokenizer(short, truncation=True, return_tensors=\"pt\")\n",
    "    out = model.generate(**model_inputs)\n",
    "    decoded_preds = tokenizer.batch_decode(out, skip_special_tokens=True)\n",
    "    pred_soup = BeautifulSoup(clean_predictions(decoded_preds[0]), \"lxml\")\n",
    "    timex_preds = pred_soup.findAll(\"timex3\")\n",
    "    new_text = find_timex_in_text(timex_preds, short, model_type)\n",
    "    print(new_text)"
   ]
  },
  {
   "attachments": {},
   "cell_type": "markdown",
   "metadata": {},
   "source": [
    "Still many errors "
   ]
  },
  {
   "cell_type": "code",
   "execution_count": 22,
   "metadata": {},
   "outputs": [],
   "source": [
    "all_timex = []\n",
    "for short in shorts:\n",
    "    model_inputs = tokenizer(short, truncation=True, return_tensors=\"pt\")\n",
    "    out = model.generate(**model_inputs)\n",
    "    decoded_preds = tokenizer.batch_decode(out, skip_special_tokens=True)\n",
    "    pred_soup = BeautifulSoup(clean_predictions(decoded_preds[0]), \"lxml\")\n",
    "    timex_preds = pred_soup.findAll(\"timex3\")\n",
    "    all_timex += timex_preds"
   ]
  },
  {
   "cell_type": "code",
   "execution_count": 23,
   "metadata": {},
   "outputs": [
    {
     "data": {
      "text/plain": [
       "[<timex3 type=\"DATE\" value=\"1995\"> 1995 </timex3>,\n",
       " <timex3 type=\"DURATION\" value=\"P1C\"> a regular season </timex3>,\n",
       " <timex3 type=\"DATE\" value=\"2014-05-23\"> </timex3>,\n",
       " <timex3 type=\"DATE\" value=\"2015-FA\"> tournament </timex3>,\n",
       " <timex3 type=\"DATE\" value=\"2015-09-23\"> </timex3>,\n",
       " <timex3 type=\"DATE\" value=\"1793-11\"> Byrd Stadium </timex3>,\n",
       " <timex3 type=\"DATE\" value=\"1998-09-23\"> 229  fans&gt;... <duration> fans  fan fans )&gt;..</duration></timex3>,\n",
       " <timex3 type=\"DURATION\" value=\"P9Y\"> 9 </timex3>,\n",
       " <timex3 type=\"DATE\" value=\"2014-10-25\"> Despite the loss </timex3>,\n",
       " <timex3 type=\"DURATION\" value=\"P5S\"> semi-finals . &gt; \"finals \"<time sort=\"SET\" value=\"XXXX-XX-3\" x3=\"\"> Semi-months </time></timex3>,\n",
       " <timex3 type=\"DURATION\" value=\"P1Y-#1\"> the year  </timex3>,\n",
       " <timex3 type=\"DURATION\" value=\"PT59M\"> </timex3>,\n",
       " <timex3 type=\"DATE\" value=\"2009-Q1\"> the first quarter </timex3>,\n",
       " <timex3 type=\"DATE\" value=\"2014-12-25\"> 12 </timex3>,\n",
       " <timex3 type=\"DURATION\" value=\"P4Q\"> 4-1 first-quarter </timex3>,\n",
       " <timex3 type=\"DATE\" value=\"FUTURE_REF\"> finals </timex3>,\n",
       " <timex3 type=\"TIME\" value=\"2014-08-01TXX:00\"> a minute left in the first half </timex3>,\n",
       " <timex3 type=\"DATE\" value=\"FUTURE_REF\"> finals </timex3>,\n",
       " <timex3 type=\"DURATION\" value=\"P2D\"> side </timex3>,\n",
       " <timex3 type=\"DATE\" value=\"2014-11-10\"> nearly </timex3>,\n",
       " <timex3 type=\"DATE\" value=\"2014-11-15\">  Syracuse</timex3>,\n",
       " <timex3 type=\"DATE\" value=\"2014-12-25\"> Nick Liceli  &gt;. LicELi Nick [ Nick Lamelamel i <dast_ref></dast_ref></timex3>,\n",
       " <timex3 type=\"DATE\" value=\"2014-09-11\">  Nov Kovovat &gt;. KAVovi&gt; )</timex3>,\n",
       " <timex3 type=\"DATE\" value=\"2015-12-25\"> </timex3>,\n",
       " <timex3 type=\"DATE\" value=\"2014-11-01\"> at well  as Daniel AS DanRadevm </timex3>,\n",
       " <timex3 type=\"DATE\" value=\"2013-11-23\"> . Hohn . Lahn&gt; H &lt;&gt; Lah</timex3>,\n",
       " <timex3 type=\"DATE\" value=\"2014-11-25\"> </timex3>,\n",
       " <timex3 type=\"DATE\" value=\"2015-03-23\"> and tournament 25 tournament • tournament T tournament I luck I tournaments  &lt;&gt;</timex3>,\n",
       " <timex3 type=\"DATE\" value=\"2014-11-25\"> All-time </timex3>,\n",
       " <timex3 type=\"DATE\" value=\"PRESENT_REF\"> current </timex3>,\n",
       " <timex3 type=\"DATE\" value=\"2013-09-08\"> team  # team&gt;. The Members of THE team</timex3>,\n",
       " <timex3 type=\"DATE\" value=\"1994-XX\"> 1994  Princeton 1994. \"<timexi>, Princeton n &gt; \"t </timexi></timex3>,\n",
       " <timex3 type=\"DATE\" value=\"1971-XX\"> 1971 </timex3>,\n",
       " <timex3 type=\"DATE\" value=\"1986\"> 1986 </timex3>,\n",
       " <timex3 type=\"DATE\" value=\"1986-XX\"> 1986 </timex3>,\n",
       " <timex3 type=\"DATE\" value=\"1980-10\"> 1980 </timex3>,\n",
       " <timex3 type=\"DATE\" value=\"1976\"> 1976 </timex3>,\n",
       " <timex3 type=\"DATE\" value=\"1990-10-02\"> 1990 </timex3>,\n",
       " <timex3 type=\"DATE\" value=\"1990\"> 1990 </timex3>,\n",
       " <timex3 type=\"DATE\" value=\"1980\"> 1980 </timex3>,\n",
       " <timex3 type=\"DATE\" value=\"1980\"> 1980   LausNorth Carolina 1980. HP North Hurricane \"<timec>1980</timec></timex3>,\n",
       " <timex3 type=\"DATE\" value=\"1979\"> 1979 </timex3>,\n",
       " <timex3 type=\"DATE\" value=\"1985\"> 1985 </timex3>,\n",
       " <timex3 type=\"DATE\" value=\"1974-XX\"> 1974 </timex3>,\n",
       " <timex3 type=\"DATE\" value=\"1977\"> 1977 . Matt Mackesei Cornell 1977 MacMacKasey Cedar &gt; [ MacMesee Cornell F ​ </timex3>,\n",
       " <timex3 type=\"DATE\" value=\"1977\"> 1977 </timex3>,\n",
       " <timex3 type=\"DATE\" value=\"1993\"> 1993 </timex3>,\n",
       " <timex3 type=\"DATE\" value=\"1985\"> 1985 </timex3>,\n",
       " <timex3 type=\"DATE\" value=\"1978\"> 1978 </timex3>,\n",
       " <timex3 type=\"DATE\" value=\"1989-XX\"> 1989 </timex3>,\n",
       " <timex3 type=\"DATE\" value=\"1985\"> 1985 </timex3>,\n",
       " <timex3 type=\"DATE\" value=\"1990\"> 1990 </timex3>,\n",
       " <timex3 type=\"DATE\" value=\"1981-XX\"> 1981 </timex3>,\n",
       " <timex3 type=\"DATE\" value=\"1983-XX\"> 1983  &gt;. Yu Sears N Carolina 1983 Madrid H Carolina D Carolina Index </timex3>,\n",
       " <timex3 type=\"DATE\" value=\"1974-XX\"> 1974 </timex3>,\n",
       " <timex3 type=\"DATE\" value=\"1976\"> 1976 </timex3>,\n",
       " <timex3 type=\"TIME\" value=\"2013-05-30TXX\"> 5 Overtime </timex3>,\n",
       " <timex3 type=\"DATE\" value=\"2014-11-01\">ta  October</timex3>,\n",
       " <timex3 type=\"DATE\" value=\"2014-12-25\">  -NickNick Nick Liceli &lt;&gt;...N LicELi iNick L Licleri</timex3>,\n",
       " <timex3 type=\"DATE\" value=\"2014-11-18\"> . <rt>ititITitukit.&gt; ​Rob Khavevit</rt></timex3>,\n",
       " <timex3 type=\"DATE\" value=\"2013-11-23\"> Syracuse </timex3>,\n",
       " <timex3 type=\"DATE\" value=\"2014-12-25\"> Powell   <dast_everyt18:00> DraperypAST </dast_everyt18:00></timex3>,\n",
       " <timex3 type=\"DATE\" value=\"2014-09-17\"> Rade </timex3>,\n",
       " <timex3 type=\"DATE\" value=\"2013-11-03\"> </timex3>,\n",
       " <timex3 type=\"DATE\" value=\"2014\"> </timex3>,\n",
       " <timex3 type=\"DATE\" value=\"1995\">1995 </timex3>]"
      ]
     },
     "execution_count": 23,
     "metadata": {},
     "output_type": "execute_result"
    }
   ],
   "source": [
    "all_timex"
   ]
  },
  {
   "cell_type": "code",
   "execution_count": 28,
   "metadata": {},
   "outputs": [
    {
     "name": "stdout",
     "output_type": "stream",
     "text": [
      "<timex3 type=\"DATE\" value=\"1995\"> 1995 </timex3>\n",
      "<timex3 type=\"DURATION\" value=\"P1C\"> a regular season </timex3>\n",
      "<timex3 type=\"DATE\" value=\"2014-05-23\"> </timex3>\n",
      "<timex3 type=\"DATE\" value=\"2015-FA\"> tournament </timex3>\n",
      "<timex3 type=\"DATE\" value=\"2015-09-23\"> </timex3>\n",
      "<timex3 type=\"DATE\" value=\"1793-11\"> Byrd Stadium </timex3>\n",
      "<timex3 type=\"DATE\" value=\"1998-09-23\"> 229  fans&gt;... <duration> fans  fan fans )&gt;..</duration></timex3>\n",
      "<timex3 type=\"DURATION\" value=\"P9Y\"> 9 </timex3>\n",
      "<timex3 type=\"DATE\" value=\"2014-10-25\"> Despite the loss </timex3>\n",
      "<timex3 type=\"DURATION\" value=\"P5S\"> semi-finals . &gt; \"finals \"<time sort=\"SET\" value=\"XXXX-XX-3\" x3=\"\"> Semi-months </time></timex3>\n",
      "<timex3 type=\"DURATION\" value=\"P1Y-#1\"> the year  </timex3>\n",
      "<timex3 type=\"DURATION\" value=\"PT59M\"> </timex3>\n",
      "<timex3 type=\"DATE\" value=\"2009-Q1\"> the first quarter </timex3>\n",
      "<timex3 type=\"DATE\" value=\"2014-12-25\"> 12 </timex3>\n",
      "<timex3 type=\"DURATION\" value=\"P4Q\"> 4-1 first-quarter </timex3>\n",
      "<timex3 type=\"DATE\" value=\"FUTURE_REF\"> finals </timex3>\n",
      "<timex3 type=\"TIME\" value=\"2014-08-01TXX:00\"> a minute left in the first half </timex3>\n",
      "<timex3 type=\"DATE\" value=\"FUTURE_REF\"> finals </timex3>\n",
      "<timex3 type=\"DURATION\" value=\"P2D\"> side </timex3>\n",
      "<timex3 type=\"DATE\" value=\"2014-11-10\"> nearly </timex3>\n",
      "<timex3 type=\"DATE\" value=\"2014-11-15\">  Syracuse</timex3>\n",
      "<timex3 type=\"DATE\" value=\"2014-12-25\"> Nick Liceli  &gt;. LicELi Nick [ Nick Lamelamel i <dast_ref></dast_ref></timex3>\n",
      "<timex3 type=\"DATE\" value=\"2014-09-11\">  Nov Kovovat &gt;. KAVovi&gt; )</timex3>\n",
      "<timex3 type=\"DATE\" value=\"2015-12-25\"> </timex3>\n",
      "<timex3 type=\"DATE\" value=\"2014-11-01\"> at well  as Daniel AS DanRadevm </timex3>\n",
      "<timex3 type=\"DATE\" value=\"2013-11-23\"> . Hohn . Lahn&gt; H &lt;&gt; Lah</timex3>\n",
      "<timex3 type=\"DATE\" value=\"2014-11-25\"> </timex3>\n",
      "<timex3 type=\"DATE\" value=\"2015-03-23\"> and tournament 25 tournament • tournament T tournament I luck I tournaments  &lt;&gt;</timex3>\n",
      "<timex3 type=\"DATE\" value=\"2014-11-25\"> All-time </timex3>\n",
      "<timex3 type=\"DATE\" value=\"PRESENT_REF\"> current </timex3>\n",
      "<timex3 type=\"DATE\" value=\"2013-09-08\"> team  # team&gt;. The Members of THE team</timex3>\n",
      "<timex3 type=\"DATE\" value=\"1994-XX\"> 1994  Princeton 1994. \"<timexi>, Princeton n &gt; \"t </timexi></timex3>\n",
      "<timex3 type=\"DATE\" value=\"1971-XX\"> 1971 </timex3>\n",
      "<timex3 type=\"DATE\" value=\"1986\"> 1986 </timex3>\n",
      "<timex3 type=\"DATE\" value=\"1986-XX\"> 1986 </timex3>\n",
      "<timex3 type=\"DATE\" value=\"1980-10\"> 1980 </timex3>\n",
      "<timex3 type=\"DATE\" value=\"1976\"> 1976 </timex3>\n",
      "<timex3 type=\"DATE\" value=\"1990-10-02\"> 1990 </timex3>\n",
      "<timex3 type=\"DATE\" value=\"1990\"> 1990 </timex3>\n",
      "<timex3 type=\"DATE\" value=\"1980\"> 1980 </timex3>\n",
      "<timex3 type=\"DATE\" value=\"1980\"> 1980   LausNorth Carolina 1980. HP North Hurricane \"<timec>1980</timec></timex3>\n",
      "<timex3 type=\"DATE\" value=\"1979\"> 1979 </timex3>\n",
      "<timex3 type=\"DATE\" value=\"1985\"> 1985 </timex3>\n",
      "<timex3 type=\"DATE\" value=\"1974-XX\"> 1974 </timex3>\n",
      "<timex3 type=\"DATE\" value=\"1977\"> 1977 . Matt Mackesei Cornell 1977 MacMacKasey Cedar &gt; [ MacMesee Cornell F ​ </timex3>\n",
      "<timex3 type=\"DATE\" value=\"1977\"> 1977 </timex3>\n",
      "<timex3 type=\"DATE\" value=\"1993\"> 1993 </timex3>\n",
      "<timex3 type=\"DATE\" value=\"1985\"> 1985 </timex3>\n",
      "<timex3 type=\"DATE\" value=\"1978\"> 1978 </timex3>\n",
      "<timex3 type=\"DATE\" value=\"1989-XX\"> 1989 </timex3>\n",
      "<timex3 type=\"DATE\" value=\"1985\"> 1985 </timex3>\n",
      "<timex3 type=\"DATE\" value=\"1990\"> 1990 </timex3>\n",
      "<timex3 type=\"DATE\" value=\"1981-XX\"> 1981 </timex3>\n",
      "<timex3 type=\"DATE\" value=\"1983-XX\"> 1983  &gt;. Yu Sears N Carolina 1983 Madrid H Carolina D Carolina Index </timex3>\n",
      "<timex3 type=\"DATE\" value=\"1974-XX\"> 1974 </timex3>\n",
      "<timex3 type=\"DATE\" value=\"1976\"> 1976 </timex3>\n",
      "<timex3 type=\"TIME\" value=\"2013-05-30TXX\"> 5 Overtime </timex3>\n",
      "<timex3 type=\"DATE\" value=\"2014-11-01\">ta  October</timex3>\n",
      "<timex3 type=\"DATE\" value=\"2014-12-25\">  -NickNick Nick Liceli &lt;&gt;...N LicELi iNick L Licleri</timex3>\n",
      "<timex3 type=\"DATE\" value=\"2014-11-18\"> . <rt>ititITitukit.&gt; ​Rob Khavevit</rt></timex3>\n",
      "<timex3 type=\"DATE\" value=\"2013-11-23\"> Syracuse </timex3>\n",
      "<timex3 type=\"DATE\" value=\"2014-12-25\"> Powell   <dast_everyt18:00> DraperypAST </dast_everyt18:00></timex3>\n",
      "<timex3 type=\"DATE\" value=\"2014-09-17\"> Rade </timex3>\n",
      "<timex3 type=\"DATE\" value=\"2013-11-03\"> </timex3>\n",
      "<timex3 type=\"DATE\" value=\"2014\"> </timex3>\n",
      "<timex3 type=\"DATE\" value=\"1995\">1995 </timex3>\n"
     ]
    }
   ],
   "source": [
    "for item in all_timex:\n",
    "    print(item)\n",
    "    "
   ]
  },
  {
   "cell_type": "code",
   "execution_count": 27,
   "metadata": {},
   "outputs": [
    {
     "ename": "ValueError",
     "evalue": "setting an array element with a sequence. The requested array has an inhomogeneous shape after 1 dimensions. The detected shape was (66,) + inhomogeneous part.",
     "output_type": "error",
     "traceback": [
      "\u001b[1;31m---------------------------------------------------------------------------\u001b[0m",
      "\u001b[1;31mValueError\u001b[0m                                Traceback (most recent call last)",
      "Cell \u001b[1;32mIn[27], line 3\u001b[0m\n\u001b[0;32m      1\u001b[0m \u001b[39m# export all_timex to csv\u001b[39;00m\n\u001b[0;32m      2\u001b[0m \u001b[39mimport\u001b[39;00m \u001b[39mpandas\u001b[39;00m \u001b[39mas\u001b[39;00m \u001b[39mpd\u001b[39;00m\n\u001b[1;32m----> 3\u001b[0m all_timex_df \u001b[39m=\u001b[39m pd\u001b[39m.\u001b[39;49mDataFrame(all_timex)\n\u001b[0;32m      4\u001b[0m all_timex_df\u001b[39m.\u001b[39mto_csv(\u001b[39m\"\u001b[39m\u001b[39mall_timex.csv\u001b[39m\u001b[39m\"\u001b[39m)\n",
      "File \u001b[1;32mc:\\Users\\AnthonyWynne\\code_workspace\\text_temporal\\venv\\lib\\site-packages\\pandas\\core\\frame.py:761\u001b[0m, in \u001b[0;36mDataFrame.__init__\u001b[1;34m(self, data, index, columns, dtype, copy)\u001b[0m\n\u001b[0;32m    753\u001b[0m         mgr \u001b[39m=\u001b[39m arrays_to_mgr(\n\u001b[0;32m    754\u001b[0m             arrays,\n\u001b[0;32m    755\u001b[0m             columns,\n\u001b[1;32m   (...)\u001b[0m\n\u001b[0;32m    758\u001b[0m             typ\u001b[39m=\u001b[39mmanager,\n\u001b[0;32m    759\u001b[0m         )\n\u001b[0;32m    760\u001b[0m     \u001b[39melse\u001b[39;00m:\n\u001b[1;32m--> 761\u001b[0m         mgr \u001b[39m=\u001b[39m ndarray_to_mgr(\n\u001b[0;32m    762\u001b[0m             data,\n\u001b[0;32m    763\u001b[0m             index,\n\u001b[0;32m    764\u001b[0m             columns,\n\u001b[0;32m    765\u001b[0m             dtype\u001b[39m=\u001b[39;49mdtype,\n\u001b[0;32m    766\u001b[0m             copy\u001b[39m=\u001b[39;49mcopy,\n\u001b[0;32m    767\u001b[0m             typ\u001b[39m=\u001b[39;49mmanager,\n\u001b[0;32m    768\u001b[0m         )\n\u001b[0;32m    769\u001b[0m \u001b[39melse\u001b[39;00m:\n\u001b[0;32m    770\u001b[0m     mgr \u001b[39m=\u001b[39m dict_to_mgr(\n\u001b[0;32m    771\u001b[0m         {},\n\u001b[0;32m    772\u001b[0m         index,\n\u001b[1;32m   (...)\u001b[0m\n\u001b[0;32m    775\u001b[0m         typ\u001b[39m=\u001b[39mmanager,\n\u001b[0;32m    776\u001b[0m     )\n",
      "File \u001b[1;32mc:\\Users\\AnthonyWynne\\code_workspace\\text_temporal\\venv\\lib\\site-packages\\pandas\\core\\internals\\construction.py:329\u001b[0m, in \u001b[0;36mndarray_to_mgr\u001b[1;34m(values, index, columns, dtype, copy, typ)\u001b[0m\n\u001b[0;32m    324\u001b[0m         values \u001b[39m=\u001b[39m values\u001b[39m.\u001b[39mreshape(\u001b[39m-\u001b[39m\u001b[39m1\u001b[39m, \u001b[39m1\u001b[39m)\n\u001b[0;32m    326\u001b[0m \u001b[39melse\u001b[39;00m:\n\u001b[0;32m    327\u001b[0m     \u001b[39m# by definition an array here\u001b[39;00m\n\u001b[0;32m    328\u001b[0m     \u001b[39m# the dtypes will be coerced to a single dtype\u001b[39;00m\n\u001b[1;32m--> 329\u001b[0m     values \u001b[39m=\u001b[39m _prep_ndarraylike(values, copy\u001b[39m=\u001b[39;49mcopy_on_sanitize)\n\u001b[0;32m    331\u001b[0m \u001b[39mif\u001b[39;00m dtype \u001b[39mis\u001b[39;00m \u001b[39mnot\u001b[39;00m \u001b[39mNone\u001b[39;00m \u001b[39mand\u001b[39;00m \u001b[39mnot\u001b[39;00m is_dtype_equal(values\u001b[39m.\u001b[39mdtype, dtype):\n\u001b[0;32m    332\u001b[0m     \u001b[39m# GH#40110 see similar check inside sanitize_array\u001b[39;00m\n\u001b[0;32m    333\u001b[0m     rcf \u001b[39m=\u001b[39m \u001b[39mnot\u001b[39;00m (is_integer_dtype(dtype) \u001b[39mand\u001b[39;00m values\u001b[39m.\u001b[39mdtype\u001b[39m.\u001b[39mkind \u001b[39m==\u001b[39m \u001b[39m\"\u001b[39m\u001b[39mf\u001b[39m\u001b[39m\"\u001b[39m)\n",
      "File \u001b[1;32mc:\\Users\\AnthonyWynne\\code_workspace\\text_temporal\\venv\\lib\\site-packages\\pandas\\core\\internals\\construction.py:568\u001b[0m, in \u001b[0;36m_prep_ndarraylike\u001b[1;34m(values, copy)\u001b[0m\n\u001b[0;32m    564\u001b[0m \u001b[39m# we could have a 1-dim or 2-dim list here\u001b[39;00m\n\u001b[0;32m    565\u001b[0m \u001b[39m# this is equiv of np.asarray, but does object conversion\u001b[39;00m\n\u001b[0;32m    566\u001b[0m \u001b[39m# and platform dtype preservation\u001b[39;00m\n\u001b[0;32m    567\u001b[0m \u001b[39mif\u001b[39;00m is_list_like(values[\u001b[39m0\u001b[39m]):\n\u001b[1;32m--> 568\u001b[0m     values \u001b[39m=\u001b[39m np\u001b[39m.\u001b[39;49marray([convert(v) \u001b[39mfor\u001b[39;49;00m v \u001b[39min\u001b[39;49;00m values])\n\u001b[0;32m    569\u001b[0m \u001b[39melif\u001b[39;00m \u001b[39misinstance\u001b[39m(values[\u001b[39m0\u001b[39m], np\u001b[39m.\u001b[39mndarray) \u001b[39mand\u001b[39;00m values[\u001b[39m0\u001b[39m]\u001b[39m.\u001b[39mndim \u001b[39m==\u001b[39m \u001b[39m0\u001b[39m:\n\u001b[0;32m    570\u001b[0m     \u001b[39m# GH#21861 see test_constructor_list_of_lists\u001b[39;00m\n\u001b[0;32m    571\u001b[0m     values \u001b[39m=\u001b[39m np\u001b[39m.\u001b[39marray([convert(v) \u001b[39mfor\u001b[39;00m v \u001b[39min\u001b[39;00m values])\n",
      "\u001b[1;31mValueError\u001b[0m: setting an array element with a sequence. The requested array has an inhomogeneous shape after 1 dimensions. The detected shape was (66,) + inhomogeneous part."
     ]
    }
   ],
   "source": [
    "# write the items in all_timex to a file\n",
    "with open(\"timex.txt\", \"w\") as f:\n",
    "    for item in all_timex:\n",
    "        f.write(f\"{item} \")\n",
    "        "
   ]
  },
  {
   "cell_type": "code",
   "execution_count": 24,
   "metadata": {},
   "outputs": [
    {
     "data": {
      "text/plain": [
       "<html><body><p>Maryland, e== See also ==-1995 NCAA Division I Women's Lacrosse Championship ( <timex3 type=\"DATE\" value=\"1995\">1995 </timex3> MC Division II Lacesis Championship-HK== References == <timesx0497></timesx0497></p></body></html>"
      ]
     },
     "execution_count": 24,
     "metadata": {},
     "output_type": "execute_result"
    }
   ],
   "source": [
    "pred_soup"
   ]
  },
  {
   "cell_type": "code",
   "execution_count": 25,
   "metadata": {},
   "outputs": [
    {
     "data": {
      "text/plain": [
       "[' Maryland, e== See also ==-1995 NCAA Division I Women\\'s Lacrosse Championship ( <timex3 type=\"DATE\" value=\"1995\">1995 </timeX3>  MC Division II Lacesis Championship-HK== References ==  <timesx0497\">']"
      ]
     },
     "execution_count": 25,
     "metadata": {},
     "output_type": "execute_result"
    }
   ],
   "source": [
    "decoded_preds"
   ]
  },
  {
   "cell_type": "code",
   "execution_count": 29,
   "metadata": {},
   "outputs": [
    {
     "name": "stderr",
     "output_type": "stream",
     "text": [
      "c:\\Users\\AnthonyWynne\\code_workspace\\text_temporal\\venv\\lib\\site-packages\\transformers\\generation\\utils.py:1387: UserWarning: Neither `max_length` nor `max_new_tokens` has been set, `max_length` will default to 512 (`self.config.max_length`). Controlling `max_length` via the config is deprecated and `max_length` will be removed from the config in v5 of Transformers -- we recommend using `max_new_tokens` to control the maximum length of the generation.\n",
      "  warnings.warn(\n"
     ]
    }
   ],
   "source": [
    "all_timex = []\n",
    "for short in shorts:\n",
    "    model_inputs = tokenizer(short, truncation=True, return_tensors=\"pt\")\n",
    "    out = model.generate(**model_inputs)\n",
    "    decoded_preds = tokenizer.batch_decode(out, skip_special_tokens=True, )\n",
    "    all_timex += decoded_preds\n",
    "    # extract the timex tags\n",
    "    # for pred in decoded_preds:\n",
    "    #     timex_preds = pred.split(\"<timex3\")[1]\n",
    "    #     print(timex_preds)\n",
    "    #     break\n",
    "\n",
    "    # pred_soup = BeautifulSoup(clean_predictions(decoded_preds[0]), \"lxml\")\n",
    "    # timex_preds = pred_soup.findAll(\"timex3\")\n",
    "    # all_timex += timex_preds"
   ]
  },
  {
   "cell_type": "code",
   "execution_count": 30,
   "metadata": {},
   "outputs": [
    {
     "name": "stdout",
     "output_type": "stream",
     "text": [
      "The  <timex3 type=\"DATE\" value=\"1995\"> 1995 </timeX3>  NCAA Division I men's lacrosse tournament was the 25th annual DivisionI NCAA Men's Lacrosse Championship tournament  \"<timeux=\"REF\"></timeXX\">\n",
      " Twelve NCAA Division I college men's lacrosse teams met after having played their way through  <timex3 type=\"DURATION\" value=\"P1C\"> a regular season </timeX3>  >.  regular Division  \"<time x3 quant=\"E\n",
      " and for some <timex3 type=\"DATE\" value=\"2014-05-23\"> </timeX3>.  <DURATION\" Value=\"PXM\"> Some for SOME </D\"> and FOR some </> >>...  </dd\n",
      " a conference  <timex3 type=\"DATE\" value=\"2015-FA\"> tournament </time x3> >.  conference tournament  this conference tournaments  </>> \" <D conferenceTD  a Conference tournament</timeq=\"TAST_REF\">\n",
      "\"The championship game was played at Maryland's home field  <timex3 type=\"DATE\" value=\"2015-09-23\"> </time x3>  at home's homes field field</timeX>'s home Field field <at'>>\n",
      " <timex3 type=\"DATE\" value=\"1793-11\"> Byrd Stadium </time x3>   <DAST_REF\"> Stadium Stadium</time03>. <TIME\" valuation=\"2015-03-23TNI\"> Night Stadium> )\n",
      " in front of 26 </timex3 type=\"TIME\" value=\"2013-09-26T24:00\"> 26</timeX3>.  <time x3 kind=\"DURATION \"P26M\"> 28 of 28 </x 3>  </\n",
      " <timex3 type=\"DATE\" value=\"1998-09-23\"> 229 </timers </x 3>  fans>...  <DURATION=\"P1Y\"> fans </r </rt\"> fan fans</timev3> )>..\n",
      " The game saw Syracuse University defeat University of Maryland by the score of 13ick9 <timex3 type=\"DURATION\" value=\"P9Y\"> 9 </timeX3>.  <D\">9> :9 University9/9</timeq=\"9\n",
      "  <timex3 type=\"DATE\" value=\"2014-10-25\"> Despite the loss </timeX3>  >.  loss  The loss</timeXX\"> November </TIME\" type\"> Curse  </ timex5> Despite THE loss\n",
      " Maryland goalie Brian Dougherty was named the tournament's Most Outstanding Player </timex3 type=\"DATE\" value=\"2014-11-10\"> </ Timex4>  Player  <timeX4-WXX-2\"> Holiday </TIME\" type\"> Player\n",
      "Dougherty was outstanding in the  <timex3 type=\"DURATION\" value=\"P5S\"> semi-finals </timeq>. > \"finals  \"<time x3 sort=\"SET\" Value=\"XXXX-XX-3\"> Semi-months </d>\n",
      " showing why he earned the award as Division I goalie of  <timex3 type=\"DURATION\" value=\"P1Y-#1\"> the year </timeXX-1TV1:00 AD of the #Y goalkeeper of THE year</timeX3> \n",
      " making 23 saves on 59 shots  <timex3 type=\"DURATION\" value=\"PT59M\"> </timeX3>  shots on59 shots </timesq\"> 58 shots</timeq=\"T 59>.  saves 23 save on 1959 shots \"\n",
      " In  <timex3 type=\"DATE\" value=\"2009-Q1\"> the first quarter </timeX3>  </ timex 3>.   first  \"<timeq=\"P1Q\"> New quarter</time X4>...  @\n",
      " Hopkins' attack took 19 shots with Dougherty making 12 saves  <timex3 type=\"DATE\" value=\"2014-12-25\"> 12 </timeX3>  saves 12 save >. urs' attacks took19 shots  misses  :) \n",
      " allowing Maryland to take a  <timex3 type=\"DURATION\" value=\"P4Q\"> 4-1 first-quarter </timeX3>  lead   \"quarter lead lead a 4 -1  \"<timexi\">first-Q 1/quarter \n",
      "\"In the finals  <timex3 type=\"DATE\" value=\"FUTURE_REF\"> finals </timeX3> >.  \"<time x3S=\"PAST_3TNI\">>... the Finals AST>> ) \n",
      " Maryland led 4 to 2 with  <timex3 type=\"TIME\" value=\"2014-08-01TXX:00\"> a minute left in the first half </timeX3>  before the Orange exploded to three straight goals to claim a 5-4 half time lead and that momentum led to the victory\n",
      "Dougherty again had 23 saves in the finals  <timex3 type=\"DATE\" value=\"FUTURE_REF\"> finals </timeX3>  >. Teamherty once had 24 saves IN the Finals  \"<time x3REF-complete finals\n",
      "\"Despite being on the losing side <timex3 type=\"DURATION\" value=\"P2D\"> side </timeX3> >.  <DUTURE_REF\"> being of the failing side</timeEX\"> alongside the lose side>>\n",
      " Maryland goalie Brian Dougherty was named most  <timex3 type=\"DATE\" value=\"2014-11-10\"> nearly </timeX3>  standing player Mcherty. Maryland goalkeeper Brian Muellerherty died named Most noutstanding player <timethis-SU\">\n",
      "Also honored on the All-Tournament team were Syracuse’s Mark Fietta  <timex3 type=\"DATE\" value=\"2014-11-15\"> </timenty\"> Syracuse</timeX3> ”s Matt Fientta\n",
      "Nick Licameli  <timex3 type=\"DATE\" value=\"2014-12-25\"> Nick Liceli </timexi> >.  LicELi Nick [ Nick Lamelamel i <dAST_REF\"></timevamelu\n",
      " Rob Kavovit. <timex3 type=\"DATE\" value=\"2014-09-11\"> </timeit </at=\"PAST_REF\"> Nov Kovovat</timeex3>> >.  KAVovi> )\n",
      " Ric Beardsley and Casey Powell  <timex3 type=\"DATE\" value=\"2015-12-25\"> </time x3>  Powell. Powell Beardley AND Casey P <DAST_REF\"> Powell Powell</timeXX\"> P Powell </rang\n",
      " as well as Dan Radebaugh  <timex3 type=\"DATE\" value=\"2014-11-01\"> at well </timeq=\"SET]\">  as Daniel AS DanRadevm  </ timex 3> as he as Matt Radesbaugh\n",
      " Matt Hahn  <timex3 type=\"DATE\" value=\"2013-11-23\"> </time X3>.  Hohn  </time x3-ahn Hah >.  Lahn</> H H <> Lah\n",
      "Peter Hilgartner and Rob Chomo for the Terrapins  <timex3 type=\"DATE\" value=\"2014-11-25\"> </time x3>  in The Terripins</timexi\"> November </ Timex4>.  \"\n",
      "\"For the 25th Division I tournament  <timex3 type=\"DATE\" value=\"2015-03-23\"></time I </time x3>  and tournament 25 tournament • tournament T tournament I luck I tournaments  </try  > <>\n",
      " a 25th anniversary  <timex3 type=\"DATE\" value=\"2014-11-25\"> All-time </time x3>  team was selected  t team \" selected P -time team wasn selected T- time team it's selected Mohamed-m team\n",
      " This team was nominated and selected based on the voting of all current and past Division I head coaches and all  <timex3 type=\"DATE\" value=\"PRESENT_REF\"> current </timeX3>  and  \"<timeXX- past members of the NCAA Men’s Lacrosse Committee\n",
      " The members of the team  <timex3 type=\"DATE\" value=\"2013-09-08\"> team </timeq=\"2015-12-WXX-2TNI\"> # team>. The Members of THE team</timeX3>> \n",
      " followed by their last year of competition included: Scott Bacigalupo Princeton  <timex3 type=\"DATE\" value=\"1994-XX\"> 1994 </timeq3>  Princeton 1994.  \"<timexi>, Princeton n > \"t \n",
      " Tom Cafaro Army  <timex3 type=\"DATE\" value=\"1971-XX\"> 1971 </time x3>. T Cafo Army 1971  *  CafuArmy  \"<timeoo\"> 2011 </rt iTunes  Pegasus  </ timex 3> \n",
      "John DeTomasso Johns Hopkins  <timex3 type=\"DATE\" value=\"1986\"> 1986 </time x3>   De Tomasso • Hopkins De Hopkinsasso John Hopkins 1986  Andy DeTasso Hopkins Hopkins *  DETomass Johns Nobel  @\n",
      " Del Dressel Johns Hopkins  <timex3 type=\"DATE\" value=\"1986-XX\"> 1986 </time x3>.  Dr Dres@ Johns Nichols  @ Dasel John Hopkins Hopkins *  Dres>   Da Hopkins 1986  DE Dresmith  3\n",
      "Mike Federico Johns Hopkins  <timex3 type=\"DATE\" value=\"1980-10\"> 1980 </time x3>. Mike Federco Johns Nichols  \"<time Hopkins\"> 1981</timeXX AD 1980> >> <D DEFico John Hopkins 1980\n",
      " Mike French Cornell  <timex3 type=\"DATE\" value=\"1976\"> 1976 </time x3>.  Spanish Cornell 1976 </timeex=\"E 1976-XX\"> 1974 </hard 1976 D French Cedar  \"<time X=\" 1976\"> 1975 </x 3> \n",
      "Gary Gait Syracuse  <timex3 type=\"DATE\" value=\"1990-10-02\"> 1990 </timeX3>  >, Syracuse Gast Syracuse 1990  Tait Alexandria  \"<timeex=\" SAT\"> 90 1990 D 1990</time X=\">.\n",
      "Paul Gait Syracuse  <timex3 type=\"DATE\" value=\"1990\"> 1990 </timeX3>. Paul Gast Syracuse 1990  T gAST Syracuse 90  \"<time X\"> 90 1990 D 1990 1990</time x>  N  (<timeex\n",
      "Mark Greenberg Johns Hopkins  <timex3 type=\"DATE\" value=\"1980\"> 1980 </time x3>   Greenberg  @ Greenberg John Hopkins 1980  Richmond  Ashley Johns Nobel  JP  Pittsburgh  Andy  Ash Hopkins F Hopkins #  Dr Johns \n",
      " Tom Haus North Carolina  <timex3 type=\"DATE\" value=\"1980\"> 1980 </timeix>   LausNorth Carolina 1980</timeEX3>.  HP North Hurricane  \"<timec\">1980 </ timex 3>,  House H Carolina\n",
      " Chris Kane Cornell  <timex3 type=\"DATE\" value=\"1979\"> 1979 </time x3>   @ Kane Cedar  \"<time X 3 type \"DURATION \"P1979Y\"> 2009  Sai 1979  $  Chi  Andy  Wei \n",
      " Brad Kotz Syracuse  <timex3 type=\"DATE\" value=\"1985\"> 1985 </time x3> .  @ Kotm Syracuse 1985>. Brad Otz ::   Syracuse D  \"<timeex=\" DATE \"1985-XX\">1985 </ timex 3> )\n",
      " Richard Kowalchuk Johns Hopkins  <timex3 type=\"DATE\" value=\"1974-XX\"> 1974 </time x3>.  Skyachuk • Hopkins Kornaluk Johns Hip Hopkins 1974</timeXX- 1974 John Hopkins Navy Arm Hopkins JP\n",
      " Dan MacKesey Cornell  <timex3 type=\"DATE\" value=\"1977\"> 1977 </timey3>.  Matt Mackesei Cornell 1977  MacMacKasey Cedar  >  [ MacMesee Cornell F  ​ \n",
      " Eamon McEneaney Cornell  <timex3 type=\"DATE\" value=\"1977\"> 1977 </time x3> . EEmne a Cornell Cornell 1977.  Russian McYounealy Cornell # <Dagy MCEateaney Cedar  \n",
      "David Morrow Princeton  <timex3 type=\"DATE\" value=\"1993\"> 1993 </time x3>.  Morrow Clinton  \"<timeex=\" DURATION\" Value=\"P1993Y\"> 1994 </D DE 1993 1993</time X=\">  \n",
      " Tim Nelson Syracuse  <timex3 type=\"DATE\" value=\"1985\"> 1985 </time x3>.  Nelson Reno > . <DURATION \"P1985Y\"> 2015 </x 3>,   Syracuse Syracuse 1985  \"<timeex>\n",
      "Mike O’Neill Johns Hopkins  <timex3 type=\"DATE\" value=\"1978\"> 1978 </time x3>  >. Mike O'Neill John Hopkins Washington  @  Mr Johns Johns Prix  \"<time X Hopkins INT  India  This \n",
      "Dave Pietramala Johns Hopkins  <timex3 type=\"DATE\" value=\"1989-XX\"> 1989 </time x3> >.  Piet Parmala • Johns Piet Hopkinsala John Hopkins' \"<timeXX=\"IT_REF\"> 2009 </timesx5>\n",
      "Larry Quinn Johns Hopkins  <timex3 type=\"DATE\" value=\"1985\"> 1985 </time x3> >.  Quinn John Hopkins 1985  @ Maryland Quinn Hopkins Hopkins \"  Tosh'Hopkins Asia  *   Ashley  \"<timeXX\">1985 </rod \n",
      "Jonathan Reese Yale  <timex3 type=\"DATE\" value=\"1990\"> 1990 </timeX3>   Juan Yale N  \"<time X=\"TNI\"> 2010</timemd 1990 $  Ashley Yale 1990  @  Arlington Yale Q  Turner \n",
      "Brend Schneck Johns Hopkins  <timex3 type=\"DATE\" value=\"1981-XX\"> 1981 </time x3>.  Schrock John Hopkins 1981  Sai >   \"<timeXX-1\">1981 </timesx 3>, Brendan Schneack Johns\n",
      " Tom Sears North Carolina  <timex3 type=\"DATE\" value=\"1983-XX\"> 1983 </time X3>  >. Yu Sears N Carolina 1983  Madrid H Carolina D Carolina Index </timemAST  {* North Hurricane  Customer  Murray \n",
      "Jack Thomas Johns Hopkins  <timex3 type=\"DATE\" value=\"1974-XX\"> 1974 </time x3>   JP Hopkins Johns  @ Juan Johns Johns 1974  Juan Jefferson Johns Navy  Richmond  Sandy  Ashley  Detective  Mr  Tai Hopkins 1974\n",
      "Frank Urso Maryland  <timex3 type=\"DATE\" value=\"1976\"> 1976 </time x3>.  [Urso Md >   \"<timeex=\"T17:00\"> Pi 1976 Maryland 1976</timeus=\"PAST_REF\"> 1975 </ex 1976 \n",
      "\"Atl== Bracket == GE*  =  <timex3 type=\"TIME\" value=\"2013-05-30TXX\"> 5 Overtime </time x3>  fail. Box scores ===-Tournament Semi-finals #-tournament Quarterfinals‎\n",
      " Maryland (Named the tournament's Most Outstanding Player) -Mark Fietta  <timex3 type=\"DATE\" value=\"2014-11-01\">ta </timeq=\"2015-10-31\"> October</time x3>  from Named\n",
      " SyracuseοNick Licameli <timex3 type=\"DATE\" value=\"2014-12-25\"> </timexi </3> -NickNick Nick Liceli  <>...N LicELi</timei>  iNick L Licleri\n",
      " SyracusekRobRob Kavovit <timex3 type=\"DATE\" value=\"2014-11-18\"> </timeit </rtit</timeex3>.  <rt>ititITitukit.> ​Rob Khavevit\n",
      " SyracusekRic Beardsley.  <timex3 type=\"DATE\" value=\"2013-11-23\"> Syracuse </time x3> :Rac Beardley </timexi>. icBeardsLEY >> ]>\n",
      " Syracuse NgCasey Powelly Customery Pleasanty <timex3 type=\"DATE\" value=\"2014-12-25\"> Powell </timeyy </TIME\" type>   <DAST_EVERYT18:00\"> DraperypAST </\n",
      " Syracusek <timex3 type=\"DATE\" value=\"2014-09-17\"> Rade </time x3> baugh@Dan R <Radebaugh=\"2015-12-01\"> </r </Ratabaugh</timers>.  <r Rodebaugh\n",
      " Maryland  <timex3 type=\"DATE\" value=\"2013-11-03\"> </timeX3> :Matt Hahn   </>.  Matt Hoya  TH  Hhan </timec >...  HP Hah \n",
      " Maryland:Peter Hilgartner </timex3 type=\"DATE\" value=\"2014-10-25\"> </>.  <timett=\"EVERY\" type>, Maryland \"Peter Ulgner</timeq=\"T17:00\"> November </\n",
      " Maryland [Rob Chomo  <timex3 type=\"DATE\" value=\"2014\"> </time x3>. Maryland @Rob CHomo</timec> >...> •Rob@Mo Chom <>>, Maryland @RobChomo </\n",
      " Maryland, e== See also ==-1995 NCAA Division I Women's Lacrosse Championship ( <timex3 type=\"DATE\" value=\"1995\">1995 </timeX3>  MC Division II Lacesis Championship-HK== References ==  <timesx0497\">\n"
     ]
    }
   ],
   "source": [
    "for item in all_timex:\n",
    "    print(item)"
   ]
  },
  {
   "cell_type": "code",
   "execution_count": null,
   "metadata": {},
   "outputs": [],
   "source": []
  }
 ],
 "metadata": {
  "kernelspec": {
   "display_name": "venv",
   "language": "python",
   "name": "python3"
  },
  "language_info": {
   "codemirror_mode": {
    "name": "ipython",
    "version": 3
   },
   "file_extension": ".py",
   "mimetype": "text/x-python",
   "name": "python",
   "nbconvert_exporter": "python",
   "pygments_lexer": "ipython3",
   "version": "3.9.7"
  },
  "orig_nbformat": 4,
  "vscode": {
   "interpreter": {
    "hash": "0105bf7ee2e394601d98cbdcd0652870161dfa2551359b9541cf65763133aa5e"
   }
  }
 },
 "nbformat": 4,
 "nbformat_minor": 2
}
