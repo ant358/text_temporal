{
 "cells": [
  {
   "cell_type": "code",
   "execution_count": 23,
   "metadata": {},
   "outputs": [],
   "source": [
    "import torch\n",
    "import os\n",
    "import re\n",
    "from bs4 import BeautifulSoup\n",
    "from transformers import AutoTokenizer, EncoderDecoderModel\n",
    "from nltk.tokenize import sent_tokenize\n",
    "from temporal_taggers.evaluation import clean_predictions"
   ]
  },
  {
   "cell_type": "code",
   "execution_count": 2,
   "metadata": {},
   "outputs": [],
   "source": [
    "\n",
    "def find_timex_in_text(timex_preds, input_text, model_type):\n",
    "    if model_type == \"bert\":\n",
    "        original_paragraph = input_text.lower()\n",
    "    else:\n",
    "        original_paragraph = input_text\n",
    "    end_previous_timex = 0\n",
    "    previous_timex_cleaned_text = \"\"\n",
    "    new_text = \"\"\n",
    "    index = 0\n",
    "    for timex in timex_preds:\n",
    "        cleaned_text = timex.text.replace(\"<\", \"\").replace(\">\", \"\").replace(\"\\\"\", \"\").strip()\n",
    "        # sometimes the cleaned text has \"leftovers\"\n",
    "        if cleaned_text.startswith(\"- \"):\n",
    "            cleaned_text = cleaned_text[2:]\n",
    "\n",
    "        if len(cleaned_text) < 2:\n",
    "            continue\n",
    "\n",
    "        beginning_timex = original_paragraph[end_previous_timex:].find(cleaned_text)\n",
    "        if cleaned_text == \"day\" and beginning_timex != -1 and \\\n",
    "                original_paragraph[beginning_timex - 2:beginning_timex] == \"to\":\n",
    "            cleaned_text = \"today\"\n",
    "            beginning_timex = original_paragraph[end_previous_timex:].find(cleaned_text)\n",
    "\n",
    "        # if the model predicted a full year instead of the last two digits\n",
    "        if beginning_timex == -1 and len(cleaned_text) == 4 and cleaned_text.isdigit():\n",
    "            beginning_timex = original_paragraph[end_previous_timex:].find(cleaned_text[2:])\n",
    "            cleaned_text = cleaned_text[2:].strip()\n",
    "\n",
    "        # if the model predicted full year with an extra repetition\n",
    "        if beginning_timex == -1 and len(cleaned_text) == 6 and cleaned_text.isdigit():\n",
    "            beginning_timex = original_paragraph[end_previous_timex:].find(cleaned_text[:-2])\n",
    "            cleaned_text = cleaned_text[:-2].strip()\n",
    "\n",
    "        # if the first word is repeating\n",
    "        elif beginning_timex == -1 and len(cleaned_text.split(\" \")) > 1 and \\\n",
    "                cleaned_text.split(\" \")[0] == cleaned_text.split(\" \")[1]:\n",
    "            cleaned_text = ' '.join(cleaned_text.split(\" \")[:-1])\n",
    "            beginning_timex = original_paragraph[end_previous_timex:].find(cleaned_text)\n",
    "\n",
    "        # if the first and last word is repeating\n",
    "        elif beginning_timex == -1 and len(cleaned_text.split(\" \")) > 1 and \\\n",
    "                cleaned_text.split(\" \")[0] == cleaned_text.split(\" \")[-1]:\n",
    "            cleaned_text = ' '.join(cleaned_text.split(\" \")[1:])\n",
    "            beginning_timex = original_paragraph[end_previous_timex:].find(cleaned_text)\n",
    "        # if its single word separated by \"-\"\n",
    "        elif beginning_timex == -1 and len(cleaned_text.split(\" \")) < 2 and len(cleaned_text.split(\"-\")) > 1:\n",
    "            for word in cleaned_text.split(\"-\"):\n",
    "                if word in original_paragraph[end_previous_timex:]:\n",
    "                    cleaned_text = word\n",
    "                    beginning_timex = original_paragraph[end_previous_timex:].find(cleaned_text)\n",
    "                    break\n",
    "        # more than one words the first one is a digit\n",
    "        elif beginning_timex == -1 and len(cleaned_text.split(\" \")) < 2 and len(cleaned_text) > 2 and \\\n",
    "                not cleaned_text[:1].isdigit() and cleaned_text[-1].isdigit():\n",
    "            word = cleaned_text[:-1]\n",
    "            if word.lower() in original_paragraph[end_previous_timex:].lower():\n",
    "                cleaned_text = word\n",
    "                beginning_timex = original_paragraph[end_previous_timex:].lower().find(cleaned_text.lower())\n",
    "                break;\n",
    "        # if its just a single word\n",
    "        elif beginning_timex == -1 and len(cleaned_text.split(\" \")) < 2 and len(cleaned_text) > 2 and \\\n",
    "                not cleaned_text[0].isdigit() and cleaned_text[-1].isdigit():\n",
    "            for i in range(2, len(cleaned_text)):\n",
    "                word = cleaned_text[:i]\n",
    "                if \" \" + word + \" \" in original_paragraph[end_previous_timex:] or \\\n",
    "                        \" \" + word + \".\" in original_paragraph[end_previous_timex:] or \\\n",
    "                        \" \" + word + \",\" in original_paragraph[end_previous_timex:]:\n",
    "                    cleaned_text = word\n",
    "                    beginning_timex = original_paragraph[end_previous_timex:].find(cleaned_text)\n",
    "                    break;\n",
    "\n",
    "        # if its just a single word ending with digits\n",
    "        if beginning_timex == -1 and len(cleaned_text.split(\" \")) < 2:\n",
    "            for i in range(2, len(cleaned_text)):\n",
    "                word = cleaned_text[:i]\n",
    "                if \" \" + word + \" \" in original_paragraph[end_previous_timex:] or \\\n",
    "                        \" \" + word + \".\" in original_paragraph[end_previous_timex:] or \\\n",
    "                        \" \" + word + \",\" in original_paragraph[end_previous_timex:]:\n",
    "                    cleaned_text = word\n",
    "                    beginning_timex = original_paragraph[end_previous_timex:].find(cleaned_text)\n",
    "                    break;\n",
    "        # if you can not find it, see if you can match the first word in the multi word one\n",
    "        if beginning_timex == -1 and len(cleaned_text.split(\" \")) > 1:\n",
    "            for word in cleaned_text.split(\" \"):\n",
    "                if word in original_paragraph[end_previous_timex:] and word not in [\"a\", \"-\", \".\", \"the\",\n",
    "                                                                                    \"in\", \"then\", \"'s\",\n",
    "                                                                                    \"have\", \"at\", \"be\"]:\n",
    "                    cleaned_text = word\n",
    "                    beginning_timex = original_paragraph[end_previous_timex:].find(cleaned_text)\n",
    "                    break\n",
    "\n",
    "        if beginning_timex == -1 and cleaned_text.lower() in original_paragraph[\n",
    "                                                             end_previous_timex:].lower():\n",
    "            beginning_timex = original_paragraph[end_previous_timex:].lower().find(cleaned_text.lower())\n",
    "\n",
    "        # avoid tag repetition\n",
    "        if cleaned_text == previous_timex_cleaned_text:\n",
    "            continue\n",
    "\n",
    "        previous_timex_cleaned_text = cleaned_text\n",
    "\n",
    "        # if there is still no match, just forget it.\n",
    "        if beginning_timex == -1:\n",
    "            continue\n",
    "\n",
    "        index = index + 1\n",
    "        beginning_timex = beginning_timex + end_previous_timex\n",
    "        # if the word ended with one of these symbols do not put a space after timex tag\n",
    "        if original_paragraph[beginning_timex - 1:beginning_timex] in [\"\\n\", \"'\", \"-\", \",\", \"\\\"\", \"(\"] or \\\n",
    "                original_paragraph[beginning_timex - 1:beginning_timex].isdigit():\n",
    "            new_text += f'{input_text[end_previous_timex:beginning_timex]}<TIMEX3 tid=\"t{index + 1}\" ' \\\n",
    "                        f'type=\"{timex.attrs[\"type\"].upper()}\" ' \\\n",
    "                        f'value=\"{timex.attrs[\"value\"].strip().replace(\"</timex3>\", \"\").replace(\"<\", \"\").replace(\">\", \"\").replace(\" \", \"\").upper()}\">{input_text[beginning_timex:beginning_timex + len(cleaned_text)]}' \\\n",
    "                        f'</TIMEX3>'\n",
    "\n",
    "        else:  # otherwise put a space\n",
    "            new_text += f'{input_text[end_previous_timex:beginning_timex]} <TIMEX3 tid=\"t{index + 1}\" ' \\\n",
    "                        f'type=\"{timex.attrs[\"type\"].upper()}\" ' \\\n",
    "                        f'value=\"{timex.attrs[\"value\"].strip().replace(\"</timex3>\", \"\").replace(\"<\", \"\").replace(\">\", \"\").replace(\" \", \"\").upper()}\">{input_text[beginning_timex:beginning_timex + len(cleaned_text)]}' \\\n",
    "                        f'</TIMEX3>'\n",
    "\n",
    "        end_previous_timex = beginning_timex + len(cleaned_text)\n",
    "\n",
    "    new_text += input_text[end_previous_timex:]\n",
    "    return new_text"
   ]
  },
  {
   "cell_type": "code",
   "execution_count": 3,
   "metadata": {},
   "outputs": [],
   "source": [
    "db_output = {\n",
    "  \"pageId\": \"18160671\",\n",
    "  \"title\": \"1995 NCAA Division I Men's Lacrosse Championship\",\n",
    "  \"text\": \"The 1995 NCAA Division I men's lacrosse tournament was the 25th annual Division I NCAA Men's Lacrosse Championship tournament. Twelve NCAA Division I college men's lacrosse teams met after having played their way through a regular season, and for some, a conference tournament.\\nThe championship game was played at Maryland's home field, Byrd Stadium, in front of 26,229 fans. The game saw Syracuse University defeat University of Maryland by the score of 13–9. Despite the loss, Maryland goalie Brian Dougherty was named the tournament's Most Outstanding Player. Dougherty was outstanding in the semi-finals, showing why he earned the award as Division I goalie of the year, making 23 saves on 59 shots. In the first quarter, Hopkins' attack took 19 shots with Dougherty making 12 saves, allowing Maryland to take a 4-1 first-quarter lead.\\nIn the finals, Maryland led 4 to 2 with a minute left in the first half before the Orange exploded to three straight goals to claim a 5-4 half time lead and that momentum led to the victory. Dougherty again had 23 saves in the finals.\\nDespite being on the losing side, Maryland goalie Brian Dougherty was named most\\noutstanding player. Also honored on the All-Tournament team were Syracuse’s Mark Fietta, Nick Licameli, Rob Kavovit, Ric Beardsley and Casey Powell, as well as Dan Radebaugh, Matt Hahn, Peter Hilgartner and Rob Chomo for the Terrapins.\\nFor the 25th Division I tournament, a 25th anniversary All-time team was selected. This team was nominated and selected based on the voting of all current and past Division I head coaches and all current and past members of the NCAA Men’s Lacrosse Committee. The members of the team, followed by their last year of competition included: Scott Bacigalupo Princeton 1994, Tom Cafaro Army 1971, John DeTomasso Johns Hopkins 1986, Del Dressel Johns Hopkins 1986, Mike Federico Johns Hopkins 1980, Mike French Cornell 1976, Gary Gait Syracuse 1990, Paul Gait Syracuse 1990, Mark Greenberg Johns Hopkins 1980, Tom Haus North Carolina 1980, Chris Kane Cornell 1979, Brad Kotz Syracuse 1985, Richard Kowalchuk Johns Hopkins 1974, Dan MacKesey Cornell 1977, Eamon McEneaney Cornell 1977, David Morrow Princeton 1993, Tim Nelson Syracuse 1985, Mike O’Neill Johns Hopkins 1978, Dave Pietramala Johns Hopkins 1989, Larry Quinn Johns Hopkins 1985, Jonathan Reese Yale 1990, Brendan Schneck Johns Hopkins 1981, Tom Sears North Carolina 1983, Jack Thomas Johns Hopkins 1974, Frank Urso Maryland 1976.\\n\\n\\n== Bracket ==\\n*  =  Overtime\\n\\n\\n=== Box scores ===\\nTournament Finals\\n\\nTournament Semi-finals\\n\\nTournament Quarterfinals\\n\\nTournament First Round\\n\\n\\n== All-Tournament Team ==\\nBrian Dougherty, Maryland (Named the tournament's Most Outstanding Player)\\nMark Fietta, Syracuse\\nNick Licameli, Syracuse\\nRob Kavovit, Syracuse\\nRic Beardsley, Syracuse\\nCasey Powell, Syracuse\\nDan Radebaugh, Maryland\\nMatt Hahn, Maryland\\nPeter Hilgartner, Maryland\\nRob Chomo, Maryland\\n\\n\\n== See also ==\\n1995 NCAA Division I Women's Lacrosse Championship\\n1995 NCAA Division II Lacrosse Championship\\n\\n\\n== References ==\"\n",
    "}"
   ]
  },
  {
   "cell_type": "code",
   "execution_count": 4,
   "metadata": {},
   "outputs": [],
   "source": [
    "model_type = \"roberta\"\n",
    "tokenizer = AutoTokenizer.from_pretrained(\"satyaalmasian/temporal_tagger_roberta2roberta\")\n",
    "model = EncoderDecoderModel.from_pretrained(\"satyaalmasian/temporal_tagger_roberta2roberta\")\n"
   ]
  },
  {
   "cell_type": "code",
   "execution_count": 5,
   "metadata": {},
   "outputs": [],
   "source": [
    "\n",
    "# --- if you want to use the bert model, uncomment the following lines\n",
    "# model_type=\"bert\"\n",
    "# tokenizer = AutoTokenizer.from_pretrained(\"satyaalmasian/temporal_tagger_bert2bert\")\n",
    "# model = EncoderDecoderModel.from_pretrained(\"satyaalmasian/temporal_tagger_bert2bert\")\n",
    "\n",
    "input_texts = [\"I lived in New York for 10 years.\"]\n",
    "input_texts += [\"Cumbre Vieja last erupted in 1971 and in 1949.\"]\n",
    "input_texts += [\"The club's founding date, 15 January, was intentional.\"]\n",
    "input_texts += [\"Police were first called to the scene just after 7.25am this morning, Sunday, September 19, \"\n",
    "                \"and have confirmed they will continue to remain in the area for some time.\"]\n"
   ]
  },
  {
   "cell_type": "code",
   "execution_count": 6,
   "metadata": {},
   "outputs": [
    {
     "name": "stderr",
     "output_type": "stream",
     "text": [
      "c:\\Users\\AnthonyWynne\\code_workspace\\text_temporal\\venv\\lib\\site-packages\\transformers\\generation\\utils.py:1387: UserWarning: Neither `max_length` nor `max_new_tokens` has been set, `max_length` will default to 512 (`self.config.max_length`). Controlling `max_length` via the config is deprecated and `max_length` will be removed from the config in v5 of Transformers -- we recommend using `max_new_tokens` to control the maximum length of the generation.\n",
      "  warnings.warn(\n"
     ]
    },
    {
     "name": "stdout",
     "output_type": "stream",
     "text": [
      "I lived in New York for  <TIMEX3 tid=\"t2\" type=\"DURATION\" value=\"P10Y\">10 years</TIMEX3>.\n",
      "Cumbre Vieja last erupted in  <TIMEX3 tid=\"t2\" type=\"DATE\" value=\"1971-XX\">1971</TIMEX3> and in 1949.\n",
      "The club's founding date,  <TIMEX3 tid=\"t2\" type=\"DATE\" value=\"1999-01-15\">15</TIMEX3> January, was intentional.\n",
      "Police were first called to the scene just after  <TIMEX3 tid=\"t2\" type=\"TIME\" value=\"1998-09-21T19:00\">7.25am this morning, Sunday, September 19</TIMEX3>, and have confirmed they will continue to remain in the area for some time.\n"
     ]
    }
   ],
   "source": [
    "\n",
    "for input_text in input_texts:\n",
    "    model_inputs = tokenizer(input_text, truncation=True, return_tensors=\"pt\")\n",
    "    out = model.generate(**model_inputs)\n",
    "    decoded_preds = tokenizer.batch_decode(out, skip_special_tokens=True)\n",
    "    pred_soup = BeautifulSoup(clean_predictions(decoded_preds[0]), \"lxml\")\n",
    "    timex_preds = pred_soup.findAll(\"timex3\")\n",
    "    new_text = find_timex_in_text(timex_preds, input_text, model_type)\n",
    "    print(new_text)"
   ]
  },
  {
   "cell_type": "code",
   "execution_count": 12,
   "metadata": {},
   "outputs": [],
   "source": [
    "# split the text into sentences\n",
    "sentences = sent_tokenize(db_output[\"text\"], )\n"
   ]
  },
  {
   "cell_type": "code",
   "execution_count": 18,
   "metadata": {},
   "outputs": [
    {
     "name": "stderr",
     "output_type": "stream",
     "text": [
      "c:\\Users\\AnthonyWynne\\code_workspace\\text_temporal\\venv\\lib\\site-packages\\transformers\\generation\\utils.py:1387: UserWarning: Neither `max_length` nor `max_new_tokens` has been set, `max_length` will default to 512 (`self.config.max_length`). Controlling `max_length` via the config is deprecated and `max_length` will be removed from the config in v5 of Transformers -- we recommend using `max_new_tokens` to control the maximum length of the generation.\n",
      "  warnings.warn(\n"
     ]
    },
    {
     "name": "stdout",
     "output_type": "stream",
     "text": [
      "The  <TIMEX3 tid=\"t2\" type=\"DATE\" value=\"1995\">1995</TIMEX3> NCAA Division I men's lacrosse tournament was the 25th annual Division I NCAA Men's Lacrosse Championship tournament.\n",
      "Twelve NCAA Division I college men's lacrosse teams met after having played their way through a regular season, and for some, a conference tournament.\n",
      "The championship game was played at Maryland's home field, Byrd Stadium, in front of 26,229 fans.\n",
      "The game saw Syracuse University defeat University of Maryland by the score of 13–9.\n",
      " <TIMEX3 tid=\"t2\" type=\"DATE\" value=\"FUTURE_REF\">Despite</TIMEX3> the loss, Maryland goalie Brian Dougherty was named the tournament's Most Outstanding Player.\n",
      "Dougherty was outstanding in the semi-finals, showing why he earned the award as Division I goalie of the  <TIMEX3 tid=\"t2\" type=\"DATE\" value=\"1989-10-25\">year</TIMEX3>, making 23 saves on 59 shots.\n",
      "In  <TIMEX3 tid=\"t2\" type=\"DATE\" value=\"1989-Q1\">the first quarter</TIMEX3>, Hopkins' attack took 19 shots with Dougherty making 12 saves, allowing Maryland to take a 4-1 first-quarter lead.\n",
      "In the finals, Maryland led 4 to 2 with a minute left in  <TIMEX3 tid=\"t2\" type=\"DATE\" value=\"BC0490-H1\">the first half</TIMEX3> before the Orange exploded to three straight goals to claim a 5-4 half time lead and that momentum led to the victory.\n",
      "Dougherty again had 23 saves in the finals.\n",
      "Despite being on the losing side, Maryland goalie Brian Dougherty was named most\n",
      "<TIMEX3 tid=\"t2\" type=\"DATE\" value=\"1998-11-02\">outstanding</TIMEX3> player.\n",
      "Also honored on the All-Tournament team were Syracuse’s Mark Fietta, Nick Licameli, Rob Kavovit, Ric Beardsley and Casey Powell, as well as Dan Radebaugh, Matt Hahn, Peter Hilgartner and Rob Chomo for the Terrapins.\n",
      "For the 25th Division I tournament, a 25th  <TIMEX3 tid=\"t2\" type=\"DATE\" value=\"1998-11-21\">anniversary</TIMEX3> All-time team was selected.\n",
      "This team was nominated and selected based on the voting of all  <TIMEX3 tid=\"t2\" type=\"DATE\" value=\"PRESENT_REF\">current</TIMEX3> and past Division I head coaches and all current and past members of the NCAA Men’s Lacrosse Committee.\n",
      "The members of the team, followed by their last year of competition included: Scott Bacigalupo Princeton  <TIMEX3 tid=\"t2\" type=\"DATE\" value=\"1994\">1994</TIMEX3>, Tom Cafaro Army 1971, John DeTomasso Johns Hopkins 1986, Del Dressel Johns Hopkins 1986, Mike Federico Johns Hopkins 1980, Mike French Cornell 1976, Gary Gait Syracuse 1990, Paul Gait Syracuse 1990, Mark Greenberg Johns Hopkins 1980, Tom Haus North Carolina 1980, Chris Kane Cornell 1979, Brad Kotz Syracuse 1985, Richard Kowalchuk Johns Hopkins 1974, Dan MacKesey Cornell 1977, Eamon McEneaney Cornell 1977, David Morrow Princeton 1993, Tim Nelson Syracuse 1985, Mike O’Neill Johns Hopkins 1978, Dave Pietramala Johns Hopkins 1989, Larry Quinn Johns Hopkins 1985, Jonathan Reese Yale 1990, Brendan Schneck Johns Hopkins 1981, Tom Sears North Carolina 1983, Jack Thomas Johns Hopkins 1974, Frank Urso Maryland 1976.\n",
      "== Bracket ==\n",
      "*  =  Overtime\n",
      "\n",
      "\n",
      "=== Box scores ===\n",
      "Tournament Finals\n",
      "\n",
      "Tournament Semi-finals\n",
      "\n",
      "Tournament Quarterfinals\n",
      "\n",
      "Tournament First Round\n",
      "\n",
      "\n",
      "== All-Tournament Team ==\n",
      "Brian Dougherty, Maryland (Named the tournament's Most Outstanding Player)\n",
      "Mark Fietta, Syracuse\n",
      "Nick Licameli, Syracuse\n",
      "Rob Kavovit, Syracuse\n",
      "Ric Beardsley, Syracuse\n",
      "Casey Powell, Syracuse\n",
      "Dan Radebaugh, Maryland\n",
      "Matt Hahn, Maryland\n",
      "Peter Hilgartner, Maryland\n",
      "Rob Chomo, Maryland\n",
      "\n",
      "\n",
      "== See also ==\n",
      "199<TIMEX3 tid=\"t2\" type=\"TIME\" value=\"2014-08-30TNI\">5</TIMEX3> NCAA Division I Women's Lacrosse Championship\n",
      "1995 NCAA Division II Lacrosse Championship\n",
      "\n",
      "\n",
      "== References ==\n"
     ]
    }
   ],
   "source": [
    "for sentence in sentences:\n",
    "    model_inputs = tokenizer(sentence, truncation=True, return_tensors=\"pt\")\n",
    "    out = model.generate(**model_inputs)\n",
    "    decoded_preds = tokenizer.batch_decode(out, skip_special_tokens=True)\n",
    "    pred_soup = BeautifulSoup(clean_predictions(decoded_preds[0]), \"lxml\")\n",
    "    timex_preds = pred_soup.findAll(\"timex3\")\n",
    "    new_text = find_timex_in_text(timex_preds, sentence, model_type)\n",
    "    print(new_text)\n"
   ]
  },
  {
   "cell_type": "code",
   "execution_count": 14,
   "metadata": {},
   "outputs": [
    {
     "data": {
      "text/plain": [
       "[<timex3 type=\"TIME\" value=\"2014-08-30TNI\"> 5 = 8 Overtime </timex3>]"
      ]
     },
     "execution_count": 14,
     "metadata": {},
     "output_type": "execute_result"
    }
   ],
   "source": [
    "timex_preds"
   ]
  },
  {
   "cell_type": "code",
   "execution_count": 15,
   "metadata": {},
   "outputs": [],
   "source": [
    "# split the text into pieces less than 512 tokens\n",
    "\n",
    "def split_text(text, max_length=512):\n",
    "    \"\"\"\n",
    "    Split the text into pieces less than max_length\n",
    "    \"\"\"\n",
    "    return [text[i:i + max_length] for i in range(0, len(text), max_length)]\n",
    "\n"
   ]
  },
  {
   "cell_type": "code",
   "execution_count": 16,
   "metadata": {},
   "outputs": [],
   "source": [
    "x = split_text(db_output[\"text\"])"
   ]
  },
  {
   "cell_type": "code",
   "execution_count": 17,
   "metadata": {},
   "outputs": [
    {
     "data": {
      "text/plain": [
       "[\"The 1995 NCAA Division I men's lacrosse tournament was the 25th annual Division I NCAA Men's Lacrosse Championship tournament. Twelve NCAA Division I college men's lacrosse teams met after having played their way through a regular season, and for some, a conference tournament.\\nThe championship game was played at Maryland's home field, Byrd Stadium, in front of 26,229 fans. The game saw Syracuse University defeat University of Maryland by the score of 13–9. Despite the loss, Maryland goalie Brian Dougherty w\",\n",
       " \"as named the tournament's Most Outstanding Player. Dougherty was outstanding in the semi-finals, showing why he earned the award as Division I goalie of the year, making 23 saves on 59 shots. In the first quarter, Hopkins' attack took 19 shots with Dougherty making 12 saves, allowing Maryland to take a 4-1 first-quarter lead.\\nIn the finals, Maryland led 4 to 2 with a minute left in the first half before the Orange exploded to three straight goals to claim a 5-4 half time lead and that momentum led to the vi\",\n",
       " 'ctory. Dougherty again had 23 saves in the finals.\\nDespite being on the losing side, Maryland goalie Brian Dougherty was named most\\noutstanding player. Also honored on the All-Tournament team were Syracuse’s Mark Fietta, Nick Licameli, Rob Kavovit, Ric Beardsley and Casey Powell, as well as Dan Radebaugh, Matt Hahn, Peter Hilgartner and Rob Chomo for the Terrapins.\\nFor the 25th Division I tournament, a 25th anniversary All-time team was selected. This team was nominated and selected based on the voting of a',\n",
       " 'll current and past Division I head coaches and all current and past members of the NCAA Men’s Lacrosse Committee. The members of the team, followed by their last year of competition included: Scott Bacigalupo Princeton 1994, Tom Cafaro Army 1971, John DeTomasso Johns Hopkins 1986, Del Dressel Johns Hopkins 1986, Mike Federico Johns Hopkins 1980, Mike French Cornell 1976, Gary Gait Syracuse 1990, Paul Gait Syracuse 1990, Mark Greenberg Johns Hopkins 1980, Tom Haus North Carolina 1980, Chris Kane Cornell 197',\n",
       " '9, Brad Kotz Syracuse 1985, Richard Kowalchuk Johns Hopkins 1974, Dan MacKesey Cornell 1977, Eamon McEneaney Cornell 1977, David Morrow Princeton 1993, Tim Nelson Syracuse 1985, Mike O’Neill Johns Hopkins 1978, Dave Pietramala Johns Hopkins 1989, Larry Quinn Johns Hopkins 1985, Jonathan Reese Yale 1990, Brendan Schneck Johns Hopkins 1981, Tom Sears North Carolina 1983, Jack Thomas Johns Hopkins 1974, Frank Urso Maryland 1976.\\n\\n\\n== Bracket ==\\n*  =  Overtime\\n\\n\\n=== Box scores ===\\nTournament Finals\\n\\nTournament ',\n",
       " \"Semi-finals\\n\\nTournament Quarterfinals\\n\\nTournament First Round\\n\\n\\n== All-Tournament Team ==\\nBrian Dougherty, Maryland (Named the tournament's Most Outstanding Player)\\nMark Fietta, Syracuse\\nNick Licameli, Syracuse\\nRob Kavovit, Syracuse\\nRic Beardsley, Syracuse\\nCasey Powell, Syracuse\\nDan Radebaugh, Maryland\\nMatt Hahn, Maryland\\nPeter Hilgartner, Maryland\\nRob Chomo, Maryland\\n\\n\\n== See also ==\\n1995 NCAA Division I Women's Lacrosse Championship\\n1995 NCAA Division II Lacrosse Championship\\n\\n\\n== References ==\"]"
      ]
     },
     "execution_count": 17,
     "metadata": {},
     "output_type": "execute_result"
    }
   ],
   "source": [
    "x"
   ]
  },
  {
   "cell_type": "code",
   "execution_count": 19,
   "metadata": {},
   "outputs": [],
   "source": [
    "# split the text into 500 word chunks\n",
    "\n",
    "def split_text(text, max_length=10):\n",
    "    \"\"\"\n",
    "    Split the text into pieces less than max_length\n",
    "    \"\"\"\n",
    "    return [text[i:i + max_length] for i in range(0, len(text), max_length)]\n"
   ]
  },
  {
   "cell_type": "code",
   "execution_count": 21,
   "metadata": {},
   "outputs": [],
   "source": [
    "chunks = split_text(db_output[\"text\"])"
   ]
  },
  {
   "cell_type": "code",
   "execution_count": 22,
   "metadata": {},
   "outputs": [
    {
     "name": "stderr",
     "output_type": "stream",
     "text": [
      "c:\\Users\\AnthonyWynne\\code_workspace\\text_temporal\\venv\\lib\\site-packages\\transformers\\generation\\utils.py:1387: UserWarning: Neither `max_length` nor `max_new_tokens` has been set, `max_length` will default to 512 (`self.config.max_length`). Controlling `max_length` via the config is deprecated and `max_length` will be removed from the config in v5 of Transformers -- we recommend using `max_new_tokens` to control the maximum length of the generation.\n",
      "  warnings.warn(\n"
     ]
    },
    {
     "name": "stdout",
     "output_type": "stream",
     "text": [
      "The  <TIMEX3 tid=\"t2\" type=\"DATE\" value=\"1995\">1995</TIMEX3> NCAA Division I men's lacrosse tournament was the 25th annual Division I NCAA Men's Lacrosse Championship tournament. Twelve NCAA Division I college men's lacrosse teams met after having played their way through a regular season, and for some, a conference tournament.\n",
      "The championship game was played at Maryland's home field, Byrd Stadium, in front of 26,229 fans. The game saw Syracuse University defeat University of Maryland by the score of 13–9. Despite the loss, Maryland goalie Brian\n",
      " Dougherty was named the tournament's Most Outstanding Player. Dougherty was outstanding in the semi-finals, showing why he earned the award as Division I goalie of the year, making 23 saves on 59 shots. In  <TIMEX3 tid=\"t2\" type=\"DATE\" value=\"1989-Q1\">the first quarter</TIMEX3>, Hopkins' attack took 19 shots with Dougherty making 12 saves, allowing Maryland to take a 4-1 first-quarter lead.\n",
      "In the finals, Maryland led 4 to 2 with a minute left in the first half before the Orange exploded to three straight goals to claim a 5-4 half time lead and tha\n",
      "t momentum led to the victory. Dougherty again had 23 saves in the finals.\n",
      "Despite being on the losing side, Maryland goalie Brian Dougherty was named most\n",
      "outstanding player. Also honored on the All-Tournament team were Syracuse’s Mark Fietta, Nick Licameli, Rob Kavovit, Ric Beardsley and Casey Powell, as well as Dan Radebaugh, Matt Hahn, Peter Hilgartner and Rob Chomo for the Terrapins.\n",
      "For the 25th Division I tournament, a 25th  <TIMEX3 tid=\"t2\" type=\"DATE\" value=\"1998-10-25\">anniversary</TIMEX3> All-time team was selected. This team was nominated a\n",
      "nd selected based on the voting of all  <TIMEX3 tid=\"t2\" type=\"DATE\" value=\"PRESENT_REF\">current</TIMEX3> and past Division I head coaches and all current and past members of the NCAA Men’s Lacrosse Committee. The members of the team, followed by their last year of competition included: Scott Bacigalupo Princeton 1994, Tom Cafaro Army 1971, John DeTomasso Johns Hopkins 1986, Del Dressel Johns Hopkins 1986, Mike Federico Johns Hopkins 1980, Mike French Cornell 1976, Gary Gait Syracuse 1990, Paul Gait Syracuse 1990, Mark Greenberg Johns Hopkins 1980, Tom \n",
      "Haus North Carolina 1980, Chris Kane Cornell  <TIMEX3 tid=\"t2\" type=\"DATE\" value=\"1979\">1979</TIMEX3>, Brad Kotz Syracuse 1985, Richard Kowalchuk Johns Hopkins 1974, Dan MacKesey Cornell 1977, Eamon McEneaney Cornell 1977, David Morrow Princeton 1993, Tim Nelson Syracuse 1985, Mike O’Neill Johns Hopkins 1978, Dave Pietramala Johns Hopkins 1989, Larry Quinn Johns Hopkins 1985, Jonathan Reese Yale 1990, Brendan Schneck Johns Hopkins 1981, Tom Sears North Carolina 1983, Jack Thomas Johns Hopkins 1974, Frank Urso Maryland 1976.\n",
      "\n",
      "\n",
      "== Bracket ==\n",
      "*  =  \n",
      "Overtime\n",
      "\n",
      "\n",
      "=== Box scores ===\n",
      "Tournament Finals\n",
      "\n",
      "Tournament Semi-finals\n",
      "\n",
      "Tournament Quarterfinals\n",
      "\n",
      "Tournament First Round\n",
      "\n",
      "\n",
      "== All-Tournament Team ==\n",
      "Brian Dougherty, Maryland (Named the tournament's Most Outstanding Player)\n",
      "Mark Fietta, Syracuse\n",
      "Nick Licameli, Syracuse\n",
      "Rob Kavovit, Syracuse\n",
      "Ric Beardsley, Syracuse\n",
      "Casey Powell, Syracuse\n",
      "Dan Radebaugh, Maryland\n",
      "Matt Hahn, Maryland\n",
      "Peter Hilgartner, Maryland\n",
      "Rob Chomo, Maryland\n",
      "\n",
      "\n",
      "== See also ==\n",
      "1995 NCAA Division I Women's Lacrosse Championship\n",
      "1\n",
      "995 NCAA Division II Lacrosse Championship\n",
      "\n",
      "\n",
      "== References ==\n"
     ]
    }
   ],
   "source": [
    "for chunk in chunks:\n",
    "    model_inputs = tokenizer(chunk, truncation=True, return_tensors=\"pt\")\n",
    "    out = model.generate(**model_inputs)\n",
    "    decoded_preds = tokenizer.batch_decode(out, skip_special_tokens=True)\n",
    "    pred_soup = BeautifulSoup(clean_predictions(decoded_preds[0]), \"lxml\")\n",
    "    timex_preds = pred_soup.findAll(\"timex3\")\n",
    "    new_text = find_timex_in_text(timex_preds, chunk, model_type)\n",
    "    print(new_text)"
   ]
  },
  {
   "cell_type": "code",
   "execution_count": 29,
   "metadata": {},
   "outputs": [],
   "source": [
    "# split text by punctuation and delete the punctuation\n",
    "\n",
    "def split_on_punctuation(text):\n",
    "    \"\"\"\n",
    "    Split the text into pieces on punctuation\n",
    "    \"\"\"\n",
    "    full_list = re.split(r\"([,.!?])\", text)\n",
    "    return [x for x in full_list if x not in [\",\", \".\", \"!\", \"?\"]]\n"
   ]
  },
  {
   "cell_type": "code",
   "execution_count": 31,
   "metadata": {},
   "outputs": [],
   "source": [
    "shorts = split_on_punctuation(db_output[\"text\"])"
   ]
  },
  {
   "cell_type": "code",
   "execution_count": 32,
   "metadata": {},
   "outputs": [
    {
     "name": "stderr",
     "output_type": "stream",
     "text": [
      "c:\\Users\\AnthonyWynne\\code_workspace\\text_temporal\\venv\\lib\\site-packages\\transformers\\generation\\utils.py:1387: UserWarning: Neither `max_length` nor `max_new_tokens` has been set, `max_length` will default to 512 (`self.config.max_length`). Controlling `max_length` via the config is deprecated and `max_length` will be removed from the config in v5 of Transformers -- we recommend using `max_new_tokens` to control the maximum length of the generation.\n",
      "  warnings.warn(\n"
     ]
    },
    {
     "name": "stdout",
     "output_type": "stream",
     "text": [
      "The  <TIMEX3 tid=\"t2\" type=\"DATE\" value=\"1995\">1995</TIMEX3> NCAA Division I men's lacrosse tournament was the 25th annual Division I NCAA Men's Lacrosse Championship tournament\n",
      " Twelve NCAA Division I college men's lacrosse teams met after having played their way through  <TIMEX3 tid=\"t2\" type=\"DURATION\" value=\"P1C\">a regular season</TIMEX3>\n",
      " and for some\n",
      " a conference  <TIMEX3 tid=\"t2\" type=\"DATE\" value=\"2015-FA\">tournament</TIMEX3>\n",
      "\n",
      "The championship game was played at Maryland's home field\n",
      "  <TIMEX3 tid=\"t2\" type=\"DATE\" value=\"1793-11\">Byrd Stadium</TIMEX3>\n",
      " in front of 26\n",
      " <TIMEX3 tid=\"t2\" type=\"DATE\" value=\"1998-09-23\">229</TIMEX3> fans\n",
      " The game saw Syracuse University defeat University of Maryland by the score of 13–9\n",
      "  <TIMEX3 tid=\"t2\" type=\"DATE\" value=\"2014-10-25\">Despite the loss</TIMEX3>\n",
      " Maryland goalie Brian Dougherty was named the tournament's Most Outstanding Player\n",
      " Dougherty was outstanding in the  <TIMEX3 tid=\"t2\" type=\"DURATION\" value=\"P5S\">semi-finals</TIMEX3>\n",
      " showing why he earned the award as Division I goalie of  <TIMEX3 tid=\"t2\" type=\"DURATION\" value=\"P1Y-#1\">the year</TIMEX3>\n",
      " making 23 saves on 59 shots\n",
      " In  <TIMEX3 tid=\"t2\" type=\"DATE\" value=\"2009-Q1\">the first quarter</TIMEX3>\n",
      " Hopkins' attack took 19 shots with Dougherty making  <TIMEX3 tid=\"t2\" type=\"DATE\" value=\"2014-12-25\">12</TIMEX3> saves\n",
      " allowing Maryland to take a  <TIMEX3 tid=\"t2\" type=\"DURATION\" value=\"P4Q\">4-1 first-quarter</TIMEX3> lead\n",
      "\n",
      "In the  <TIMEX3 tid=\"t2\" type=\"DATE\" value=\"FUTURE_REF\">finals</TIMEX3>\n",
      " Maryland led 4 to 2 with  <TIMEX3 tid=\"t2\" type=\"TIME\" value=\"2014-08-01TXX:00\">a minute left in the first half</TIMEX3> before the Orange exploded to three straight goals to claim a 5-4 half time lead and that momentum led to the victory\n",
      " Dougherty again had 23 saves in the  <TIMEX3 tid=\"t2\" type=\"DATE\" value=\"FUTURE_REF\">finals</TIMEX3>\n",
      "\n",
      "Despite being on the losing  <TIMEX3 tid=\"t2\" type=\"DURATION\" value=\"P2D\">side</TIMEX3>\n",
      " Maryland goalie Brian Dougherty was named most\n",
      "outstanding player\n",
      " Also honored on the All-Tournament team were  <TIMEX3 tid=\"t2\" type=\"DATE\" value=\"2014-11-15\">Syracuse</TIMEX3>’s Mark Fietta\n",
      "  <TIMEX3 tid=\"t2\" type=\"DATE\" value=\"2014-12-25\">Nick</TIMEX3> Licameli\n",
      " Rob Kavovit\n",
      " Ric Beardsley and Casey Powell\n",
      " as  <TIMEX3 tid=\"t2\" type=\"DATE\" value=\"2014-11-01\">well</TIMEX3> as Dan Radebaugh\n",
      " Matt  <TIMEX3 tid=\"t2\" type=\"DATE\" value=\"2013-11-23\">H</TIMEX3>ahn\n",
      " Peter Hilgartner and Rob Chomo for the Terrapins\n",
      "\n",
      "For the 25th Division I  <TIMEX3 tid=\"t2\" type=\"DATE\" value=\"2015-03-23\">tournament</TIMEX3>\n",
      " a 25th anniversary  <TIMEX3 tid=\"t2\" type=\"DATE\" value=\"2014-11-25\">All-time</TIMEX3> team was selected\n",
      " This team was nominated and selected based on the voting of all  <TIMEX3 tid=\"t2\" type=\"DATE\" value=\"PRESENT_REF\">current</TIMEX3> and past Division I head coaches and all current and past members of the NCAA Men’s Lacrosse Committee\n",
      " The members of the team\n",
      " followed by their last year of competition included: Scott Bacigalupo Princeton  <TIMEX3 tid=\"t2\" type=\"DATE\" value=\"1994-XX\">1994</TIMEX3>\n",
      " Tom Cafaro Army  <TIMEX3 tid=\"t2\" type=\"DATE\" value=\"1971-XX\">1971</TIMEX3>\n",
      " John DeTomasso Johns Hopkins  <TIMEX3 tid=\"t2\" type=\"DATE\" value=\"1986\">1986</TIMEX3>\n",
      " Del Dressel Johns Hopkins  <TIMEX3 tid=\"t2\" type=\"DATE\" value=\"1986-XX\">1986</TIMEX3>\n",
      " Mike Federico Johns Hopkins  <TIMEX3 tid=\"t2\" type=\"DATE\" value=\"1980-10\">1980</TIMEX3>\n",
      " Mike French Cornell  <TIMEX3 tid=\"t2\" type=\"DATE\" value=\"1976\">1976</TIMEX3>\n",
      " Gary Gait Syracuse  <TIMEX3 tid=\"t2\" type=\"DATE\" value=\"1990-10-02\">1990</TIMEX3>\n",
      " Paul Gait Syracuse  <TIMEX3 tid=\"t2\" type=\"DATE\" value=\"1990\">1990</TIMEX3>\n",
      " Mark Greenberg Johns Hopkins  <TIMEX3 tid=\"t2\" type=\"DATE\" value=\"1980\">1980</TIMEX3>\n",
      " Tom Haus North Carolina 1980\n",
      " Chris Kane Cornell  <TIMEX3 tid=\"t2\" type=\"DATE\" value=\"1979\">1979</TIMEX3>\n",
      " Brad Kotz Syracuse  <TIMEX3 tid=\"t2\" type=\"DATE\" value=\"1985\">1985</TIMEX3>\n",
      " Richard Kowalchuk Johns Hopkins  <TIMEX3 tid=\"t2\" type=\"DATE\" value=\"1974-XX\">1974</TIMEX3>\n",
      " Dan MacKesey Cornell  <TIMEX3 tid=\"t2\" type=\"DATE\" value=\"1977\">1977</TIMEX3>\n",
      " Eamon McEneaney Cornell  <TIMEX3 tid=\"t2\" type=\"DATE\" value=\"1977\">1977</TIMEX3>\n",
      " David Morrow Princeton  <TIMEX3 tid=\"t2\" type=\"DATE\" value=\"1993\">1993</TIMEX3>\n",
      " Tim Nelson Syracuse  <TIMEX3 tid=\"t2\" type=\"DATE\" value=\"1985\">1985</TIMEX3>\n",
      " Mike O’Neill Johns Hopkins  <TIMEX3 tid=\"t2\" type=\"DATE\" value=\"1978\">1978</TIMEX3>\n",
      " Dave Pietramala Johns Hopkins  <TIMEX3 tid=\"t2\" type=\"DATE\" value=\"1989-XX\">1989</TIMEX3>\n",
      " Larry Quinn Johns Hopkins  <TIMEX3 tid=\"t2\" type=\"DATE\" value=\"1985\">1985</TIMEX3>\n",
      " Jonathan Reese Yale  <TIMEX3 tid=\"t2\" type=\"DATE\" value=\"1990\">1990</TIMEX3>\n",
      " Brendan Schneck Johns Hopkins  <TIMEX3 tid=\"t2\" type=\"DATE\" value=\"1981-XX\">1981</TIMEX3>\n",
      " Tom Sears North Carolina  <TIMEX3 tid=\"t2\" type=\"DATE\" value=\"1983-XX\">1983</TIMEX3>\n",
      " Jack Thomas Johns Hopkins  <TIMEX3 tid=\"t2\" type=\"DATE\" value=\"1974-XX\">1974</TIMEX3>\n",
      " Frank Urso Maryland  <TIMEX3 tid=\"t2\" type=\"DATE\" value=\"1976\">1976</TIMEX3>\n",
      "\n",
      "\n",
      "\n",
      "== Bracket ==\n",
      "*  =   <TIMEX3 tid=\"t2\" type=\"TIME\" value=\"2013-05-30TXX\">Overtime</TIMEX3>\n",
      "\n",
      "\n",
      "=== Box scores ===\n",
      "Tournament Finals\n",
      "\n",
      "Tournament Semi-finals\n",
      "\n",
      "Tournament Quarterfinals\n",
      "\n",
      "Tournament First Round\n",
      "\n",
      "\n",
      "== All-Tournament Team ==\n",
      "Brian Dougherty\n",
      " Maryland (Named the tournament's Most Outs <TIMEX3 tid=\"t2\" type=\"DATE\" value=\"2014-11-01\">ta</TIMEX3>nding Player)\n",
      "Mark Fietta\n",
      " Syracuse\n",
      "<TIMEX3 tid=\"t2\" type=\"DATE\" value=\"2014-12-25\">Nick</TIMEX3> Licameli\n",
      " Syracuse\n",
      "Rob Kavovit\n",
      "  <TIMEX3 tid=\"t2\" type=\"DATE\" value=\"2013-11-23\">Syracuse</TIMEX3>\n",
      "Ric Beardsley\n",
      " Syracuse\n",
      "Casey  <TIMEX3 tid=\"t2\" type=\"DATE\" value=\"2014-12-25\">Powell</TIMEX3>\n",
      " Syracuse\n",
      "Dan  <TIMEX3 tid=\"t2\" type=\"DATE\" value=\"2014-09-17\">Rade</TIMEX3>baugh\n",
      " Maryland\n",
      "Matt Hahn\n",
      " Maryland\n",
      "Peter Hilgartner\n",
      " Maryland\n",
      "Rob Chomo\n",
      " Maryland\n",
      "\n",
      "\n",
      "== See also ==\n",
      "<TIMEX3 tid=\"t2\" type=\"DATE\" value=\"1995\">1995</TIMEX3> NCAA Division I Women's Lacrosse Championship\n",
      "1995 NCAA Division II Lacrosse Championship\n",
      "\n",
      "\n",
      "== References ==\n"
     ]
    }
   ],
   "source": [
    "for short in shorts:\n",
    "    model_inputs = tokenizer(short, truncation=True, return_tensors=\"pt\")\n",
    "    out = model.generate(**model_inputs)\n",
    "    decoded_preds = tokenizer.batch_decode(out, skip_special_tokens=True)\n",
    "    pred_soup = BeautifulSoup(clean_predictions(decoded_preds[0]), \"lxml\")\n",
    "    timex_preds = pred_soup.findAll(\"timex3\")\n",
    "    new_text = find_timex_in_text(timex_preds, short, model_type)\n",
    "    print(new_text)"
   ]
  },
  {
   "cell_type": "code",
   "execution_count": 33,
   "metadata": {},
   "outputs": [
    {
     "name": "stderr",
     "output_type": "stream",
     "text": [
      "c:\\Users\\AnthonyWynne\\code_workspace\\text_temporal\\venv\\lib\\site-packages\\transformers\\generation\\utils.py:1387: UserWarning: Neither `max_length` nor `max_new_tokens` has been set, `max_length` will default to 512 (`self.config.max_length`). Controlling `max_length` via the config is deprecated and `max_length` will be removed from the config in v5 of Transformers -- we recommend using `max_new_tokens` to control the maximum length of the generation.\n",
      "  warnings.warn(\n"
     ]
    }
   ],
   "source": [
    "all_timex = []\n",
    "for short in shorts:\n",
    "    model_inputs = tokenizer(short, truncation=True, return_tensors=\"pt\")\n",
    "    out = model.generate(**model_inputs)\n",
    "    decoded_preds = tokenizer.batch_decode(out, skip_special_tokens=True)\n",
    "    pred_soup = BeautifulSoup(clean_predictions(decoded_preds[0]), \"lxml\")\n",
    "    timex_preds = pred_soup.findAll(\"timex3\")\n",
    "    all_timex += timex_preds"
   ]
  },
  {
   "cell_type": "code",
   "execution_count": 34,
   "metadata": {},
   "outputs": [
    {
     "data": {
      "text/plain": [
       "[<timex3 type=\"DATE\" value=\"1995\"> 1995 </timex3>,\n",
       " <timex3 type=\"DURATION\" value=\"P1C\"> a regular season </timex3>,\n",
       " <timex3 type=\"DATE\" value=\"2014-05-23\"> </timex3>,\n",
       " <timex3 type=\"DATE\" value=\"2015-FA\"> tournament </timex3>,\n",
       " <timex3 type=\"DATE\" value=\"2015-09-23\"> </timex3>,\n",
       " <timex3 type=\"DATE\" value=\"1793-11\"> Byrd Stadium </timex3>,\n",
       " <timex3 type=\"DATE\" value=\"1998-09-23\"> 229  fans&gt;... <duration> fans  fan fans )&gt;..</duration></timex3>,\n",
       " <timex3 type=\"DURATION\" value=\"P9Y\"> 9 </timex3>,\n",
       " <timex3 type=\"DATE\" value=\"2014-10-25\"> Despite the loss </timex3>,\n",
       " <timex3 type=\"DURATION\" value=\"P5S\"> semi-finals . &gt; \"finals \"<time sort=\"SET\" value=\"XXXX-XX-3\" x3=\"\"> Semi-months </time></timex3>,\n",
       " <timex3 type=\"DURATION\" value=\"P1Y-#1\"> the year  </timex3>,\n",
       " <timex3 type=\"DURATION\" value=\"PT59M\"> </timex3>,\n",
       " <timex3 type=\"DATE\" value=\"2009-Q1\"> the first quarter </timex3>,\n",
       " <timex3 type=\"DATE\" value=\"2014-12-25\"> 12 </timex3>,\n",
       " <timex3 type=\"DURATION\" value=\"P4Q\"> 4-1 first-quarter </timex3>,\n",
       " <timex3 type=\"DATE\" value=\"FUTURE_REF\"> finals </timex3>,\n",
       " <timex3 type=\"TIME\" value=\"2014-08-01TXX:00\"> a minute left in the first half </timex3>,\n",
       " <timex3 type=\"DATE\" value=\"FUTURE_REF\"> finals </timex3>,\n",
       " <timex3 type=\"DURATION\" value=\"P2D\"> side </timex3>,\n",
       " <timex3 type=\"DATE\" value=\"2014-11-10\"> nearly </timex3>,\n",
       " <timex3 type=\"DATE\" value=\"2014-11-15\">  Syracuse</timex3>,\n",
       " <timex3 type=\"DATE\" value=\"2014-12-25\"> Nick Liceli  &gt;. LicELi Nick [ Nick Lamelamel i <dast_ref></dast_ref></timex3>,\n",
       " <timex3 type=\"DATE\" value=\"2014-09-11\">  Nov Kovovat &gt;. KAVovi&gt; )</timex3>,\n",
       " <timex3 type=\"DATE\" value=\"2015-12-25\"> </timex3>,\n",
       " <timex3 type=\"DATE\" value=\"2014-11-01\"> at well  as Daniel AS DanRadevm </timex3>,\n",
       " <timex3 type=\"DATE\" value=\"2013-11-23\"> . Hohn . Lahn&gt; H &lt;&gt; Lah</timex3>,\n",
       " <timex3 type=\"DATE\" value=\"2014-11-25\"> </timex3>,\n",
       " <timex3 type=\"DATE\" value=\"2015-03-23\"> and tournament 25 tournament • tournament T tournament I luck I tournaments  &lt;&gt;</timex3>,\n",
       " <timex3 type=\"DATE\" value=\"2014-11-25\"> All-time </timex3>,\n",
       " <timex3 type=\"DATE\" value=\"PRESENT_REF\"> current </timex3>,\n",
       " <timex3 type=\"DATE\" value=\"2013-09-08\"> team  # team&gt;. The Members of THE team</timex3>,\n",
       " <timex3 type=\"DATE\" value=\"1994-XX\"> 1994  Princeton 1994. \"<timexi>, Princeton n &gt; \"t </timexi></timex3>,\n",
       " <timex3 type=\"DATE\" value=\"1971-XX\"> 1971 </timex3>,\n",
       " <timex3 type=\"DATE\" value=\"1986\"> 1986 </timex3>,\n",
       " <timex3 type=\"DATE\" value=\"1986-XX\"> 1986 </timex3>,\n",
       " <timex3 type=\"DATE\" value=\"1980-10\"> 1980 </timex3>,\n",
       " <timex3 type=\"DATE\" value=\"1976\"> 1976 </timex3>,\n",
       " <timex3 type=\"DATE\" value=\"1990-10-02\"> 1990 </timex3>,\n",
       " <timex3 type=\"DATE\" value=\"1990\"> 1990 </timex3>,\n",
       " <timex3 type=\"DATE\" value=\"1980\"> 1980 </timex3>,\n",
       " <timex3 type=\"DATE\" value=\"1980\"> 1980   LausNorth Carolina 1980. HP North Hurricane \"<timec>1980</timec></timex3>,\n",
       " <timex3 type=\"DATE\" value=\"1979\"> 1979 </timex3>,\n",
       " <timex3 type=\"DATE\" value=\"1985\"> 1985 </timex3>,\n",
       " <timex3 type=\"DATE\" value=\"1974-XX\"> 1974 </timex3>,\n",
       " <timex3 type=\"DATE\" value=\"1977\"> 1977 . Matt Mackesei Cornell 1977 MacMacKasey Cedar &gt; [ MacMesee Cornell F ​ </timex3>,\n",
       " <timex3 type=\"DATE\" value=\"1977\"> 1977 </timex3>,\n",
       " <timex3 type=\"DATE\" value=\"1993\"> 1993 </timex3>,\n",
       " <timex3 type=\"DATE\" value=\"1985\"> 1985 </timex3>,\n",
       " <timex3 type=\"DATE\" value=\"1978\"> 1978 </timex3>,\n",
       " <timex3 type=\"DATE\" value=\"1989-XX\"> 1989 </timex3>,\n",
       " <timex3 type=\"DATE\" value=\"1985\"> 1985 </timex3>,\n",
       " <timex3 type=\"DATE\" value=\"1990\"> 1990 </timex3>,\n",
       " <timex3 type=\"DATE\" value=\"1981-XX\"> 1981 </timex3>,\n",
       " <timex3 type=\"DATE\" value=\"1983-XX\"> 1983  &gt;. Yu Sears N Carolina 1983 Madrid H Carolina D Carolina Index </timex3>,\n",
       " <timex3 type=\"DATE\" value=\"1974-XX\"> 1974 </timex3>,\n",
       " <timex3 type=\"DATE\" value=\"1976\"> 1976 </timex3>,\n",
       " <timex3 type=\"TIME\" value=\"2013-05-30TXX\"> 5 Overtime </timex3>,\n",
       " <timex3 type=\"DATE\" value=\"2014-11-01\">ta  October</timex3>,\n",
       " <timex3 type=\"DATE\" value=\"2014-12-25\">  -NickNick Nick Liceli &lt;&gt;...N LicELi iNick L Licleri</timex3>,\n",
       " <timex3 type=\"DATE\" value=\"2014-11-18\"> . <rt>ititITitukit.&gt; ​Rob Khavevit</rt></timex3>,\n",
       " <timex3 type=\"DATE\" value=\"2013-11-23\"> Syracuse </timex3>,\n",
       " <timex3 type=\"DATE\" value=\"2014-12-25\"> Powell   <dast_everyt18:00> DraperypAST </dast_everyt18:00></timex3>,\n",
       " <timex3 type=\"DATE\" value=\"2014-09-17\"> Rade </timex3>,\n",
       " <timex3 type=\"DATE\" value=\"2013-11-03\"> </timex3>,\n",
       " <timex3 type=\"DATE\" value=\"2014\"> </timex3>,\n",
       " <timex3 type=\"DATE\" value=\"1995\">1995 </timex3>]"
      ]
     },
     "execution_count": 34,
     "metadata": {},
     "output_type": "execute_result"
    }
   ],
   "source": [
    "all_timex"
   ]
  },
  {
   "cell_type": "code",
   "execution_count": 35,
   "metadata": {},
   "outputs": [
    {
     "data": {
      "text/plain": [
       "<html><body><p>Maryland, e== See also ==-1995 NCAA Division I Women's Lacrosse Championship ( <timex3 type=\"DATE\" value=\"1995\">1995 </timex3> MC Division II Lacesis Championship-HK== References == <timesx0497></timesx0497></p></body></html>"
      ]
     },
     "execution_count": 35,
     "metadata": {},
     "output_type": "execute_result"
    }
   ],
   "source": [
    "pred_soup"
   ]
  },
  {
   "cell_type": "code",
   "execution_count": 36,
   "metadata": {},
   "outputs": [
    {
     "data": {
      "text/plain": [
       "[' Maryland, e== See also ==-1995 NCAA Division I Women\\'s Lacrosse Championship ( <timex3 type=\"DATE\" value=\"1995\">1995 </timeX3>  MC Division II Lacesis Championship-HK== References ==  <timesx0497\">']"
      ]
     },
     "execution_count": 36,
     "metadata": {},
     "output_type": "execute_result"
    }
   ],
   "source": [
    "decoded_preds"
   ]
  },
  {
   "cell_type": "code",
   "execution_count": 39,
   "metadata": {},
   "outputs": [
    {
     "name": "stderr",
     "output_type": "stream",
     "text": [
      "c:\\Users\\AnthonyWynne\\code_workspace\\text_temporal\\venv\\lib\\site-packages\\transformers\\generation\\utils.py:1387: UserWarning: Neither `max_length` nor `max_new_tokens` has been set, `max_length` will default to 512 (`self.config.max_length`). Controlling `max_length` via the config is deprecated and `max_length` will be removed from the config in v5 of Transformers -- we recommend using `max_new_tokens` to control the maximum length of the generation.\n",
      "  warnings.warn(\n"
     ]
    },
    {
     "name": "stdout",
     "output_type": "stream",
     "text": [
      " type=\"DATE\" value=\"1995\"> 1995 </timeX3>  NCAA Division I men's lacrosse tournament was the 25th annual DivisionI NCAA Men's Lacrosse Championship tournament  \"<timeux=\"REF\"></timeXX\">\n",
      " type=\"DURATION\" value=\"P1C\"> a regular season </timeX3>  >.  regular Division  \"<time x3 quant=\"E\n",
      " type=\"DATE\" value=\"2014-05-23\"> </timeX3>.  <DURATION\" Value=\"PXM\"> Some for SOME </D\"> and FOR some </> >>...  </dd\n",
      " type=\"DATE\" value=\"2015-FA\"> tournament </time x3> >.  conference tournament  this conference tournaments  </>> \" <D conferenceTD  a Conference tournament</timeq=\"TAST_REF\">\n",
      " type=\"DATE\" value=\"2015-09-23\"> </time x3>  at home's homes field field</timeX>'s home Field field <at'>>\n",
      " type=\"DATE\" value=\"1793-11\"> Byrd Stadium </time x3>   <DAST_REF\"> Stadium Stadium</time03>. <TIME\" valuation=\"2015-03-23TNI\"> Night Stadium> )\n"
     ]
    },
    {
     "ename": "IndexError",
     "evalue": "list index out of range",
     "output_type": "error",
     "traceback": [
      "\u001b[1;31m---------------------------------------------------------------------------\u001b[0m",
      "\u001b[1;31mIndexError\u001b[0m                                Traceback (most recent call last)",
      "Cell \u001b[1;32mIn[39], line 8\u001b[0m\n\u001b[0;32m      6\u001b[0m \u001b[39m# extract the timex tags\u001b[39;00m\n\u001b[0;32m      7\u001b[0m \u001b[39mfor\u001b[39;00m pred \u001b[39min\u001b[39;00m decoded_preds:\n\u001b[1;32m----> 8\u001b[0m     timex_preds \u001b[39m=\u001b[39m pred\u001b[39m.\u001b[39;49msplit(\u001b[39m\"\u001b[39;49m\u001b[39m<timex3\u001b[39;49m\u001b[39m\"\u001b[39;49m)[\u001b[39m1\u001b[39;49m]\n\u001b[0;32m      9\u001b[0m     \u001b[39mprint\u001b[39m(timex_preds)\n\u001b[0;32m     10\u001b[0m     \u001b[39mbreak\u001b[39;00m\n",
      "\u001b[1;31mIndexError\u001b[0m: list index out of range"
     ]
    }
   ],
   "source": [
    "all_timex = []\n",
    "for short in shorts:\n",
    "    model_inputs = tokenizer(short, truncation=True, return_tensors=\"pt\")\n",
    "    out = model.generate(**model_inputs)\n",
    "    decoded_preds = tokenizer.batch_decode(out, skip_special_tokens=True, )\n",
    "    # extract the timex tags\n",
    "    for pred in decoded_preds:\n",
    "        timex_preds = pred.split(\"<timex3\")[1]\n",
    "        print(timex_preds)\n",
    "        break\n",
    "\n",
    "    # pred_soup = BeautifulSoup(clean_predictions(decoded_preds[0]), \"lxml\")\n",
    "    # timex_preds = pred_soup.findAll(\"timex3\")\n",
    "    # all_timex += timex_preds"
   ]
  },
  {
   "cell_type": "code",
   "execution_count": null,
   "metadata": {},
   "outputs": [],
   "source": []
  }
 ],
 "metadata": {
  "kernelspec": {
   "display_name": "venv",
   "language": "python",
   "name": "python3"
  },
  "language_info": {
   "codemirror_mode": {
    "name": "ipython",
    "version": 3
   },
   "file_extension": ".py",
   "mimetype": "text/x-python",
   "name": "python",
   "nbconvert_exporter": "python",
   "pygments_lexer": "ipython3",
   "version": "3.9.7"
  },
  "orig_nbformat": 4,
  "vscode": {
   "interpreter": {
    "hash": "0105bf7ee2e394601d98cbdcd0652870161dfa2551359b9541cf65763133aa5e"
   }
  }
 },
 "nbformat": 4,
 "nbformat_minor": 2
}
